{
 "cells": [
  {
   "metadata": {
    "ExecuteTime": {
     "end_time": "2025-05-17T16:22:12.484934Z",
     "start_time": "2025-05-17T16:22:09.309209Z"
    }
   },
   "cell_type": "code",
   "source": [
    "import sys\n",
    "sys.path.append('..')\n",
    "from grail_metabolism.utils.optuna import OptunaWrapper\n",
    "from grail_metabolism.utils.preparation import MolFrame"
   ],
   "id": "870ffd9a6186b8e",
   "outputs": [
    {
     "name": "stdout",
     "output_type": "stream",
     "text": [
      "ATTENTION: RXNMapper is not installed. Please install it first if you want to create your own set of rules.\n",
      "ATTENTION: you use incorrect for rxnmapper version of rdkit\n"
     ]
    }
   ],
   "execution_count": 1
  },
  {
   "metadata": {
    "ExecuteTime": {
     "end_time": "2025-05-17T16:22:28.598012Z",
     "start_time": "2025-05-17T16:22:28.595323Z"
    }
   },
   "cell_type": "code",
   "source": "tune = OptunaWrapper()",
   "id": "37452ffe6cf68b01",
   "outputs": [],
   "execution_count": 2
  },
  {
   "metadata": {
    "ExecuteTime": {
     "end_time": "2025-05-17T16:24:20.014745Z",
     "start_time": "2025-05-17T16:22:34.130241Z"
    }
   },
   "cell_type": "code",
   "source": [
    "val_triples = MolFrame.read_triples('../grail_metabolism/data/val_triples.txt')\n",
    "val_frame = MolFrame.from_file('../grail_metabolism/data/val.sdf', val_triples, standartize=False)"
   ],
   "id": "219d073541ccf370",
   "outputs": [
    {
     "data": {
      "text/plain": [
       "Processing reactions:   0%|          | 0/1061 [00:00<?, ?it/s]"
      ],
      "application/vnd.jupyter.widget-view+json": {
       "version_major": 2,
       "version_minor": 0,
       "model_id": "c913e6694c1b4d19aa57ecaa083e8366"
      }
     },
     "metadata": {},
     "output_type": "display_data"
    }
   ],
   "execution_count": 3
  },
  {
   "metadata": {
    "ExecuteTime": {
     "end_time": "2025-05-17T16:30:36.949769Z",
     "start_time": "2025-05-17T16:25:32.147567Z"
    }
   },
   "cell_type": "code",
   "source": [
    "val_frame.negatives()\n",
    "val_frame.morganize()\n",
    "val_frame.singlegraphs()"
   ],
   "id": "7b3540aa355bfd66",
   "outputs": [
    {
     "data": {
      "text/plain": [
       "  0%|          | 0/36621 [00:00<?, ?it/s]"
      ],
      "application/vnd.jupyter.widget-view+json": {
       "version_major": 2,
       "version_minor": 0,
       "model_id": "26374d23d262480fafe0d0625629440d"
      }
     },
     "metadata": {},
     "output_type": "display_data"
    },
    {
     "data": {
      "text/plain": [
       "  0%|          | 0/1035 [00:00<?, ?it/s]"
      ],
      "application/vnd.jupyter.widget-view+json": {
       "version_major": 2,
       "version_minor": 0,
       "model_id": "da6e4d91dceb4365b7f1e186967b790f"
      }
     },
     "metadata": {},
     "output_type": "display_data"
    },
    {
     "data": {
      "text/plain": [
       "  0%|          | 0/1024 [00:00<?, ?it/s]"
      ],
      "application/vnd.jupyter.widget-view+json": {
       "version_major": 2,
       "version_minor": 0,
       "model_id": "e8828af1070e4be4b1f045af8bd99682"
      }
     },
     "metadata": {},
     "output_type": "display_data"
    },
    {
     "data": {
      "text/plain": [
       "  0%|          | 0/36012 [00:00<?, ?it/s]"
      ],
      "application/vnd.jupyter.widget-view+json": {
       "version_major": 2,
       "version_minor": 0,
       "model_id": "13c56e33e85344f59ec98f3a1e4563a3"
      }
     },
     "metadata": {},
     "output_type": "display_data"
    },
    {
     "name": "stdout",
     "output_type": "stream",
     "text": [
      "Some issue happened with this molecule:\n",
      "I tensor([], size=(0, 18), dtype=torch.float64) tensor([[ -1.7835, -13.7837,   0.2648,   0.9855,  -0.0512,   6.1740,  16.5073,\n",
      "          -0.8586,  12.9492,  -6.1578]], dtype=torch.float64)\n",
      "Some issue happened with this molecule:\n",
      "F tensor([], size=(0, 18), dtype=torch.float64) tensor([[ 0.3778, -2.9029, -0.0516,  0.0207, -0.0122,  0.2819,  0.6688, -0.5291,\n",
      "         -0.0579,  0.9071]], dtype=torch.float64)\n"
     ]
    }
   ],
   "execution_count": 4
  },
  {
   "metadata": {
    "ExecuteTime": {
     "end_time": "2025-05-17T16:31:15.738346Z",
     "start_time": "2025-05-17T16:31:15.724122Z"
    }
   },
   "cell_type": "code",
   "source": [
    "with open('../grail_metabolism/data/smirks.txt') as f:\n",
    "    rules = f.read().splitlines()"
   ],
   "id": "da79235cdec95c60",
   "outputs": [],
   "execution_count": 5
  },
  {
   "metadata": {
    "ExecuteTime": {
     "end_time": "2025-05-17T16:31:51.832080Z",
     "start_time": "2025-05-17T16:31:51.814715Z"
    }
   },
   "cell_type": "code",
   "source": [
    "from grail_metabolism.utils.transform import from_rule\n",
    "from tqdm.auto import tqdm"
   ],
   "id": "8d07da97002b9d45",
   "outputs": [],
   "execution_count": 7
  },
  {
   "metadata": {
    "ExecuteTime": {
     "end_time": "2025-05-17T16:32:34.008484Z",
     "start_time": "2025-05-17T16:32:19.649670Z"
    }
   },
   "cell_type": "code",
   "source": "rule_dict = {rule: from_rule(rule) for rule in tqdm(rules)}",
   "id": "98565d4719cc745f",
   "outputs": [
    {
     "data": {
      "text/plain": [
       "  0%|          | 0/474 [00:00<?, ?it/s]"
      ],
      "application/vnd.jupyter.widget-view+json": {
       "version_major": 2,
       "version_minor": 0,
       "model_id": "940243dabeed420ab0223ede96936fe2"
      }
     },
     "metadata": {},
     "output_type": "display_data"
    }
   ],
   "execution_count": 8
  },
  {
   "metadata": {
    "ExecuteTime": {
     "end_time": "2025-05-17T16:36:38.963577Z",
     "start_time": "2025-05-17T16:33:12.468585Z"
    }
   },
   "cell_type": "code",
   "source": "study = tune.make_study(val_frame, val_frame, 'generator', rule_dict=rule_dict)",
   "id": "b8dad43210d04074",
   "outputs": [
    {
     "name": "stderr",
     "output_type": "stream",
     "text": [
      "\u001B[32m[I 2025-05-17 19:33:12,470]\u001B[0m A new study created in memory with name: generator\u001B[0m\n"
     ]
    },
    {
     "data": {
      "text/plain": [
       "  0%|          | 0/1035 [00:00<?, ?it/s]"
      ],
      "application/vnd.jupyter.widget-view+json": {
       "version_major": 2,
       "version_minor": 0,
       "model_id": "5f6b06b2fd924d50843717ef0fa4f9f1"
      }
     },
     "metadata": {},
     "output_type": "display_data"
    },
    {
     "name": "stderr",
     "output_type": "stream",
     "text": [
      "Exception in thread Thread-19972:\n",
      "Traceback (most recent call last):\n",
      "  File \"/Users/nikitapolomosnov/anaconda3/envs/aizynth-env/lib/python3.10/threading.py\", line 1016, in _bootstrap_inner\n",
      "    self.run()\n",
      "  File \"/Users/nikitapolomosnov/anaconda3/envs/aizynth-env/lib/python3.10/threading.py\", line 1378, in run\n",
      "    self.function(*self.args, **self.kwargs)\n",
      "  File \"/Users/nikitapolomosnov/PycharmProjects/GRAIL/grail_metabolism/../grail_metabolism/utils/preparation.py\", line 122, in _raise_timeout\n",
      "    raise TimeoutError\n",
      "TimeoutError\n",
      "Exception in thread Thread-22894:\n",
      "Traceback (most recent call last):\n",
      "  File \"/Users/nikitapolomosnov/anaconda3/envs/aizynth-env/lib/python3.10/threading.py\", line 1016, in _bootstrap_inner\n",
      "    self.run()\n",
      "  File \"/Users/nikitapolomosnov/anaconda3/envs/aizynth-env/lib/python3.10/threading.py\", line 1378, in run\n",
      "    self.function(*self.args, **self.kwargs)\n",
      "  File \"/Users/nikitapolomosnov/PycharmProjects/GRAIL/grail_metabolism/../grail_metabolism/utils/preparation.py\", line 122, in _raise_timeout\n",
      "    raise TimeoutError\n",
      "TimeoutError\n",
      "Exception in thread Thread-23251:\n",
      "Traceback (most recent call last):\n",
      "  File \"/Users/nikitapolomosnov/anaconda3/envs/aizynth-env/lib/python3.10/threading.py\", line 1016, in _bootstrap_inner\n",
      "    self.run()\n",
      "  File \"/Users/nikitapolomosnov/anaconda3/envs/aizynth-env/lib/python3.10/threading.py\", line 1378, in run\n",
      "    self.function(*self.args, **self.kwargs)\n",
      "  File \"/Users/nikitapolomosnov/PycharmProjects/GRAIL/grail_metabolism/../grail_metabolism/utils/preparation.py\", line 122, in _raise_timeout\n",
      "    raise TimeoutError\n",
      "TimeoutError\n"
     ]
    },
    {
     "ename": "KeyboardInterrupt",
     "evalue": "",
     "output_type": "error",
     "traceback": [
      "\u001B[0;31m---------------------------------------------------------------------------\u001B[0m",
      "\u001B[0;31mKeyboardInterrupt\u001B[0m                         Traceback (most recent call last)",
      "Cell \u001B[0;32mIn[10], line 1\u001B[0m\n\u001B[0;32m----> 1\u001B[0m study \u001B[38;5;241m=\u001B[39m \u001B[43mtune\u001B[49m\u001B[38;5;241;43m.\u001B[39;49m\u001B[43mmake_study\u001B[49m\u001B[43m(\u001B[49m\u001B[43mval_frame\u001B[49m\u001B[43m,\u001B[49m\u001B[43m \u001B[49m\u001B[43mval_frame\u001B[49m\u001B[43m,\u001B[49m\u001B[43m \u001B[49m\u001B[38;5;124;43m'\u001B[39;49m\u001B[38;5;124;43mgenerator\u001B[39;49m\u001B[38;5;124;43m'\u001B[39;49m\u001B[43m,\u001B[49m\u001B[43m \u001B[49m\u001B[43mrule_dict\u001B[49m\u001B[38;5;241;43m=\u001B[39;49m\u001B[43mrule_dict\u001B[49m\u001B[43m)\u001B[49m\n",
      "File \u001B[0;32m~/PycharmProjects/GRAIL/grail_metabolism/../grail_metabolism/utils/optuna.py:64\u001B[0m, in \u001B[0;36mOptunaWrapper.make_study\u001B[0;34m(self, train_set, test_set, direction, rule_dict)\u001B[0m\n\u001B[1;32m     61\u001B[0m         _, loss \u001B[38;5;241m=\u001B[39m train_set\u001B[38;5;241m.\u001B[39mtrain_generator(model, lr, eps\u001B[38;5;241m=\u001B[39m\u001B[38;5;241m10\u001B[39m, decay\u001B[38;5;241m=\u001B[39mdecay)\n\u001B[1;32m     62\u001B[0m         \u001B[38;5;28;01mreturn\u001B[39;00m loss\n\u001B[0;32m---> 64\u001B[0m \u001B[43mstudy\u001B[49m\u001B[38;5;241;43m.\u001B[39;49m\u001B[43moptimize\u001B[49m\u001B[43m(\u001B[49m\u001B[43mobjective\u001B[49m\u001B[43m,\u001B[49m\u001B[43m \u001B[49m\u001B[43mn_trials\u001B[49m\u001B[38;5;241;43m=\u001B[39;49m\u001B[38;5;241;43m100\u001B[39;49m\u001B[43m)\u001B[49m\n\u001B[1;32m     65\u001B[0m \u001B[38;5;28mself\u001B[39m\u001B[38;5;241m.\u001B[39mstudy \u001B[38;5;241m=\u001B[39m study\n",
      "File \u001B[0;32m~/anaconda3/envs/aizynth-env/lib/python3.10/site-packages/optuna/study/study.py:400\u001B[0m, in \u001B[0;36mStudy.optimize\u001B[0;34m(self, func, n_trials, timeout, n_jobs, catch, callbacks, gc_after_trial, show_progress_bar)\u001B[0m\n\u001B[1;32m    392\u001B[0m \u001B[38;5;28;01mif\u001B[39;00m n_jobs \u001B[38;5;241m!=\u001B[39m \u001B[38;5;241m1\u001B[39m:\n\u001B[1;32m    393\u001B[0m     warnings\u001B[38;5;241m.\u001B[39mwarn(\n\u001B[1;32m    394\u001B[0m         \u001B[38;5;124m\"\u001B[39m\u001B[38;5;124m`n_jobs` argument has been deprecated in v2.7.0. \u001B[39m\u001B[38;5;124m\"\u001B[39m\n\u001B[1;32m    395\u001B[0m         \u001B[38;5;124m\"\u001B[39m\u001B[38;5;124mThis feature will be removed in v4.0.0. \u001B[39m\u001B[38;5;124m\"\u001B[39m\n\u001B[1;32m    396\u001B[0m         \u001B[38;5;124m\"\u001B[39m\u001B[38;5;124mSee https://github.com/optuna/optuna/releases/tag/v2.7.0.\u001B[39m\u001B[38;5;124m\"\u001B[39m,\n\u001B[1;32m    397\u001B[0m         \u001B[38;5;167;01mFutureWarning\u001B[39;00m,\n\u001B[1;32m    398\u001B[0m     )\n\u001B[0;32m--> 400\u001B[0m \u001B[43m_optimize\u001B[49m\u001B[43m(\u001B[49m\n\u001B[1;32m    401\u001B[0m \u001B[43m    \u001B[49m\u001B[43mstudy\u001B[49m\u001B[38;5;241;43m=\u001B[39;49m\u001B[38;5;28;43mself\u001B[39;49m\u001B[43m,\u001B[49m\n\u001B[1;32m    402\u001B[0m \u001B[43m    \u001B[49m\u001B[43mfunc\u001B[49m\u001B[38;5;241;43m=\u001B[39;49m\u001B[43mfunc\u001B[49m\u001B[43m,\u001B[49m\n\u001B[1;32m    403\u001B[0m \u001B[43m    \u001B[49m\u001B[43mn_trials\u001B[49m\u001B[38;5;241;43m=\u001B[39;49m\u001B[43mn_trials\u001B[49m\u001B[43m,\u001B[49m\n\u001B[1;32m    404\u001B[0m \u001B[43m    \u001B[49m\u001B[43mtimeout\u001B[49m\u001B[38;5;241;43m=\u001B[39;49m\u001B[43mtimeout\u001B[49m\u001B[43m,\u001B[49m\n\u001B[1;32m    405\u001B[0m \u001B[43m    \u001B[49m\u001B[43mn_jobs\u001B[49m\u001B[38;5;241;43m=\u001B[39;49m\u001B[43mn_jobs\u001B[49m\u001B[43m,\u001B[49m\n\u001B[1;32m    406\u001B[0m \u001B[43m    \u001B[49m\u001B[43mcatch\u001B[49m\u001B[38;5;241;43m=\u001B[39;49m\u001B[43mcatch\u001B[49m\u001B[43m,\u001B[49m\n\u001B[1;32m    407\u001B[0m \u001B[43m    \u001B[49m\u001B[43mcallbacks\u001B[49m\u001B[38;5;241;43m=\u001B[39;49m\u001B[43mcallbacks\u001B[49m\u001B[43m,\u001B[49m\n\u001B[1;32m    408\u001B[0m \u001B[43m    \u001B[49m\u001B[43mgc_after_trial\u001B[49m\u001B[38;5;241;43m=\u001B[39;49m\u001B[43mgc_after_trial\u001B[49m\u001B[43m,\u001B[49m\n\u001B[1;32m    409\u001B[0m \u001B[43m    \u001B[49m\u001B[43mshow_progress_bar\u001B[49m\u001B[38;5;241;43m=\u001B[39;49m\u001B[43mshow_progress_bar\u001B[49m\u001B[43m,\u001B[49m\n\u001B[1;32m    410\u001B[0m \u001B[43m\u001B[49m\u001B[43m)\u001B[49m\n",
      "File \u001B[0;32m~/anaconda3/envs/aizynth-env/lib/python3.10/site-packages/optuna/study/_optimize.py:66\u001B[0m, in \u001B[0;36m_optimize\u001B[0;34m(study, func, n_trials, timeout, n_jobs, catch, callbacks, gc_after_trial, show_progress_bar)\u001B[0m\n\u001B[1;32m     64\u001B[0m \u001B[38;5;28;01mtry\u001B[39;00m:\n\u001B[1;32m     65\u001B[0m     \u001B[38;5;28;01mif\u001B[39;00m n_jobs \u001B[38;5;241m==\u001B[39m \u001B[38;5;241m1\u001B[39m:\n\u001B[0;32m---> 66\u001B[0m         \u001B[43m_optimize_sequential\u001B[49m\u001B[43m(\u001B[49m\n\u001B[1;32m     67\u001B[0m \u001B[43m            \u001B[49m\u001B[43mstudy\u001B[49m\u001B[43m,\u001B[49m\n\u001B[1;32m     68\u001B[0m \u001B[43m            \u001B[49m\u001B[43mfunc\u001B[49m\u001B[43m,\u001B[49m\n\u001B[1;32m     69\u001B[0m \u001B[43m            \u001B[49m\u001B[43mn_trials\u001B[49m\u001B[43m,\u001B[49m\n\u001B[1;32m     70\u001B[0m \u001B[43m            \u001B[49m\u001B[43mtimeout\u001B[49m\u001B[43m,\u001B[49m\n\u001B[1;32m     71\u001B[0m \u001B[43m            \u001B[49m\u001B[43mcatch\u001B[49m\u001B[43m,\u001B[49m\n\u001B[1;32m     72\u001B[0m \u001B[43m            \u001B[49m\u001B[43mcallbacks\u001B[49m\u001B[43m,\u001B[49m\n\u001B[1;32m     73\u001B[0m \u001B[43m            \u001B[49m\u001B[43mgc_after_trial\u001B[49m\u001B[43m,\u001B[49m\n\u001B[1;32m     74\u001B[0m \u001B[43m            \u001B[49m\u001B[43mreseed_sampler_rng\u001B[49m\u001B[38;5;241;43m=\u001B[39;49m\u001B[38;5;28;43;01mFalse\u001B[39;49;00m\u001B[43m,\u001B[49m\n\u001B[1;32m     75\u001B[0m \u001B[43m            \u001B[49m\u001B[43mtime_start\u001B[49m\u001B[38;5;241;43m=\u001B[39;49m\u001B[38;5;28;43;01mNone\u001B[39;49;00m\u001B[43m,\u001B[49m\n\u001B[1;32m     76\u001B[0m \u001B[43m            \u001B[49m\u001B[43mprogress_bar\u001B[49m\u001B[38;5;241;43m=\u001B[39;49m\u001B[43mprogress_bar\u001B[49m\u001B[43m,\u001B[49m\n\u001B[1;32m     77\u001B[0m \u001B[43m        \u001B[49m\u001B[43m)\u001B[49m\n\u001B[1;32m     78\u001B[0m     \u001B[38;5;28;01melse\u001B[39;00m:\n\u001B[1;32m     79\u001B[0m         \u001B[38;5;28;01mif\u001B[39;00m show_progress_bar:\n",
      "File \u001B[0;32m~/anaconda3/envs/aizynth-env/lib/python3.10/site-packages/optuna/study/_optimize.py:163\u001B[0m, in \u001B[0;36m_optimize_sequential\u001B[0;34m(study, func, n_trials, timeout, catch, callbacks, gc_after_trial, reseed_sampler_rng, time_start, progress_bar)\u001B[0m\n\u001B[1;32m    160\u001B[0m         \u001B[38;5;28;01mbreak\u001B[39;00m\n\u001B[1;32m    162\u001B[0m \u001B[38;5;28;01mtry\u001B[39;00m:\n\u001B[0;32m--> 163\u001B[0m     trial \u001B[38;5;241m=\u001B[39m \u001B[43m_run_trial\u001B[49m\u001B[43m(\u001B[49m\u001B[43mstudy\u001B[49m\u001B[43m,\u001B[49m\u001B[43m \u001B[49m\u001B[43mfunc\u001B[49m\u001B[43m,\u001B[49m\u001B[43m \u001B[49m\u001B[43mcatch\u001B[49m\u001B[43m)\u001B[49m\n\u001B[1;32m    164\u001B[0m \u001B[38;5;28;01mexcept\u001B[39;00m \u001B[38;5;167;01mException\u001B[39;00m:\n\u001B[1;32m    165\u001B[0m     \u001B[38;5;28;01mraise\u001B[39;00m\n",
      "File \u001B[0;32m~/anaconda3/envs/aizynth-env/lib/python3.10/site-packages/optuna/study/_optimize.py:213\u001B[0m, in \u001B[0;36m_run_trial\u001B[0;34m(study, func, catch)\u001B[0m\n\u001B[1;32m    210\u001B[0m     thread\u001B[38;5;241m.\u001B[39mstart()\n\u001B[1;32m    212\u001B[0m \u001B[38;5;28;01mtry\u001B[39;00m:\n\u001B[0;32m--> 213\u001B[0m     value_or_values \u001B[38;5;241m=\u001B[39m \u001B[43mfunc\u001B[49m\u001B[43m(\u001B[49m\u001B[43mtrial\u001B[49m\u001B[43m)\u001B[49m\n\u001B[1;32m    214\u001B[0m \u001B[38;5;28;01mexcept\u001B[39;00m exceptions\u001B[38;5;241m.\u001B[39mTrialPruned \u001B[38;5;28;01mas\u001B[39;00m e:\n\u001B[1;32m    215\u001B[0m     \u001B[38;5;66;03m# TODO(mamu): Handle multi-objective cases.\u001B[39;00m\n\u001B[1;32m    216\u001B[0m     state \u001B[38;5;241m=\u001B[39m TrialState\u001B[38;5;241m.\u001B[39mPRUNED\n",
      "File \u001B[0;32m~/PycharmProjects/GRAIL/grail_metabolism/../grail_metabolism/utils/optuna.py:61\u001B[0m, in \u001B[0;36mOptunaWrapper.make_study.<locals>.objective\u001B[0;34m(trial)\u001B[0m\n\u001B[1;32m     59\u001B[0m arg_vec\u001B[38;5;241m.\u001B[39mappend(trial\u001B[38;5;241m.\u001B[39msuggest_int(\u001B[38;5;124mf\u001B[39m\u001B[38;5;124m\"\u001B[39m\u001B[38;5;124mx2\u001B[39m\u001B[38;5;124m\"\u001B[39m, \u001B[38;5;241m50\u001B[39m, \u001B[38;5;241m1000\u001B[39m))\n\u001B[1;32m     60\u001B[0m model \u001B[38;5;241m=\u001B[39m Generator(rule_dict, \u001B[38;5;241m10\u001B[39m, \u001B[38;5;241m6\u001B[39m, arg_vec\u001B[38;5;241m=\u001B[39marg_vec)\n\u001B[0;32m---> 61\u001B[0m _, loss \u001B[38;5;241m=\u001B[39m \u001B[43mtrain_set\u001B[49m\u001B[38;5;241;43m.\u001B[39;49m\u001B[43mtrain_generator\u001B[49m\u001B[43m(\u001B[49m\u001B[43mmodel\u001B[49m\u001B[43m,\u001B[49m\u001B[43m \u001B[49m\u001B[43mlr\u001B[49m\u001B[43m,\u001B[49m\u001B[43m \u001B[49m\u001B[43meps\u001B[49m\u001B[38;5;241;43m=\u001B[39;49m\u001B[38;5;241;43m10\u001B[39;49m\u001B[43m,\u001B[49m\u001B[43m \u001B[49m\u001B[43mdecay\u001B[49m\u001B[38;5;241;43m=\u001B[39;49m\u001B[43mdecay\u001B[49m\u001B[43m)\u001B[49m\n\u001B[1;32m     62\u001B[0m \u001B[38;5;28;01mreturn\u001B[39;00m loss\n",
      "File \u001B[0;32m~/PycharmProjects/GRAIL/grail_metabolism/../grail_metabolism/utils/preparation.py:1184\u001B[0m, in \u001B[0;36mMolFrame.train_generator\u001B[0;34m(self, model, lr, eps, decay, verbose)\u001B[0m\n\u001B[1;32m   1176\u001B[0m \u001B[38;5;250m\u001B[39m\u001B[38;5;124mr\u001B[39m\u001B[38;5;124;03m\"\"\"\u001B[39;00m\n\u001B[1;32m   1177\u001B[0m \u001B[38;5;124;03mTrain generator model on the inner metabolic mapping\u001B[39;00m\n\u001B[1;32m   1178\u001B[0m \u001B[38;5;124;03m:param model: generator model\u001B[39;00m\n\u001B[0;32m   (...)\u001B[0m\n\u001B[1;32m   1181\u001B[0m \u001B[38;5;124;03m:return: learned model and the final value of Huber loss\u001B[39;00m\n\u001B[1;32m   1182\u001B[0m \u001B[38;5;124;03m\"\"\"\u001B[39;00m\n\u001B[1;32m   1183\u001B[0m train_loader \u001B[38;5;241m=\u001B[39m []\n\u001B[0;32m-> 1184\u001B[0m mapping_sample \u001B[38;5;241m=\u001B[39m \u001B[38;5;28;43mself\u001B[39;49m\u001B[38;5;241;43m.\u001B[39;49m\u001B[43mmetabolic_mapping\u001B[49m\u001B[43m(\u001B[49m\u001B[38;5;28;43mlist\u001B[39;49m\u001B[43m(\u001B[49m\u001B[43mmodel\u001B[49m\u001B[38;5;241;43m.\u001B[39;49m\u001B[43mrules\u001B[49m\u001B[38;5;241;43m.\u001B[39;49m\u001B[43mkeys\u001B[49m\u001B[43m(\u001B[49m\u001B[43m)\u001B[49m\u001B[43m)\u001B[49m\u001B[43m)\u001B[49m\n\u001B[1;32m   1185\u001B[0m num_rules \u001B[38;5;241m=\u001B[39m \u001B[38;5;28mlen\u001B[39m(model\u001B[38;5;241m.\u001B[39mrules)\n\u001B[1;32m   1186\u001B[0m vecs \u001B[38;5;241m=\u001B[39m generate_vectors(mapping_sample, \u001B[38;5;28mself\u001B[39m\u001B[38;5;241m.\u001B[39mmap, num_rules)\n",
      "File \u001B[0;32m~/PycharmProjects/GRAIL/grail_metabolism/../grail_metabolism/utils/preparation.py:1166\u001B[0m, in \u001B[0;36mMolFrame.metabolic_mapping\u001B[0;34m(self, rules)\u001B[0m\n\u001B[1;32m   1164\u001B[0m \u001B[38;5;28;01mfor\u001B[39;00m substrate \u001B[38;5;129;01min\u001B[39;00m tqdm(\u001B[38;5;28mself\u001B[39m\u001B[38;5;241m.\u001B[39mmap):\n\u001B[1;32m   1165\u001B[0m     \u001B[38;5;28;01mtry\u001B[39;00m:\n\u001B[0;32m-> 1166\u001B[0m         gen_stat \u001B[38;5;241m=\u001B[39m \u001B[43mmetaboliser\u001B[49m\u001B[43m(\u001B[49m\u001B[38;5;28;43mself\u001B[39;49m\u001B[38;5;241;43m.\u001B[39;49m\u001B[43mmol_structs\u001B[49m\u001B[43m[\u001B[49m\u001B[43msubstrate\u001B[49m\u001B[43m]\u001B[49m\u001B[43m,\u001B[49m\u001B[43m \u001B[49m\u001B[43mrules\u001B[49m\u001B[38;5;241;43m=\u001B[39;49m\u001B[43mrules\u001B[49m\u001B[43m)\u001B[49m\n\u001B[1;32m   1167\u001B[0m     \u001B[38;5;28;01mexcept\u001B[39;00m \u001B[38;5;167;01mTimeoutError\u001B[39;00m:\n\u001B[1;32m   1168\u001B[0m         \u001B[38;5;28;01mcontinue\u001B[39;00m\n",
      "File \u001B[0;32m~/PycharmProjects/GRAIL/grail_metabolism/../grail_metabolism/utils/preparation.py:127\u001B[0m, in \u001B[0;36mtimeout.<locals>.decorator.<locals>._handle_timeout\u001B[0;34m(*args, **kwargs)\u001B[0m\n\u001B[1;32m    125\u001B[0m timer\u001B[38;5;241m.\u001B[39mstart()\n\u001B[1;32m    126\u001B[0m \u001B[38;5;28;01mtry\u001B[39;00m:\n\u001B[0;32m--> 127\u001B[0m     result \u001B[38;5;241m=\u001B[39m \u001B[43mfunc\u001B[49m\u001B[43m(\u001B[49m\u001B[38;5;241;43m*\u001B[39;49m\u001B[43margs\u001B[49m\u001B[43m,\u001B[49m\u001B[43m \u001B[49m\u001B[38;5;241;43m*\u001B[39;49m\u001B[38;5;241;43m*\u001B[39;49m\u001B[43mkwargs\u001B[49m\u001B[43m)\u001B[49m\n\u001B[1;32m    128\u001B[0m \u001B[38;5;28;01mexcept\u001B[39;00m \u001B[38;5;167;01mTimeoutError\u001B[39;00m:\n\u001B[1;32m    129\u001B[0m     \u001B[38;5;28mprint\u001B[39m(\u001B[38;5;124m'\u001B[39m\u001B[38;5;124mtimeout\u001B[39m\u001B[38;5;124m'\u001B[39m)\n",
      "File \u001B[0;32m~/PycharmProjects/GRAIL/grail_metabolism/../grail_metabolism/utils/preparation.py:230\u001B[0m, in \u001B[0;36mmetaboliser\u001B[0;34m(mol, rules)\u001B[0m\n\u001B[1;32m    228\u001B[0m     \u001B[38;5;28;01mcontinue\u001B[39;00m\n\u001B[1;32m    229\u001B[0m \u001B[38;5;28;01mtry\u001B[39;00m:\n\u001B[0;32m--> 230\u001B[0m     mols_standart \u001B[38;5;241m=\u001B[39m \u001B[38;5;28;43mlist\u001B[39;49m\u001B[43m(\u001B[49m\u001B[38;5;28;43mmap\u001B[39;49m\u001B[43m(\u001B[49m\u001B[43mstandardize_mol\u001B[49m\u001B[43m,\u001B[49m\u001B[43m \u001B[49m\u001B[43mmols_splitted\u001B[49m\u001B[43m)\u001B[49m\u001B[43m)\u001B[49m\n\u001B[1;32m    231\u001B[0m \u001B[38;5;28;01mexcept\u001B[39;00m Chem\u001B[38;5;241m.\u001B[39mKekulizeException:\n\u001B[1;32m    232\u001B[0m     \u001B[38;5;28;01mcontinue\u001B[39;00m\n",
      "File \u001B[0;32m~/PycharmProjects/GRAIL/grail_metabolism/../grail_metabolism/utils/preparation.py:127\u001B[0m, in \u001B[0;36mtimeout.<locals>.decorator.<locals>._handle_timeout\u001B[0;34m(*args, **kwargs)\u001B[0m\n\u001B[1;32m    125\u001B[0m timer\u001B[38;5;241m.\u001B[39mstart()\n\u001B[1;32m    126\u001B[0m \u001B[38;5;28;01mtry\u001B[39;00m:\n\u001B[0;32m--> 127\u001B[0m     result \u001B[38;5;241m=\u001B[39m \u001B[43mfunc\u001B[49m\u001B[43m(\u001B[49m\u001B[38;5;241;43m*\u001B[39;49m\u001B[43margs\u001B[49m\u001B[43m,\u001B[49m\u001B[43m \u001B[49m\u001B[38;5;241;43m*\u001B[39;49m\u001B[38;5;241;43m*\u001B[39;49m\u001B[43mkwargs\u001B[49m\u001B[43m)\u001B[49m\n\u001B[1;32m    128\u001B[0m \u001B[38;5;28;01mexcept\u001B[39;00m \u001B[38;5;167;01mTimeoutError\u001B[39;00m:\n\u001B[1;32m    129\u001B[0m     \u001B[38;5;28mprint\u001B[39m(\u001B[38;5;124m'\u001B[39m\u001B[38;5;124mtimeout\u001B[39m\u001B[38;5;124m'\u001B[39m)\n",
      "File \u001B[0;32m~/PycharmProjects/GRAIL/grail_metabolism/../grail_metabolism/utils/preparation.py:185\u001B[0m, in \u001B[0;36mstandardize_mol\u001B[0;34m(mol, ph)\u001B[0m\n\u001B[1;32m    178\u001B[0m     dimorphite_dl \u001B[38;5;241m=\u001B[39m DimorphiteDL(min_ph\u001B[38;5;241m=\u001B[39mph,\n\u001B[1;32m    179\u001B[0m                                  max_ph\u001B[38;5;241m=\u001B[39mph,\n\u001B[1;32m    180\u001B[0m                                  max_variants\u001B[38;5;241m=\u001B[39m\u001B[38;5;241m128\u001B[39m,\n\u001B[1;32m    181\u001B[0m                                  label_states\u001B[38;5;241m=\u001B[39m\u001B[38;5;28;01mFalse\u001B[39;00m,\n\u001B[1;32m    182\u001B[0m                                  pka_precision\u001B[38;5;241m=\u001B[39m\u001B[38;5;241m1.0\u001B[39m) \u001B[38;5;66;03m# protonate with specified pH\u001B[39;00m\n\u001B[1;32m    183\u001B[0m     uncharged_parent_clean_mol \u001B[38;5;241m=\u001B[39m Chem\u001B[38;5;241m.\u001B[39mMolFromSmiles(\n\u001B[1;32m    184\u001B[0m         dimorphite_dl\u001B[38;5;241m.\u001B[39mprotonate(Chem\u001B[38;5;241m.\u001B[39mMolToSmiles(parent_clean_mol))[\u001B[38;5;241m0\u001B[39m])\n\u001B[0;32m--> 185\u001B[0m taut_uncharged_parent_clean_mol \u001B[38;5;241m=\u001B[39m \u001B[43mte\u001B[49m\u001B[38;5;241;43m.\u001B[39;49m\u001B[43mCanonicalize\u001B[49m\u001B[43m(\u001B[49m\n\u001B[1;32m    186\u001B[0m \u001B[43m    \u001B[49m\u001B[43muncharged_parent_clean_mol\u001B[49m\u001B[43m)\u001B[49m\n\u001B[1;32m    187\u001B[0m \u001B[38;5;28;01mif\u001B[39;00m taut_uncharged_parent_clean_mol \u001B[38;5;129;01mis\u001B[39;00m \u001B[38;5;28;01mNone\u001B[39;00m: \u001B[38;5;28;01mraise\u001B[39;00m \u001B[38;5;167;01mValueError\u001B[39;00m(\u001B[38;5;124m'\u001B[39m\u001B[38;5;124mInvalid molecule state\u001B[39m\u001B[38;5;124m'\u001B[39m)\n\u001B[1;32m    189\u001B[0m \u001B[38;5;28;01mif\u001B[39;00m is_mol:\n",
      "\u001B[0;31mKeyboardInterrupt\u001B[0m: "
     ]
    }
   ],
   "execution_count": 10
  },
  {
   "metadata": {},
   "cell_type": "code",
   "outputs": [],
   "execution_count": null,
   "source": "",
   "id": "7260a75fe6bdbb39"
  }
 ],
 "metadata": {
  "kernelspec": {
   "display_name": "Synthon",
   "language": "python",
   "name": "aizynth-env"
  },
  "language_info": {
   "codemirror_mode": {
    "name": "ipython",
    "version": 2
   },
   "file_extension": ".py",
   "mimetype": "text/x-python",
   "name": "python",
   "nbconvert_exporter": "python",
   "pygments_lexer": "ipython2",
   "version": "2.7.6"
  }
 },
 "nbformat": 4,
 "nbformat_minor": 5
}
