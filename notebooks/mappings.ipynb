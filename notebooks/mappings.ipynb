{
 "cells": [
  {
   "cell_type": "code",
   "id": "initial_id",
   "metadata": {
    "collapsed": true,
    "ExecuteTime": {
     "end_time": "2025-05-23T18:21:55.754495Z",
     "start_time": "2025-05-23T18:21:53.737395Z"
    }
   },
   "source": [
    "import sys\n",
    "sys.path.append(\"..\")\n",
    "from grail_metabolism.utils.preparation import MolFrame\n",
    "import pickle as pkl"
   ],
   "outputs": [
    {
     "name": "stdout",
     "output_type": "stream",
     "text": [
      "ATTENTION: RXNMapper is not installed. Please install it first if you want to create your own set of rules.\n",
      "ATTENTION: you use incorrect for rxnmapper version of rdkit\n"
     ]
    }
   ],
   "execution_count": 1
  },
  {
   "metadata": {
    "ExecuteTime": {
     "end_time": "2025-05-23T18:21:58.110586Z",
     "start_time": "2025-05-23T18:21:58.105880Z"
    }
   },
   "cell_type": "code",
   "source": [
    "with open('data/xtracted.txt') as file:\n",
    "    xtracted = file.read().splitlines()"
   ],
   "id": "5e7bcb253fb3594d",
   "outputs": [],
   "execution_count": 2
  },
  {
   "metadata": {
    "ExecuteTime": {
     "end_time": "2025-05-23T18:21:59.242431Z",
     "start_time": "2025-05-23T18:21:59.233788Z"
    }
   },
   "cell_type": "code",
   "source": [
    "with open('../grail_metabolism/data/smirks.txt') as f:\n",
    "    rules = f.read().splitlines()"
   ],
   "id": "72aaa250127e27de",
   "outputs": [],
   "execution_count": 3
  },
  {
   "metadata": {
    "ExecuteTime": {
     "end_time": "2025-05-23T18:22:02.653869Z",
     "start_time": "2025-05-23T18:22:02.650339Z"
    }
   },
   "cell_type": "code",
   "source": "rules.extend(xtracted)",
   "id": "b14fb3a155d7315c",
   "outputs": [],
   "execution_count": 4
  },
  {
   "metadata": {
    "ExecuteTime": {
     "end_time": "2025-05-23T18:22:04.256368Z",
     "start_time": "2025-05-23T18:22:04.251209Z"
    }
   },
   "cell_type": "code",
   "source": [
    "from grail_metabolism.utils.transform import from_rule\n",
    "from tqdm.auto import tqdm"
   ],
   "id": "6e6b8894c66b0b74",
   "outputs": [],
   "execution_count": 5
  },
  {
   "metadata": {
    "ExecuteTime": {
     "end_time": "2025-05-23T18:23:19.450226Z",
     "start_time": "2025-05-23T18:22:06.061034Z"
    }
   },
   "cell_type": "code",
   "source": "rule_dict = {rule: from_rule(rule) for rule in tqdm(rules)}",
   "id": "d87b5e422b1bc6f1",
   "outputs": [
    {
     "data": {
      "text/plain": [
       "  0%|          | 0/5008 [00:00<?, ?it/s]"
      ],
      "application/vnd.jupyter.widget-view+json": {
       "version_major": 2,
       "version_minor": 0,
       "model_id": "7a7b6c0f10214e5eb2921167bf97cdfb"
      }
     },
     "metadata": {},
     "output_type": "display_data"
    }
   ],
   "execution_count": 6
  },
  {
   "metadata": {
    "ExecuteTime": {
     "end_time": "2025-05-23T18:29:31.587817Z",
     "start_time": "2025-05-23T18:25:42.980348Z"
    }
   },
   "cell_type": "code",
   "source": [
    "with open('../grail_metabolism/data/train.pkl', 'rb') as f:\n",
    "    train_frame = pkl.load(f)"
   ],
   "id": "2302a9a536ac79cf",
   "outputs": [],
   "execution_count": 7
  },
  {
   "metadata": {
    "jupyter": {
     "is_executing": true
    },
    "ExecuteTime": {
     "start_time": "2025-05-23T18:30:02.040554Z"
    }
   },
   "cell_type": "code",
   "source": "train_frame.label_reactions(rules)",
   "id": "f766cfd547b41d76",
   "outputs": [
    {
     "data": {
      "text/plain": [
       "  0%|          | 0/8977 [00:00<?, ?it/s]"
      ],
      "application/vnd.jupyter.widget-view+json": {
       "version_major": 2,
       "version_minor": 0,
       "model_id": "4fea671d328e46bc96f9ae0460ca33f4"
      }
     },
     "metadata": {},
     "output_type": "display_data"
    }
   ],
   "execution_count": null
  },
  {
   "metadata": {},
   "cell_type": "code",
   "outputs": [],
   "execution_count": null,
   "source": "",
   "id": "c48e4cecc5802d39"
  }
 ],
 "metadata": {
  "kernelspec": {
   "display_name": "Synthon",
   "language": "python",
   "name": "aizynth-env"
  },
  "language_info": {
   "codemirror_mode": {
    "name": "ipython",
    "version": 2
   },
   "file_extension": ".py",
   "mimetype": "text/x-python",
   "name": "python",
   "nbconvert_exporter": "python",
   "pygments_lexer": "ipython2",
   "version": "2.7.6"
  }
 },
 "nbformat": 4,
 "nbformat_minor": 5
}
