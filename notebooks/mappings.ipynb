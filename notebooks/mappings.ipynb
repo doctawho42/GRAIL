{
 "cells": [
  {
   "cell_type": "code",
   "id": "initial_id",
   "metadata": {
    "collapsed": true,
    "ExecuteTime": {
     "end_time": "2025-06-01T15:16:47.903514Z",
     "start_time": "2025-06-01T15:16:45.259592Z"
    }
   },
   "source": [
    "import sys\n",
    "sys.path.append(\"..\")\n",
    "from grail_metabolism.utils.preparation import MolFrame\n",
    "import pickle as pkl"
   ],
   "outputs": [
    {
     "name": "stdout",
     "output_type": "stream",
     "text": [
      "ATTENTION: RXNMapper is not installed. Please install it first if you want to create your own set of rules.\n",
      "ATTENTION: you use incorrect for rxnmapper version of rdkit\n"
     ]
    }
   ],
   "execution_count": 1
  },
  {
   "metadata": {
    "ExecuteTime": {
     "end_time": "2025-06-01T15:16:49.603344Z",
     "start_time": "2025-06-01T15:16:49.594232Z"
    }
   },
   "cell_type": "code",
   "source": [
    "with open('data/xtracted.txt') as file:\n",
    "    xtracted = file.read().splitlines()"
   ],
   "id": "5e7bcb253fb3594d",
   "outputs": [],
   "execution_count": 2
  },
  {
   "metadata": {
    "ExecuteTime": {
     "end_time": "2025-06-01T15:16:51.451268Z",
     "start_time": "2025-06-01T15:16:51.442316Z"
    }
   },
   "cell_type": "code",
   "source": [
    "with open('../grail_metabolism/data/smirks.txt') as f:\n",
    "    rules = f.read().splitlines()"
   ],
   "id": "72aaa250127e27de",
   "outputs": [],
   "execution_count": 3
  },
  {
   "metadata": {
    "ExecuteTime": {
     "end_time": "2025-05-27T18:27:47.231603Z",
     "start_time": "2025-05-27T18:27:47.224717Z"
    }
   },
   "cell_type": "code",
   "source": "rules.extend(xtracted)",
   "id": "b14fb3a155d7315c",
   "outputs": [],
   "execution_count": 4
  },
  {
   "metadata": {
    "ExecuteTime": {
     "end_time": "2025-05-27T18:27:49.120796Z",
     "start_time": "2025-05-27T18:27:49.108897Z"
    }
   },
   "cell_type": "code",
   "source": [
    "from grail_metabolism.utils.transform import from_rule\n",
    "from tqdm.auto import tqdm"
   ],
   "id": "6e6b8894c66b0b74",
   "outputs": [],
   "execution_count": 5
  },
  {
   "metadata": {
    "ExecuteTime": {
     "end_time": "2025-05-27T18:28:57.117352Z",
     "start_time": "2025-05-27T18:27:50.467244Z"
    }
   },
   "cell_type": "code",
   "source": "rule_dict = {rule: from_rule(rule) for rule in tqdm(rules)}",
   "id": "d87b5e422b1bc6f1",
   "outputs": [
    {
     "data": {
      "text/plain": [
       "  0%|          | 0/5008 [00:00<?, ?it/s]"
      ],
      "application/vnd.jupyter.widget-view+json": {
       "version_major": 2,
       "version_minor": 0,
       "model_id": "76f65482f0e14b058b6ef1fe1f4a1f39"
      }
     },
     "metadata": {},
     "output_type": "display_data"
    }
   ],
   "execution_count": 6
  },
  {
   "metadata": {
    "ExecuteTime": {
     "end_time": "2025-05-27T18:39:40.010736Z",
     "start_time": "2025-05-27T18:36:12.491829Z"
    }
   },
   "cell_type": "code",
   "source": [
    "with open('../grail_metabolism/data/train.pkl', 'rb') as f:\n",
    "    train_frame = pkl.load(f)"
   ],
   "id": "2302a9a536ac79cf",
   "outputs": [],
   "execution_count": 7
  },
  {
   "metadata": {
    "ExecuteTime": {
     "start_time": "2025-05-27T18:41:31.789905Z"
    }
   },
   "cell_type": "code",
   "source": "train_frame.label_reactions(rules)",
   "id": "f766cfd547b41d76",
   "outputs": [
    {
     "data": {
      "text/plain": [
       "  0%|          | 0/8977 [00:00<?, ?it/s]"
      ],
      "application/vnd.jupyter.widget-view+json": {
       "version_major": 2,
       "version_minor": 0,
       "model_id": "ac5dfcc9172b4aa4a29899651373e88e"
      }
     },
     "metadata": {},
     "output_type": "display_data"
    }
   ],
   "execution_count": null
  },
  {
   "metadata": {},
   "cell_type": "code",
   "outputs": [],
   "execution_count": null,
   "source": "",
   "id": "c48e4cecc5802d39"
  }
 ],
 "metadata": {
  "kernelspec": {
   "display_name": "Synthon",
   "language": "python",
   "name": "aizynth-env"
  },
  "language_info": {
   "codemirror_mode": {
    "name": "ipython",
    "version": 2
   },
   "file_extension": ".py",
   "mimetype": "text/x-python",
   "name": "python",
   "nbconvert_exporter": "python",
   "pygments_lexer": "ipython2",
   "version": "2.7.6"
  }
 },
 "nbformat": 4,
 "nbformat_minor": 5
}
