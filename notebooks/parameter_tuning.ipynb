{
 "cells": [
  {
   "metadata": {},
   "cell_type": "markdown",
   "source": "# Filter's hyperparameters tuning",
   "id": "954696ae89972024"
  },
  {
   "cell_type": "code",
   "id": "initial_id",
   "metadata": {
    "collapsed": true,
    "ExecuteTime": {
     "end_time": "2025-05-18T07:25:44.871947Z",
     "start_time": "2025-05-18T07:25:40.939868Z"
    }
   },
   "source": [
    "import sys\n",
    "sys.path.append('..')\n",
    "from grail_metabolism.utils.optuna import OptunaWrapper\n",
    "from grail_metabolism.utils.preparation import MolFrame"
   ],
   "outputs": [
    {
     "name": "stdout",
     "output_type": "stream",
     "text": [
      "ATTENTION: RXNMapper is not installed. Please install it first if you want to create your own set of rules.\n",
      "ATTENTION: you use incorrect for rxnmapper version of rdkit\n"
     ]
    }
   ],
   "execution_count": 1
  },
  {
   "metadata": {
    "ExecuteTime": {
     "end_time": "2025-05-18T07:25:46.342351Z",
     "start_time": "2025-05-18T07:25:46.336027Z"
    }
   },
   "cell_type": "code",
   "source": "tune = OptunaWrapper() # Main class for Optuna",
   "id": "e95d7dd811d7b013",
   "outputs": [],
   "execution_count": 2
  },
  {
   "metadata": {},
   "cell_type": "markdown",
   "source": "### val_frame",
   "id": "9fa975da0cddcadf"
  },
  {
   "metadata": {
    "ExecuteTime": {
     "end_time": "2025-05-18T07:27:16.878040Z",
     "start_time": "2025-05-18T07:25:47.936370Z"
    }
   },
   "cell_type": "code",
   "source": [
    "val_triples = MolFrame.read_triples('../grail_metabolism/data/val_triples.txt')\n",
    "val_frame = MolFrame.from_file('../grail_metabolism/data/val.sdf', val_triples, standartize=False)"
   ],
   "id": "44c59d11b6976e3c",
   "outputs": [
    {
     "data": {
      "text/plain": [
       "Processing reactions:   0%|          | 0/1061 [00:00<?, ?it/s]"
      ],
      "application/vnd.jupyter.widget-view+json": {
       "version_major": 2,
       "version_minor": 0,
       "model_id": "35e9ba2121034af6866f22024908511d"
      }
     },
     "metadata": {},
     "output_type": "display_data"
    }
   ],
   "execution_count": 3
  },
  {
   "metadata": {},
   "cell_type": "markdown",
   "source": "Full preparation of val_frame - morganize, create graph molecular representations and binary vectors of reaction rules labels",
   "id": "247b71e3857f6b19"
  },
  {
   "metadata": {
    "ExecuteTime": {
     "end_time": "2025-05-18T08:05:42.525950Z",
     "start_time": "2025-05-18T07:29:12.512327Z"
    }
   },
   "cell_type": "code",
   "source": "val_frame.full_setup()",
   "id": "898c21a7cd0c8cec",
   "outputs": [
    {
     "name": "stdout",
     "output_type": "stream",
     "text": [
      "Morgan fingerprints generation\n"
     ]
    },
    {
     "data": {
      "text/plain": [
       "  0%|          | 0/36621 [00:00<?, ?it/s]"
      ],
      "application/vnd.jupyter.widget-view+json": {
       "version_major": 2,
       "version_minor": 0,
       "model_id": "28b87954e7a14e27b5edf8ca36a3d93c"
      }
     },
     "metadata": {},
     "output_type": "display_data"
    },
    {
     "name": "stdout",
     "output_type": "stream",
     "text": [
      "Pair graphs generation\n"
     ]
    },
    {
     "data": {
      "text/plain": [
       "  0%|          | 0/1035 [00:00<?, ?it/s]"
      ],
      "application/vnd.jupyter.widget-view+json": {
       "version_major": 2,
       "version_minor": 0,
       "model_id": "259683c2b29a4408ac9c25a00da62a4e"
      }
     },
     "metadata": {},
     "output_type": "display_data"
    },
    {
     "data": {
      "text/plain": [
       "  0%|          | 0/1024 [00:00<?, ?it/s]"
      ],
      "application/vnd.jupyter.widget-view+json": {
       "version_major": 2,
       "version_minor": 0,
       "model_id": "b294d82c45ca441e9b61b464d3a2bcc9"
      }
     },
     "metadata": {},
     "output_type": "display_data"
    },
    {
     "data": {
      "text/plain": [
       "  0%|          | 0/1035 [00:00<?, ?it/s]"
      ],
      "application/vnd.jupyter.widget-view+json": {
       "version_major": 2,
       "version_minor": 0,
       "model_id": "aba9cf48d5e5424189aaa66a7ab034d1"
      }
     },
     "metadata": {},
     "output_type": "display_data"
    },
    {
     "name": "stdout",
     "output_type": "stream",
     "text": [
      "Single graphs generation\n"
     ]
    },
    {
     "data": {
      "text/plain": [
       "  0%|          | 0/1035 [00:00<?, ?it/s]"
      ],
      "application/vnd.jupyter.widget-view+json": {
       "version_major": 2,
       "version_minor": 0,
       "model_id": "b6e6d7e2e8d9482ab5077c7d69cfd3b9"
      }
     },
     "metadata": {},
     "output_type": "display_data"
    },
    {
     "data": {
      "text/plain": [
       "  0%|          | 0/1024 [00:00<?, ?it/s]"
      ],
      "application/vnd.jupyter.widget-view+json": {
       "version_major": 2,
       "version_minor": 0,
       "model_id": "fd407ce4126c4463ac7a78738f42cf24"
      }
     },
     "metadata": {},
     "output_type": "display_data"
    },
    {
     "data": {
      "text/plain": [
       "  0%|          | 0/36012 [00:00<?, ?it/s]"
      ],
      "application/vnd.jupyter.widget-view+json": {
       "version_major": 2,
       "version_minor": 0,
       "model_id": "1d0febcbdded4914a240b7b31cb193b8"
      }
     },
     "metadata": {},
     "output_type": "display_data"
    },
    {
     "name": "stdout",
     "output_type": "stream",
     "text": [
      "Some issue happened with this molecule:\n",
      "I tensor([], size=(0, 18), dtype=torch.float64) tensor([[ -1.7835, -13.7837,   0.2648,   0.9855,  -0.0512,   6.1740,  16.5073,\n",
      "          -0.8586,  12.9492,  -6.1578]], dtype=torch.float64)\n",
      "Some issue happened with this molecule:\n",
      "F tensor([], size=(0, 18), dtype=torch.float64) tensor([[ 0.3778, -2.9029, -0.0516,  0.0207, -0.0122,  0.2819,  0.6688, -0.5291,\n",
      "         -0.0579,  0.9071]], dtype=torch.float64)\n"
     ]
    }
   ],
   "execution_count": 4
  },
  {
   "metadata": {},
   "cell_type": "markdown",
   "source": "### train_frame",
   "id": "dab2d5d254480d3b"
  },
  {
   "metadata": {
    "ExecuteTime": {
     "end_time": "2025-05-18T08:20:34.601391Z",
     "start_time": "2025-05-18T08:05:42.533760Z"
    }
   },
   "cell_type": "code",
   "source": [
    "triples = MolFrame.read_triples('../grail_metabolism/data/train_triples.txt')\n",
    "train_frame = MolFrame.from_file('../grail_metabolism/data/train.sdf', triples, standartize=False)"
   ],
   "id": "54f7540489191f21",
   "outputs": [
    {
     "data": {
      "text/plain": [
       "Processing reactions:   0%|          | 0/9182 [00:00<?, ?it/s]"
      ],
      "application/vnd.jupyter.widget-view+json": {
       "version_major": 2,
       "version_minor": 0,
       "model_id": "3b5a67c68dcc449eab45c3aa03b36ac6"
      }
     },
     "metadata": {},
     "output_type": "display_data"
    }
   ],
   "execution_count": 5
  },
  {
   "metadata": {
    "ExecuteTime": {
     "end_time": "2025-05-18T08:20:34.830881Z",
     "start_time": "2025-05-18T08:20:34.828105Z"
    }
   },
   "cell_type": "code",
   "source": [
    "del train_frame.map['O=C(OC1OC2COC(=O)c3cc(O)c(O)c(O)c3-c3c(cc(O)c(O)c3O)C(=O)OC2C2OC(=O)c3cc(O)c(O)c(O)c3-c3c(cc(O)c(O)c3O)C(=O)OC12)c1cc(O)c(O)c(Oc2c(O)c(O)c(O)c3c2C(=O)OC2C(COC(=O)c4cc(O)c(O)c(O)c4-3)OC(OC(=O)c3cc(O)c(O)c(O)c3)C3OC(=O)c4cc(O)c(O)c(O)c4-c4c(cc(O)c(O)c4O)C(=O)OC23)c1']\n",
    "del train_frame.gen_map['O=C(OC1OC2COC(=O)c3cc(O)c(O)c(O)c3-c3c(cc(O)c(O)c3O)C(=O)OC2C2OC(=O)c3cc(O)c(O)c(O)c3-c3c(cc(O)c(O)c3O)C(=O)OC12)c1cc(O)c(O)c(Oc2c(O)c(O)c(O)c3c2C(=O)OC2C(COC(=O)c4cc(O)c(O)c(O)c4-3)OC(OC(=O)c3cc(O)c(O)c(O)c3)C3OC(=O)c4cc(O)c(O)c(O)c4-c4c(cc(O)c(O)c4O)C(=O)OC23)c1']"
   ],
   "id": "59c2c0c2d2b14289",
   "outputs": [],
   "execution_count": 6
  },
  {
   "metadata": {},
   "cell_type": "markdown",
   "source": "Full preparation of train_frame",
   "id": "80234d4a42879633"
  },
  {
   "metadata": {
    "ExecuteTime": {
     "end_time": "2025-05-18T13:13:04.290022Z",
     "start_time": "2025-05-18T08:20:35.049986Z"
    }
   },
   "cell_type": "code",
   "source": "train_frame.full_setup()",
   "id": "afebbf8905c7a926",
   "outputs": [
    {
     "name": "stdout",
     "output_type": "stream",
     "text": [
      "Morgan fingerprints generation\n"
     ]
    },
    {
     "data": {
      "text/plain": [
       "  0%|          | 0/308638 [00:00<?, ?it/s]"
      ],
      "application/vnd.jupyter.widget-view+json": {
       "version_major": 2,
       "version_minor": 0,
       "model_id": "849896116df148a1b995cfb379c3e39b"
      }
     },
     "metadata": {},
     "output_type": "display_data"
    },
    {
     "name": "stdout",
     "output_type": "stream",
     "text": [
      "Pair graphs generation\n"
     ]
    },
    {
     "data": {
      "text/plain": [
       "  0%|          | 0/8977 [00:00<?, ?it/s]"
      ],
      "application/vnd.jupyter.widget-view+json": {
       "version_major": 2,
       "version_minor": 0,
       "model_id": "7780084f90b24f40a8a7f4705682d32b"
      }
     },
     "metadata": {},
     "output_type": "display_data"
    },
    {
     "data": {
      "text/plain": [
       "  0%|          | 0/8862 [00:00<?, ?it/s]"
      ],
      "application/vnd.jupyter.widget-view+json": {
       "version_major": 2,
       "version_minor": 0,
       "model_id": "29a06dc1530b492aa54b922b953ebf69"
      }
     },
     "metadata": {},
     "output_type": "display_data"
    },
    {
     "data": {
      "text/plain": [
       "  0%|          | 0/8977 [00:00<?, ?it/s]"
      ],
      "application/vnd.jupyter.widget-view+json": {
       "version_major": 2,
       "version_minor": 0,
       "model_id": "70382bbe71ad48c4ac42b1dd25e45ed5"
      }
     },
     "metadata": {},
     "output_type": "display_data"
    },
    {
     "name": "stdout",
     "output_type": "stream",
     "text": [
      "Single graphs generation\n"
     ]
    },
    {
     "data": {
      "text/plain": [
       "  0%|          | 0/8977 [00:00<?, ?it/s]"
      ],
      "application/vnd.jupyter.widget-view+json": {
       "version_major": 2,
       "version_minor": 0,
       "model_id": "1a4138ad4da34c2f9331007975a7cef8"
      }
     },
     "metadata": {},
     "output_type": "display_data"
    },
    {
     "data": {
      "text/plain": [
       "  0%|          | 0/8862 [00:00<?, ?it/s]"
      ],
      "application/vnd.jupyter.widget-view+json": {
       "version_major": 2,
       "version_minor": 0,
       "model_id": "0dc48ab1551d4ef5a7be03f88376d8ca"
      }
     },
     "metadata": {},
     "output_type": "display_data"
    },
    {
     "data": {
      "text/plain": [
       "  0%|          | 0/303721 [00:00<?, ?it/s]"
      ],
      "application/vnd.jupyter.widget-view+json": {
       "version_major": 2,
       "version_minor": 0,
       "model_id": "8f10a855fa844467a4d094350ecf6e6f"
      }
     },
     "metadata": {},
     "output_type": "display_data"
    },
    {
     "name": "stdout",
     "output_type": "stream",
     "text": [
      "Some issue happened with this molecule:\n",
      "F tensor([], size=(0, 18), dtype=torch.float64) tensor([[ 0.3778, -2.9029, -0.0516,  0.0207, -0.0122,  0.2819,  0.6688, -0.5291,\n",
      "         -0.0579,  0.9071]], dtype=torch.float64)\n",
      "Some issue happened with this molecule:\n",
      "I tensor([], size=(0, 18), dtype=torch.float64) tensor([[ -1.7835, -13.7837,   0.2648,   0.9855,  -0.0512,   6.1740,  16.5073,\n",
      "          -0.8586,  12.9492,  -6.1578]], dtype=torch.float64)\n",
      "Some issue happened with this molecule:\n",
      "Br tensor([], size=(0, 18), dtype=torch.float64) tensor([[-0.8607, -9.1956,  0.1612,  0.5943, -0.0319,  3.7545, 10.1091, -0.5307,\n",
      "          7.7046, -3.2581]], dtype=torch.float64)\n",
      "Some issue happened with this molecule:\n",
      "[Pt] tensor([], size=(0, 18), dtype=torch.float64) tensor([[ -4.9538, -21.7925,   3.7591, 751.3035, -57.7154, -22.4858,  -3.7198,\n",
      "          -1.4666,  15.1470,  -6.7274]], dtype=torch.float64)\n",
      "Some issue happened with this molecule:\n",
      "[Pt+2] tensor([], size=(0, 18), dtype=torch.float64) tensor([[ -2.3431, -14.5189,  16.9497,   2.1069,   0.0869,  25.6839,  23.9302,\n",
      "           4.8083,  21.9404,  -8.5080]], dtype=torch.float64)\n",
      "Some issue happened with this molecule:\n",
      "[CH3] tensor([], size=(0, 18), dtype=torch.float64) tensor([[ 2.5591, -1.3507,  1.4813,  6.3540, 85.0059, -2.3401, -2.1052, -1.5539,\n",
      "          1.7370, -0.4085]], dtype=torch.float64)\n"
     ]
    }
   ],
   "execution_count": 7
  },
  {
   "metadata": {},
   "cell_type": "markdown",
   "source": "### Make study",
   "id": "3571fb480ae6a0c8"
  },
  {
   "metadata": {
    "ExecuteTime": {
     "end_time": "2025-05-18T13:57:20.642352Z",
     "start_time": "2025-05-18T13:39:58.482321Z"
    }
   },
   "cell_type": "code",
   "source": [
    "import pickle as pkl\n",
    "with open('../grail_metabolism/data/train.pkl', 'wb') as f, open('../grail_metabolism/data/val.pkl', 'wb') as g:\n",
    "    pkl.dump(train_frame, f, protocol=pkl.HIGHEST_PROTOCOL)\n",
    "    pkl.dump(val_frame, g, protocol=pkl.HIGHEST_PROTOCOL)"
   ],
   "id": "cfa7bbfffc7c685e",
   "outputs": [],
   "execution_count": 13
  },
  {
   "metadata": {
    "jupyter": {
     "is_executing": true
    },
    "ExecuteTime": {
     "start_time": "2025-05-18T15:09:56.625799Z"
    }
   },
   "cell_type": "code",
   "source": "study = tune.make_study(val_frame, val_frame, 'filter')",
   "id": "f09ff699249ae31f",
   "outputs": [
    {
     "name": "stderr",
     "output_type": "stream",
     "text": [
      "\u001B[32m[I 2025-05-18 18:09:56,712]\u001B[0m A new study created in memory with name: filter_pair\u001B[0m\n"
     ]
    },
    {
     "name": "stdout",
     "output_type": "stream",
     "text": [
      "Starting DataLoaders generation\n"
     ]
    },
    {
     "data": {
      "text/plain": [
       "  0%|          | 0/2 [00:00<?, ?it/s]"
      ],
      "application/vnd.jupyter.widget-view+json": {
       "version_major": 2,
       "version_minor": 0,
       "model_id": "386663c729334abf8234e70f7f2bd1d7"
      }
     },
     "metadata": {},
     "output_type": "display_data"
    }
   ],
   "execution_count": null
  },
  {
   "metadata": {},
   "cell_type": "code",
   "outputs": [],
   "execution_count": null,
   "source": "",
   "id": "ea7fbe2836c62fba"
  }
 ],
 "metadata": {
  "kernelspec": {
   "display_name": "Synthon",
   "language": "python",
   "name": "aizynth-env"
  },
  "language_info": {
   "codemirror_mode": {
    "name": "ipython",
    "version": 2
   },
   "file_extension": ".py",
   "mimetype": "text/x-python",
   "name": "python",
   "nbconvert_exporter": "python",
   "pygments_lexer": "ipython2",
   "version": "2.7.6"
  }
 },
 "nbformat": 4,
 "nbformat_minor": 5
}
