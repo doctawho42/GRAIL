{
 "cells": [
  {
   "metadata": {},
   "cell_type": "markdown",
   "source": "# Filter's hyperparameters tuning",
   "id": "954696ae89972024"
  },
  {
   "cell_type": "code",
   "id": "initial_id",
   "metadata": {
    "collapsed": true,
    "ExecuteTime": {
     "end_time": "2025-05-18T07:25:44.871947Z",
     "start_time": "2025-05-18T07:25:40.939868Z"
    }
   },
   "source": [
    "import sys\n",
    "sys.path.append('..')\n",
    "from grail_metabolism.utils.optuna import OptunaWrapper\n",
    "from grail_metabolism.utils.preparation import MolFrame"
   ],
   "outputs": [
    {
     "name": "stdout",
     "output_type": "stream",
     "text": [
      "ATTENTION: RXNMapper is not installed. Please install it first if you want to create your own set of rules.\n",
      "ATTENTION: you use incorrect for rxnmapper version of rdkit\n"
     ]
    }
   ],
   "execution_count": 1
  },
  {
   "metadata": {
    "ExecuteTime": {
     "end_time": "2025-05-18T07:25:46.342351Z",
     "start_time": "2025-05-18T07:25:46.336027Z"
    }
   },
   "cell_type": "code",
   "source": "tune = OptunaWrapper() # Main class for Optuna",
   "id": "e95d7dd811d7b013",
   "outputs": [],
   "execution_count": 2
  },
  {
   "metadata": {},
   "cell_type": "markdown",
   "source": "### val_frame",
   "id": "9fa975da0cddcadf"
  },
  {
   "metadata": {
    "ExecuteTime": {
     "end_time": "2025-05-18T07:27:16.878040Z",
     "start_time": "2025-05-18T07:25:47.936370Z"
    }
   },
   "cell_type": "code",
   "source": [
    "val_triples = MolFrame.read_triples('../grail_metabolism/data/val_triples.txt')\n",
    "val_frame = MolFrame.from_file('../grail_metabolism/data/val.sdf', val_triples, standartize=False)"
   ],
   "id": "44c59d11b6976e3c",
   "outputs": [
    {
     "data": {
      "text/plain": [
       "Processing reactions:   0%|          | 0/1061 [00:00<?, ?it/s]"
      ],
      "application/vnd.jupyter.widget-view+json": {
       "version_major": 2,
       "version_minor": 0,
       "model_id": "35e9ba2121034af6866f22024908511d"
      }
     },
     "metadata": {},
     "output_type": "display_data"
    }
   ],
   "execution_count": 3
  },
  {
   "metadata": {},
   "cell_type": "markdown",
   "source": "Full preparation of val_frame - morganize, create graph molecular representations and binary vectors of reaction rules labels",
   "id": "247b71e3857f6b19"
  },
  {
   "metadata": {
    "ExecuteTime": {
     "end_time": "2025-05-18T08:05:42.525950Z",
     "start_time": "2025-05-18T07:29:12.512327Z"
    }
   },
   "cell_type": "code",
   "source": "val_frame.full_setup()",
   "id": "898c21a7cd0c8cec",
   "outputs": [
    {
     "name": "stdout",
     "output_type": "stream",
     "text": [
      "Morgan fingerprints generation\n"
     ]
    },
    {
     "data": {
      "text/plain": [
       "  0%|          | 0/36621 [00:00<?, ?it/s]"
      ],
      "application/vnd.jupyter.widget-view+json": {
       "version_major": 2,
       "version_minor": 0,
       "model_id": "28b87954e7a14e27b5edf8ca36a3d93c"
      }
     },
     "metadata": {},
     "output_type": "display_data"
    },
    {
     "name": "stdout",
     "output_type": "stream",
     "text": [
      "Pair graphs generation\n"
     ]
    },
    {
     "data": {
      "text/plain": [
       "  0%|          | 0/1035 [00:00<?, ?it/s]"
      ],
      "application/vnd.jupyter.widget-view+json": {
       "version_major": 2,
       "version_minor": 0,
       "model_id": "259683c2b29a4408ac9c25a00da62a4e"
      }
     },
     "metadata": {},
     "output_type": "display_data"
    },
    {
     "data": {
      "text/plain": [
       "  0%|          | 0/1024 [00:00<?, ?it/s]"
      ],
      "application/vnd.jupyter.widget-view+json": {
       "version_major": 2,
       "version_minor": 0,
       "model_id": "b294d82c45ca441e9b61b464d3a2bcc9"
      }
     },
     "metadata": {},
     "output_type": "display_data"
    },
    {
     "data": {
      "text/plain": [
       "  0%|          | 0/1035 [00:00<?, ?it/s]"
      ],
      "application/vnd.jupyter.widget-view+json": {
       "version_major": 2,
       "version_minor": 0,
       "model_id": "aba9cf48d5e5424189aaa66a7ab034d1"
      }
     },
     "metadata": {},
     "output_type": "display_data"
    },
    {
     "name": "stdout",
     "output_type": "stream",
     "text": [
      "Single graphs generation\n"
     ]
    },
    {
     "data": {
      "text/plain": [
       "  0%|          | 0/1035 [00:00<?, ?it/s]"
      ],
      "application/vnd.jupyter.widget-view+json": {
       "version_major": 2,
       "version_minor": 0,
       "model_id": "b6e6d7e2e8d9482ab5077c7d69cfd3b9"
      }
     },
     "metadata": {},
     "output_type": "display_data"
    },
    {
     "data": {
      "text/plain": [
       "  0%|          | 0/1024 [00:00<?, ?it/s]"
      ],
      "application/vnd.jupyter.widget-view+json": {
       "version_major": 2,
       "version_minor": 0,
       "model_id": "fd407ce4126c4463ac7a78738f42cf24"
      }
     },
     "metadata": {},
     "output_type": "display_data"
    },
    {
     "data": {
      "text/plain": [
       "  0%|          | 0/36012 [00:00<?, ?it/s]"
      ],
      "application/vnd.jupyter.widget-view+json": {
       "version_major": 2,
       "version_minor": 0,
       "model_id": "1d0febcbdded4914a240b7b31cb193b8"
      }
     },
     "metadata": {},
     "output_type": "display_data"
    },
    {
     "name": "stdout",
     "output_type": "stream",
     "text": [
      "Some issue happened with this molecule:\n",
      "I tensor([], size=(0, 18), dtype=torch.float64) tensor([[ -1.7835, -13.7837,   0.2648,   0.9855,  -0.0512,   6.1740,  16.5073,\n",
      "          -0.8586,  12.9492,  -6.1578]], dtype=torch.float64)\n",
      "Some issue happened with this molecule:\n",
      "F tensor([], size=(0, 18), dtype=torch.float64) tensor([[ 0.3778, -2.9029, -0.0516,  0.0207, -0.0122,  0.2819,  0.6688, -0.5291,\n",
      "         -0.0579,  0.9071]], dtype=torch.float64)\n"
     ]
    }
   ],
   "execution_count": 4
  },
  {
   "metadata": {},
   "cell_type": "markdown",
   "source": "### train_frame",
   "id": "dab2d5d254480d3b"
  },
  {
   "metadata": {
    "ExecuteTime": {
     "end_time": "2025-05-18T08:20:34.601391Z",
     "start_time": "2025-05-18T08:05:42.533760Z"
    }
   },
   "cell_type": "code",
   "source": [
    "triples = MolFrame.read_triples('../grail_metabolism/data/train_triples.txt')\n",
    "train_frame = MolFrame.from_file('../grail_metabolism/data/train.sdf', triples, standartize=False)"
   ],
   "id": "54f7540489191f21",
   "outputs": [
    {
     "data": {
      "text/plain": [
       "Processing reactions:   0%|          | 0/9182 [00:00<?, ?it/s]"
      ],
      "application/vnd.jupyter.widget-view+json": {
       "version_major": 2,
       "version_minor": 0,
       "model_id": "3b5a67c68dcc449eab45c3aa03b36ac6"
      }
     },
     "metadata": {},
     "output_type": "display_data"
    }
   ],
   "execution_count": 5
  },
  {
   "metadata": {
    "ExecuteTime": {
     "end_time": "2025-05-18T08:20:34.830881Z",
     "start_time": "2025-05-18T08:20:34.828105Z"
    }
   },
   "cell_type": "code",
   "source": [
    "del train_frame.map['O=C(OC1OC2COC(=O)c3cc(O)c(O)c(O)c3-c3c(cc(O)c(O)c3O)C(=O)OC2C2OC(=O)c3cc(O)c(O)c(O)c3-c3c(cc(O)c(O)c3O)C(=O)OC12)c1cc(O)c(O)c(Oc2c(O)c(O)c(O)c3c2C(=O)OC2C(COC(=O)c4cc(O)c(O)c(O)c4-3)OC(OC(=O)c3cc(O)c(O)c(O)c3)C3OC(=O)c4cc(O)c(O)c(O)c4-c4c(cc(O)c(O)c4O)C(=O)OC23)c1']\n",
    "del train_frame.gen_map['O=C(OC1OC2COC(=O)c3cc(O)c(O)c(O)c3-c3c(cc(O)c(O)c3O)C(=O)OC2C2OC(=O)c3cc(O)c(O)c(O)c3-c3c(cc(O)c(O)c3O)C(=O)OC12)c1cc(O)c(O)c(Oc2c(O)c(O)c(O)c3c2C(=O)OC2C(COC(=O)c4cc(O)c(O)c(O)c4-3)OC(OC(=O)c3cc(O)c(O)c(O)c3)C3OC(=O)c4cc(O)c(O)c(O)c4-c4c(cc(O)c(O)c4O)C(=O)OC23)c1']"
   ],
   "id": "59c2c0c2d2b14289",
   "outputs": [],
   "execution_count": 6
  },
  {
   "metadata": {},
   "cell_type": "markdown",
   "source": "Full preparation of train_frame",
   "id": "80234d4a42879633"
  },
  {
   "metadata": {
    "ExecuteTime": {
     "end_time": "2025-05-18T13:13:04.290022Z",
     "start_time": "2025-05-18T08:20:35.049986Z"
    }
   },
   "cell_type": "code",
   "source": "train_frame.full_setup()",
   "id": "afebbf8905c7a926",
   "outputs": [
    {
     "name": "stdout",
     "output_type": "stream",
     "text": [
      "Morgan fingerprints generation\n"
     ]
    },
    {
     "data": {
      "text/plain": [
       "  0%|          | 0/308638 [00:00<?, ?it/s]"
      ],
      "application/vnd.jupyter.widget-view+json": {
       "version_major": 2,
       "version_minor": 0,
       "model_id": "849896116df148a1b995cfb379c3e39b"
      }
     },
     "metadata": {},
     "output_type": "display_data"
    },
    {
     "name": "stdout",
     "output_type": "stream",
     "text": [
      "Pair graphs generation\n"
     ]
    },
    {
     "data": {
      "text/plain": [
       "  0%|          | 0/8977 [00:00<?, ?it/s]"
      ],
      "application/vnd.jupyter.widget-view+json": {
       "version_major": 2,
       "version_minor": 0,
       "model_id": "7780084f90b24f40a8a7f4705682d32b"
      }
     },
     "metadata": {},
     "output_type": "display_data"
    },
    {
     "data": {
      "text/plain": [
       "  0%|          | 0/8862 [00:00<?, ?it/s]"
      ],
      "application/vnd.jupyter.widget-view+json": {
       "version_major": 2,
       "version_minor": 0,
       "model_id": "29a06dc1530b492aa54b922b953ebf69"
      }
     },
     "metadata": {},
     "output_type": "display_data"
    },
    {
     "data": {
      "text/plain": [
       "  0%|          | 0/8977 [00:00<?, ?it/s]"
      ],
      "application/vnd.jupyter.widget-view+json": {
       "version_major": 2,
       "version_minor": 0,
       "model_id": "70382bbe71ad48c4ac42b1dd25e45ed5"
      }
     },
     "metadata": {},
     "output_type": "display_data"
    },
    {
     "name": "stdout",
     "output_type": "stream",
     "text": [
      "Single graphs generation\n"
     ]
    },
    {
     "data": {
      "text/plain": [
       "  0%|          | 0/8977 [00:00<?, ?it/s]"
      ],
      "application/vnd.jupyter.widget-view+json": {
       "version_major": 2,
       "version_minor": 0,
       "model_id": "1a4138ad4da34c2f9331007975a7cef8"
      }
     },
     "metadata": {},
     "output_type": "display_data"
    },
    {
     "data": {
      "text/plain": [
       "  0%|          | 0/8862 [00:00<?, ?it/s]"
      ],
      "application/vnd.jupyter.widget-view+json": {
       "version_major": 2,
       "version_minor": 0,
       "model_id": "0dc48ab1551d4ef5a7be03f88376d8ca"
      }
     },
     "metadata": {},
     "output_type": "display_data"
    },
    {
     "data": {
      "text/plain": [
       "  0%|          | 0/303721 [00:00<?, ?it/s]"
      ],
      "application/vnd.jupyter.widget-view+json": {
       "version_major": 2,
       "version_minor": 0,
       "model_id": "8f10a855fa844467a4d094350ecf6e6f"
      }
     },
     "metadata": {},
     "output_type": "display_data"
    },
    {
     "name": "stdout",
     "output_type": "stream",
     "text": [
      "Some issue happened with this molecule:\n",
      "F tensor([], size=(0, 18), dtype=torch.float64) tensor([[ 0.3778, -2.9029, -0.0516,  0.0207, -0.0122,  0.2819,  0.6688, -0.5291,\n",
      "         -0.0579,  0.9071]], dtype=torch.float64)\n",
      "Some issue happened with this molecule:\n",
      "I tensor([], size=(0, 18), dtype=torch.float64) tensor([[ -1.7835, -13.7837,   0.2648,   0.9855,  -0.0512,   6.1740,  16.5073,\n",
      "          -0.8586,  12.9492,  -6.1578]], dtype=torch.float64)\n",
      "Some issue happened with this molecule:\n",
      "Br tensor([], size=(0, 18), dtype=torch.float64) tensor([[-0.8607, -9.1956,  0.1612,  0.5943, -0.0319,  3.7545, 10.1091, -0.5307,\n",
      "          7.7046, -3.2581]], dtype=torch.float64)\n",
      "Some issue happened with this molecule:\n",
      "[Pt] tensor([], size=(0, 18), dtype=torch.float64) tensor([[ -4.9538, -21.7925,   3.7591, 751.3035, -57.7154, -22.4858,  -3.7198,\n",
      "          -1.4666,  15.1470,  -6.7274]], dtype=torch.float64)\n",
      "Some issue happened with this molecule:\n",
      "[Pt+2] tensor([], size=(0, 18), dtype=torch.float64) tensor([[ -2.3431, -14.5189,  16.9497,   2.1069,   0.0869,  25.6839,  23.9302,\n",
      "           4.8083,  21.9404,  -8.5080]], dtype=torch.float64)\n",
      "Some issue happened with this molecule:\n",
      "[CH3] tensor([], size=(0, 18), dtype=torch.float64) tensor([[ 2.5591, -1.3507,  1.4813,  6.3540, 85.0059, -2.3401, -2.1052, -1.5539,\n",
      "          1.7370, -0.4085]], dtype=torch.float64)\n"
     ]
    }
   ],
   "execution_count": 7
  },
  {
   "metadata": {},
   "cell_type": "markdown",
   "source": "### Make study",
   "id": "3571fb480ae6a0c8"
  },
  {
   "metadata": {
    "jupyter": {
     "is_executing": true
    },
    "ExecuteTime": {
     "start_time": "2025-05-18T13:39:58.482321Z"
    }
   },
   "cell_type": "code",
   "source": [
    "import pickle as pkl\n",
    "with open('../grail_metabolism/data/train.pkl', 'wb') as f, open('../grail_metabolism/data/val.pkl', 'wb') as g:\n",
    "    pkl.dump(train_frame, f, protocol=pkl.HIGHEST_PROTOCOL)\n",
    "    pkl.dump(val_frame, g, protocol=pkl.HIGHEST_PROTOCOL)"
   ],
   "id": "cfa7bbfffc7c685e",
   "outputs": [],
   "execution_count": null
  },
  {
   "metadata": {
    "ExecuteTime": {
     "end_time": "2025-05-18T13:37:41.793562Z",
     "start_time": "2025-05-18T13:37:41.187469Z"
    }
   },
   "cell_type": "code",
   "source": "study = tune.make_study(val_frame, val_frame, 'filter')",
   "id": "f09ff699249ae31f",
   "outputs": [
    {
     "name": "stderr",
     "output_type": "stream",
     "text": [
      "\u001B[32m[I 2025-05-18 16:37:41,191]\u001B[0m A new study created in memory with name: filter_single\u001B[0m\n"
     ]
    },
    {
     "name": "stdout",
     "output_type": "stream",
     "text": [
      "Starting DataLoaders generation\n"
     ]
    },
    {
     "data": {
      "text/plain": [
       "  0%|          | 0/2 [00:00<?, ?it/s]"
      ],
      "application/vnd.jupyter.widget-view+json": {
       "version_major": 2,
       "version_minor": 0,
       "model_id": "485be8e676b14d7bbb7e848adc3fb679"
      }
     },
     "metadata": {},
     "output_type": "display_data"
    },
    {
     "name": "stderr",
     "output_type": "stream",
     "text": [
      "\u001B[33m[W 2025-05-18 16:37:41,673]\u001B[0m Trial 0 failed because of the following error: NotImplementedError('Could not find signature for forward: <DataBatch, DataBatch>')\u001B[0m\n",
      "Traceback (most recent call last):\n",
      "  File \"/Users/nikitapolomosnov/anaconda3/envs/aizynth-env/lib/python3.10/site-packages/optuna/study/_optimize.py\", line 213, in _run_trial\n",
      "    value_or_values = func(trial)\n",
      "  File \"/Users/nikitapolomosnov/PycharmProjects/GRAIL/grail_metabolism/../grail_metabolism/utils/optuna.py\", line 51, in objective\n",
      "    train_set.train_singles(model, test_set, lr=lr, eps=2, decay=decay)\n",
      "  File \"/Users/nikitapolomosnov/PycharmProjects/GRAIL/grail_metabolism/../grail_metabolism/utils/preparation.py\", line 911, in train_singles\n",
      "    out = model(sub_batch, met_batch)\n",
      "  File \"/Users/nikitapolomosnov/anaconda3/envs/aizynth-env/lib/python3.10/site-packages/torch/nn/modules/module.py\", line 1194, in _call_impl\n",
      "    return forward_call(*input, **kwargs)\n",
      "  File \"/Users/nikitapolomosnov/anaconda3/envs/aizynth-env/lib/python3.10/site-packages/multipledispatch/dispatcher.py\", line 435, in __call__\n",
      "    raise NotImplementedError(\n",
      "NotImplementedError: Could not find signature for forward: <DataBatch, DataBatch>\n"
     ]
    },
    {
     "ename": "NotImplementedError",
     "evalue": "Could not find signature for forward: <DataBatch, DataBatch>",
     "output_type": "error",
     "traceback": [
      "\u001B[0;31m---------------------------------------------------------------------------\u001B[0m",
      "\u001B[0;31mNotImplementedError\u001B[0m                       Traceback (most recent call last)",
      "Cell \u001B[0;32mIn[11], line 1\u001B[0m\n\u001B[0;32m----> 1\u001B[0m study \u001B[38;5;241m=\u001B[39m \u001B[43mtune\u001B[49m\u001B[38;5;241;43m.\u001B[39;49m\u001B[43mmake_study\u001B[49m\u001B[43m(\u001B[49m\u001B[43mval_frame\u001B[49m\u001B[43m,\u001B[49m\u001B[43m \u001B[49m\u001B[43mval_frame\u001B[49m\u001B[43m,\u001B[49m\u001B[43m \u001B[49m\u001B[38;5;124;43m'\u001B[39;49m\u001B[38;5;124;43mfilter\u001B[39;49m\u001B[38;5;124;43m'\u001B[39;49m\u001B[43m)\u001B[49m\n",
      "File \u001B[0;32m~/PycharmProjects/GRAIL/grail_metabolism/../grail_metabolism/utils/optuna.py:64\u001B[0m, in \u001B[0;36mOptunaWrapper.make_study\u001B[0;34m(self, train_set, test_set, direction, rule_dict)\u001B[0m\n\u001B[1;32m     61\u001B[0m         _, loss \u001B[38;5;241m=\u001B[39m train_set\u001B[38;5;241m.\u001B[39mtrain_generator(model, lr, eps\u001B[38;5;241m=\u001B[39m\u001B[38;5;241m10\u001B[39m, decay\u001B[38;5;241m=\u001B[39mdecay)\n\u001B[1;32m     62\u001B[0m         \u001B[38;5;28;01mreturn\u001B[39;00m loss\n\u001B[0;32m---> 64\u001B[0m \u001B[43mstudy\u001B[49m\u001B[38;5;241;43m.\u001B[39;49m\u001B[43moptimize\u001B[49m\u001B[43m(\u001B[49m\u001B[43mobjective\u001B[49m\u001B[43m,\u001B[49m\u001B[43m \u001B[49m\u001B[43mn_trials\u001B[49m\u001B[38;5;241;43m=\u001B[39;49m\u001B[38;5;241;43m100\u001B[39;49m\u001B[43m)\u001B[49m\n\u001B[1;32m     65\u001B[0m \u001B[38;5;28mself\u001B[39m\u001B[38;5;241m.\u001B[39mstudy \u001B[38;5;241m=\u001B[39m study\n",
      "File \u001B[0;32m~/anaconda3/envs/aizynth-env/lib/python3.10/site-packages/optuna/study/study.py:400\u001B[0m, in \u001B[0;36mStudy.optimize\u001B[0;34m(self, func, n_trials, timeout, n_jobs, catch, callbacks, gc_after_trial, show_progress_bar)\u001B[0m\n\u001B[1;32m    392\u001B[0m \u001B[38;5;28;01mif\u001B[39;00m n_jobs \u001B[38;5;241m!=\u001B[39m \u001B[38;5;241m1\u001B[39m:\n\u001B[1;32m    393\u001B[0m     warnings\u001B[38;5;241m.\u001B[39mwarn(\n\u001B[1;32m    394\u001B[0m         \u001B[38;5;124m\"\u001B[39m\u001B[38;5;124m`n_jobs` argument has been deprecated in v2.7.0. \u001B[39m\u001B[38;5;124m\"\u001B[39m\n\u001B[1;32m    395\u001B[0m         \u001B[38;5;124m\"\u001B[39m\u001B[38;5;124mThis feature will be removed in v4.0.0. \u001B[39m\u001B[38;5;124m\"\u001B[39m\n\u001B[1;32m    396\u001B[0m         \u001B[38;5;124m\"\u001B[39m\u001B[38;5;124mSee https://github.com/optuna/optuna/releases/tag/v2.7.0.\u001B[39m\u001B[38;5;124m\"\u001B[39m,\n\u001B[1;32m    397\u001B[0m         \u001B[38;5;167;01mFutureWarning\u001B[39;00m,\n\u001B[1;32m    398\u001B[0m     )\n\u001B[0;32m--> 400\u001B[0m \u001B[43m_optimize\u001B[49m\u001B[43m(\u001B[49m\n\u001B[1;32m    401\u001B[0m \u001B[43m    \u001B[49m\u001B[43mstudy\u001B[49m\u001B[38;5;241;43m=\u001B[39;49m\u001B[38;5;28;43mself\u001B[39;49m\u001B[43m,\u001B[49m\n\u001B[1;32m    402\u001B[0m \u001B[43m    \u001B[49m\u001B[43mfunc\u001B[49m\u001B[38;5;241;43m=\u001B[39;49m\u001B[43mfunc\u001B[49m\u001B[43m,\u001B[49m\n\u001B[1;32m    403\u001B[0m \u001B[43m    \u001B[49m\u001B[43mn_trials\u001B[49m\u001B[38;5;241;43m=\u001B[39;49m\u001B[43mn_trials\u001B[49m\u001B[43m,\u001B[49m\n\u001B[1;32m    404\u001B[0m \u001B[43m    \u001B[49m\u001B[43mtimeout\u001B[49m\u001B[38;5;241;43m=\u001B[39;49m\u001B[43mtimeout\u001B[49m\u001B[43m,\u001B[49m\n\u001B[1;32m    405\u001B[0m \u001B[43m    \u001B[49m\u001B[43mn_jobs\u001B[49m\u001B[38;5;241;43m=\u001B[39;49m\u001B[43mn_jobs\u001B[49m\u001B[43m,\u001B[49m\n\u001B[1;32m    406\u001B[0m \u001B[43m    \u001B[49m\u001B[43mcatch\u001B[49m\u001B[38;5;241;43m=\u001B[39;49m\u001B[43mcatch\u001B[49m\u001B[43m,\u001B[49m\n\u001B[1;32m    407\u001B[0m \u001B[43m    \u001B[49m\u001B[43mcallbacks\u001B[49m\u001B[38;5;241;43m=\u001B[39;49m\u001B[43mcallbacks\u001B[49m\u001B[43m,\u001B[49m\n\u001B[1;32m    408\u001B[0m \u001B[43m    \u001B[49m\u001B[43mgc_after_trial\u001B[49m\u001B[38;5;241;43m=\u001B[39;49m\u001B[43mgc_after_trial\u001B[49m\u001B[43m,\u001B[49m\n\u001B[1;32m    409\u001B[0m \u001B[43m    \u001B[49m\u001B[43mshow_progress_bar\u001B[49m\u001B[38;5;241;43m=\u001B[39;49m\u001B[43mshow_progress_bar\u001B[49m\u001B[43m,\u001B[49m\n\u001B[1;32m    410\u001B[0m \u001B[43m\u001B[49m\u001B[43m)\u001B[49m\n",
      "File \u001B[0;32m~/anaconda3/envs/aizynth-env/lib/python3.10/site-packages/optuna/study/_optimize.py:66\u001B[0m, in \u001B[0;36m_optimize\u001B[0;34m(study, func, n_trials, timeout, n_jobs, catch, callbacks, gc_after_trial, show_progress_bar)\u001B[0m\n\u001B[1;32m     64\u001B[0m \u001B[38;5;28;01mtry\u001B[39;00m:\n\u001B[1;32m     65\u001B[0m     \u001B[38;5;28;01mif\u001B[39;00m n_jobs \u001B[38;5;241m==\u001B[39m \u001B[38;5;241m1\u001B[39m:\n\u001B[0;32m---> 66\u001B[0m         \u001B[43m_optimize_sequential\u001B[49m\u001B[43m(\u001B[49m\n\u001B[1;32m     67\u001B[0m \u001B[43m            \u001B[49m\u001B[43mstudy\u001B[49m\u001B[43m,\u001B[49m\n\u001B[1;32m     68\u001B[0m \u001B[43m            \u001B[49m\u001B[43mfunc\u001B[49m\u001B[43m,\u001B[49m\n\u001B[1;32m     69\u001B[0m \u001B[43m            \u001B[49m\u001B[43mn_trials\u001B[49m\u001B[43m,\u001B[49m\n\u001B[1;32m     70\u001B[0m \u001B[43m            \u001B[49m\u001B[43mtimeout\u001B[49m\u001B[43m,\u001B[49m\n\u001B[1;32m     71\u001B[0m \u001B[43m            \u001B[49m\u001B[43mcatch\u001B[49m\u001B[43m,\u001B[49m\n\u001B[1;32m     72\u001B[0m \u001B[43m            \u001B[49m\u001B[43mcallbacks\u001B[49m\u001B[43m,\u001B[49m\n\u001B[1;32m     73\u001B[0m \u001B[43m            \u001B[49m\u001B[43mgc_after_trial\u001B[49m\u001B[43m,\u001B[49m\n\u001B[1;32m     74\u001B[0m \u001B[43m            \u001B[49m\u001B[43mreseed_sampler_rng\u001B[49m\u001B[38;5;241;43m=\u001B[39;49m\u001B[38;5;28;43;01mFalse\u001B[39;49;00m\u001B[43m,\u001B[49m\n\u001B[1;32m     75\u001B[0m \u001B[43m            \u001B[49m\u001B[43mtime_start\u001B[49m\u001B[38;5;241;43m=\u001B[39;49m\u001B[38;5;28;43;01mNone\u001B[39;49;00m\u001B[43m,\u001B[49m\n\u001B[1;32m     76\u001B[0m \u001B[43m            \u001B[49m\u001B[43mprogress_bar\u001B[49m\u001B[38;5;241;43m=\u001B[39;49m\u001B[43mprogress_bar\u001B[49m\u001B[43m,\u001B[49m\n\u001B[1;32m     77\u001B[0m \u001B[43m        \u001B[49m\u001B[43m)\u001B[49m\n\u001B[1;32m     78\u001B[0m     \u001B[38;5;28;01melse\u001B[39;00m:\n\u001B[1;32m     79\u001B[0m         \u001B[38;5;28;01mif\u001B[39;00m show_progress_bar:\n",
      "File \u001B[0;32m~/anaconda3/envs/aizynth-env/lib/python3.10/site-packages/optuna/study/_optimize.py:163\u001B[0m, in \u001B[0;36m_optimize_sequential\u001B[0;34m(study, func, n_trials, timeout, catch, callbacks, gc_after_trial, reseed_sampler_rng, time_start, progress_bar)\u001B[0m\n\u001B[1;32m    160\u001B[0m         \u001B[38;5;28;01mbreak\u001B[39;00m\n\u001B[1;32m    162\u001B[0m \u001B[38;5;28;01mtry\u001B[39;00m:\n\u001B[0;32m--> 163\u001B[0m     trial \u001B[38;5;241m=\u001B[39m \u001B[43m_run_trial\u001B[49m\u001B[43m(\u001B[49m\u001B[43mstudy\u001B[49m\u001B[43m,\u001B[49m\u001B[43m \u001B[49m\u001B[43mfunc\u001B[49m\u001B[43m,\u001B[49m\u001B[43m \u001B[49m\u001B[43mcatch\u001B[49m\u001B[43m)\u001B[49m\n\u001B[1;32m    164\u001B[0m \u001B[38;5;28;01mexcept\u001B[39;00m \u001B[38;5;167;01mException\u001B[39;00m:\n\u001B[1;32m    165\u001B[0m     \u001B[38;5;28;01mraise\u001B[39;00m\n",
      "File \u001B[0;32m~/anaconda3/envs/aizynth-env/lib/python3.10/site-packages/optuna/study/_optimize.py:264\u001B[0m, in \u001B[0;36m_run_trial\u001B[0;34m(study, func, catch)\u001B[0m\n\u001B[1;32m    261\u001B[0m         \u001B[38;5;28;01massert\u001B[39;00m \u001B[38;5;28;01mFalse\u001B[39;00m, \u001B[38;5;124m\"\u001B[39m\u001B[38;5;124mShould not reach.\u001B[39m\u001B[38;5;124m\"\u001B[39m\n\u001B[1;32m    263\u001B[0m \u001B[38;5;28;01mif\u001B[39;00m state \u001B[38;5;241m==\u001B[39m TrialState\u001B[38;5;241m.\u001B[39mFAIL \u001B[38;5;129;01mand\u001B[39;00m func_err \u001B[38;5;129;01mis\u001B[39;00m \u001B[38;5;129;01mnot\u001B[39;00m \u001B[38;5;28;01mNone\u001B[39;00m \u001B[38;5;129;01mand\u001B[39;00m \u001B[38;5;129;01mnot\u001B[39;00m \u001B[38;5;28misinstance\u001B[39m(func_err, catch):\n\u001B[0;32m--> 264\u001B[0m     \u001B[38;5;28;01mraise\u001B[39;00m func_err\n\u001B[1;32m    265\u001B[0m \u001B[38;5;28;01mreturn\u001B[39;00m trial\n",
      "File \u001B[0;32m~/anaconda3/envs/aizynth-env/lib/python3.10/site-packages/optuna/study/_optimize.py:213\u001B[0m, in \u001B[0;36m_run_trial\u001B[0;34m(study, func, catch)\u001B[0m\n\u001B[1;32m    210\u001B[0m     thread\u001B[38;5;241m.\u001B[39mstart()\n\u001B[1;32m    212\u001B[0m \u001B[38;5;28;01mtry\u001B[39;00m:\n\u001B[0;32m--> 213\u001B[0m     value_or_values \u001B[38;5;241m=\u001B[39m \u001B[43mfunc\u001B[49m\u001B[43m(\u001B[49m\u001B[43mtrial\u001B[49m\u001B[43m)\u001B[49m\n\u001B[1;32m    214\u001B[0m \u001B[38;5;28;01mexcept\u001B[39;00m exceptions\u001B[38;5;241m.\u001B[39mTrialPruned \u001B[38;5;28;01mas\u001B[39;00m e:\n\u001B[1;32m    215\u001B[0m     \u001B[38;5;66;03m# TODO(mamu): Handle multi-objective cases.\u001B[39;00m\n\u001B[1;32m    216\u001B[0m     state \u001B[38;5;241m=\u001B[39m TrialState\u001B[38;5;241m.\u001B[39mPRUNED\n",
      "File \u001B[0;32m~/PycharmProjects/GRAIL/grail_metabolism/../grail_metabolism/utils/optuna.py:51\u001B[0m, in \u001B[0;36mOptunaWrapper.make_study.<locals>.objective\u001B[0;34m(trial)\u001B[0m\n\u001B[1;32m     49\u001B[0m \u001B[38;5;28;01melif\u001B[39;00m \u001B[38;5;28mself\u001B[39m\u001B[38;5;241m.\u001B[39mmode \u001B[38;5;241m==\u001B[39m \u001B[38;5;124m'\u001B[39m\u001B[38;5;124msingle\u001B[39m\u001B[38;5;124m'\u001B[39m:\n\u001B[1;32m     50\u001B[0m     model \u001B[38;5;241m=\u001B[39m Filter(\u001B[38;5;241m12\u001B[39m, \u001B[38;5;241m6\u001B[39m, arg_vec, \u001B[38;5;28mself\u001B[39m\u001B[38;5;241m.\u001B[39mmode)\n\u001B[0;32m---> 51\u001B[0m     \u001B[43mtrain_set\u001B[49m\u001B[38;5;241;43m.\u001B[39;49m\u001B[43mtrain_singles\u001B[49m\u001B[43m(\u001B[49m\u001B[43mmodel\u001B[49m\u001B[43m,\u001B[49m\u001B[43m \u001B[49m\u001B[43mtest_set\u001B[49m\u001B[43m,\u001B[49m\u001B[43m \u001B[49m\u001B[43mlr\u001B[49m\u001B[38;5;241;43m=\u001B[39;49m\u001B[43mlr\u001B[49m\u001B[43m,\u001B[49m\u001B[43m \u001B[49m\u001B[43meps\u001B[49m\u001B[38;5;241;43m=\u001B[39;49m\u001B[38;5;241;43m2\u001B[39;49m\u001B[43m,\u001B[49m\u001B[43m \u001B[49m\u001B[43mdecay\u001B[49m\u001B[38;5;241;43m=\u001B[39;49m\u001B[43mdecay\u001B[49m\u001B[43m)\u001B[49m\n\u001B[1;32m     52\u001B[0m \u001B[38;5;28;01melse\u001B[39;00m:\n\u001B[1;32m     53\u001B[0m     \u001B[38;5;28;01mraise\u001B[39;00m \u001B[38;5;167;01mValueError\u001B[39;00m\n",
      "File \u001B[0;32m~/PycharmProjects/GRAIL/grail_metabolism/../grail_metabolism/utils/preparation.py:911\u001B[0m, in \u001B[0;36mMolFrame.train_singles\u001B[0;34m(self, model, test, lr, eps, decay, verbose)\u001B[0m\n\u001B[1;32m    909\u001B[0m met_batch \u001B[38;5;241m=\u001B[39m batch[\u001B[38;5;241m1\u001B[39m]\u001B[38;5;241m.\u001B[39mto(device)\n\u001B[1;32m    910\u001B[0m sub_batch \u001B[38;5;241m=\u001B[39m batch[\u001B[38;5;241m0\u001B[39m]\u001B[38;5;241m.\u001B[39mto(device)\n\u001B[0;32m--> 911\u001B[0m out \u001B[38;5;241m=\u001B[39m \u001B[43mmodel\u001B[49m\u001B[43m(\u001B[49m\u001B[43msub_batch\u001B[49m\u001B[43m,\u001B[49m\u001B[43m \u001B[49m\u001B[43mmet_batch\u001B[49m\u001B[43m)\u001B[49m\n\u001B[1;32m    912\u001B[0m loss \u001B[38;5;241m=\u001B[39m criterion(out, met_batch\u001B[38;5;241m.\u001B[39my\u001B[38;5;241m.\u001B[39munsqueeze(\u001B[38;5;241m1\u001B[39m)\u001B[38;5;241m.\u001B[39mfloat())\n\u001B[1;32m    913\u001B[0m history\u001B[38;5;241m.\u001B[39mappend(loss\u001B[38;5;241m.\u001B[39mitem())\n",
      "File \u001B[0;32m~/anaconda3/envs/aizynth-env/lib/python3.10/site-packages/torch/nn/modules/module.py:1194\u001B[0m, in \u001B[0;36mModule._call_impl\u001B[0;34m(self, *input, **kwargs)\u001B[0m\n\u001B[1;32m   1190\u001B[0m \u001B[38;5;66;03m# If we don't have any hooks, we want to skip the rest of the logic in\u001B[39;00m\n\u001B[1;32m   1191\u001B[0m \u001B[38;5;66;03m# this function, and just call forward.\u001B[39;00m\n\u001B[1;32m   1192\u001B[0m \u001B[38;5;28;01mif\u001B[39;00m \u001B[38;5;129;01mnot\u001B[39;00m (\u001B[38;5;28mself\u001B[39m\u001B[38;5;241m.\u001B[39m_backward_hooks \u001B[38;5;129;01mor\u001B[39;00m \u001B[38;5;28mself\u001B[39m\u001B[38;5;241m.\u001B[39m_forward_hooks \u001B[38;5;129;01mor\u001B[39;00m \u001B[38;5;28mself\u001B[39m\u001B[38;5;241m.\u001B[39m_forward_pre_hooks \u001B[38;5;129;01mor\u001B[39;00m _global_backward_hooks\n\u001B[1;32m   1193\u001B[0m         \u001B[38;5;129;01mor\u001B[39;00m _global_forward_hooks \u001B[38;5;129;01mor\u001B[39;00m _global_forward_pre_hooks):\n\u001B[0;32m-> 1194\u001B[0m     \u001B[38;5;28;01mreturn\u001B[39;00m \u001B[43mforward_call\u001B[49m\u001B[43m(\u001B[49m\u001B[38;5;241;43m*\u001B[39;49m\u001B[38;5;28;43minput\u001B[39;49m\u001B[43m,\u001B[49m\u001B[43m \u001B[49m\u001B[38;5;241;43m*\u001B[39;49m\u001B[38;5;241;43m*\u001B[39;49m\u001B[43mkwargs\u001B[49m\u001B[43m)\u001B[49m\n\u001B[1;32m   1195\u001B[0m \u001B[38;5;66;03m# Do not call functions when jit is used\u001B[39;00m\n\u001B[1;32m   1196\u001B[0m full_backward_hooks, non_full_backward_hooks \u001B[38;5;241m=\u001B[39m [], []\n",
      "File \u001B[0;32m~/anaconda3/envs/aizynth-env/lib/python3.10/site-packages/multipledispatch/dispatcher.py:435\u001B[0m, in \u001B[0;36mMethodDispatcher.__call__\u001B[0;34m(self, *args, **kwargs)\u001B[0m\n\u001B[1;32m    433\u001B[0m func \u001B[38;5;241m=\u001B[39m \u001B[38;5;28mself\u001B[39m\u001B[38;5;241m.\u001B[39mdispatch(\u001B[38;5;241m*\u001B[39mtypes)\n\u001B[1;32m    434\u001B[0m \u001B[38;5;28;01mif\u001B[39;00m \u001B[38;5;129;01mnot\u001B[39;00m func:\n\u001B[0;32m--> 435\u001B[0m     \u001B[38;5;28;01mraise\u001B[39;00m \u001B[38;5;167;01mNotImplementedError\u001B[39;00m(\n\u001B[1;32m    436\u001B[0m         \u001B[38;5;124m\"\u001B[39m\u001B[38;5;124mCould not find signature for \u001B[39m\u001B[38;5;132;01m%s\u001B[39;00m\u001B[38;5;124m: <\u001B[39m\u001B[38;5;132;01m%s\u001B[39;00m\u001B[38;5;124m>\u001B[39m\u001B[38;5;124m\"\u001B[39m\n\u001B[1;32m    437\u001B[0m         \u001B[38;5;241m%\u001B[39m (\u001B[38;5;28mself\u001B[39m\u001B[38;5;241m.\u001B[39mname, str_signature(types))\n\u001B[1;32m    438\u001B[0m     )\n\u001B[1;32m    439\u001B[0m \u001B[38;5;28;01mreturn\u001B[39;00m func(\u001B[38;5;28mself\u001B[39m\u001B[38;5;241m.\u001B[39mobj, \u001B[38;5;241m*\u001B[39margs, \u001B[38;5;241m*\u001B[39m\u001B[38;5;241m*\u001B[39mkwargs)\n",
      "\u001B[0;31mNotImplementedError\u001B[0m: Could not find signature for forward: <DataBatch, DataBatch>"
     ]
    }
   ],
   "execution_count": 11
  }
 ],
 "metadata": {
  "kernelspec": {
   "display_name": "Synthon",
   "language": "python",
   "name": "aizynth-env"
  },
  "language_info": {
   "codemirror_mode": {
    "name": "ipython",
    "version": 2
   },
   "file_extension": ".py",
   "mimetype": "text/x-python",
   "name": "python",
   "nbconvert_exporter": "python",
   "pygments_lexer": "ipython2",
   "version": "2.7.6"
  }
 },
 "nbformat": 4,
 "nbformat_minor": 5
}
