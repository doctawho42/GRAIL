{
 "cells": [
  {
   "cell_type": "code",
   "id": "initial_id",
   "metadata": {
    "collapsed": true,
    "ExecuteTime": {
     "end_time": "2025-05-17T15:15:39.359258Z",
     "start_time": "2025-05-17T15:15:36.154052Z"
    }
   },
   "source": [
    "import sys\n",
    "sys.path.append('..')\n",
    "from grail_metabolism.utils.optuna import OptunaWrapper\n",
    "from grail_metabolism.utils.preparation import MolFrame"
   ],
   "outputs": [
    {
     "name": "stdout",
     "output_type": "stream",
     "text": [
      "ATTENTION: RXNMapper is not installed. Please install it first if you want to create your own set of rules.\n",
      "ATTENTION: you use incorrect for rxnmapper version of rdkit\n"
     ]
    }
   ],
   "execution_count": 3
  },
  {
   "metadata": {
    "ExecuteTime": {
     "end_time": "2025-05-17T15:15:39.367660Z",
     "start_time": "2025-05-17T15:15:39.365710Z"
    }
   },
   "cell_type": "code",
   "source": "tune = OptunaWrapper()",
   "id": "e95d7dd811d7b013",
   "outputs": [],
   "execution_count": 4
  },
  {
   "metadata": {
    "ExecuteTime": {
     "end_time": "2025-05-17T15:17:14.287100Z",
     "start_time": "2025-05-17T15:15:45.155113Z"
    }
   },
   "cell_type": "code",
   "source": [
    "val_triples = MolFrame.read_triples('../grail_metabolism/data/val_triples.txt')\n",
    "val_frame = MolFrame.from_file('../grail_metabolism/data/val.sdf', val_triples, standartize=False)"
   ],
   "id": "44c59d11b6976e3c",
   "outputs": [
    {
     "data": {
      "text/plain": [
       "Processing reactions:   0%|          | 0/1061 [00:00<?, ?it/s]"
      ],
      "application/vnd.jupyter.widget-view+json": {
       "version_major": 2,
       "version_minor": 0,
       "model_id": "76abfab93a2145948060a7d98eaa7db8"
      }
     },
     "metadata": {},
     "output_type": "display_data"
    }
   ],
   "execution_count": 5
  },
  {
   "metadata": {
    "ExecuteTime": {
     "end_time": "2025-05-17T15:54:05.765216Z",
     "start_time": "2025-05-17T15:17:14.306831Z"
    }
   },
   "cell_type": "code",
   "source": "val_frame.full_setup()",
   "id": "898c21a7cd0c8cec",
   "outputs": [
    {
     "name": "stdout",
     "output_type": "stream",
     "text": [
      "Morgan fingerprints generation\n"
     ]
    },
    {
     "data": {
      "text/plain": [
       "  0%|          | 0/36621 [00:00<?, ?it/s]"
      ],
      "application/vnd.jupyter.widget-view+json": {
       "version_major": 2,
       "version_minor": 0,
       "model_id": "00695947048e41a9984de843a53a2c3a"
      }
     },
     "metadata": {},
     "output_type": "display_data"
    },
    {
     "name": "stdout",
     "output_type": "stream",
     "text": [
      "Pair graphs generation\n"
     ]
    },
    {
     "data": {
      "text/plain": [
       "  0%|          | 0/1035 [00:00<?, ?it/s]"
      ],
      "application/vnd.jupyter.widget-view+json": {
       "version_major": 2,
       "version_minor": 0,
       "model_id": "e23d7c8d7c5d43b0a46f672355574125"
      }
     },
     "metadata": {},
     "output_type": "display_data"
    },
    {
     "data": {
      "text/plain": [
       "  0%|          | 0/1024 [00:00<?, ?it/s]"
      ],
      "application/vnd.jupyter.widget-view+json": {
       "version_major": 2,
       "version_minor": 0,
       "model_id": "2bc622bd7fb44c2681f64869d31a410a"
      }
     },
     "metadata": {},
     "output_type": "display_data"
    },
    {
     "data": {
      "text/plain": [
       "  0%|          | 0/1035 [00:00<?, ?it/s]"
      ],
      "application/vnd.jupyter.widget-view+json": {
       "version_major": 2,
       "version_minor": 0,
       "model_id": "8823cb16bfa8473cba1815dbd4864d67"
      }
     },
     "metadata": {},
     "output_type": "display_data"
    },
    {
     "name": "stdout",
     "output_type": "stream",
     "text": [
      "Single graphs generation\n"
     ]
    },
    {
     "data": {
      "text/plain": [
       "  0%|          | 0/1035 [00:00<?, ?it/s]"
      ],
      "application/vnd.jupyter.widget-view+json": {
       "version_major": 2,
       "version_minor": 0,
       "model_id": "2a753f6fa7fe47309074c47075820cb6"
      }
     },
     "metadata": {},
     "output_type": "display_data"
    },
    {
     "data": {
      "text/plain": [
       "  0%|          | 0/1024 [00:00<?, ?it/s]"
      ],
      "application/vnd.jupyter.widget-view+json": {
       "version_major": 2,
       "version_minor": 0,
       "model_id": "503dcfcabbde4c34865fde60f907083c"
      }
     },
     "metadata": {},
     "output_type": "display_data"
    },
    {
     "data": {
      "text/plain": [
       "  0%|          | 0/36012 [00:00<?, ?it/s]"
      ],
      "application/vnd.jupyter.widget-view+json": {
       "version_major": 2,
       "version_minor": 0,
       "model_id": "14618acde0954a388cf772641a79f396"
      }
     },
     "metadata": {},
     "output_type": "display_data"
    },
    {
     "name": "stdout",
     "output_type": "stream",
     "text": [
      "Some issue happened with this molecule:\n",
      "I tensor([], size=(0, 18), dtype=torch.float64) tensor([[ -1.7835, -13.7837,   0.2648,   0.9855,  -0.0512,   6.1740,  16.5073,\n",
      "          -0.8586,  12.9492,  -6.1578]], dtype=torch.float64)\n",
      "Some issue happened with this molecule:\n",
      "F tensor([], size=(0, 18), dtype=torch.float64) tensor([[ 0.3778, -2.9029, -0.0516,  0.0207, -0.0122,  0.2819,  0.6688, -0.5291,\n",
      "         -0.0579,  0.9071]], dtype=torch.float64)\n"
     ]
    }
   ],
   "execution_count": 6
  },
  {
   "metadata": {
    "ExecuteTime": {
     "end_time": "2025-05-17T16:08:13.924524Z",
     "start_time": "2025-05-17T15:54:05.793304Z"
    }
   },
   "cell_type": "code",
   "source": [
    "triples = MolFrame.read_triples('../grail_metabolism/data/train_triples.txt')\n",
    "train_frame = MolFrame.from_file('../grail_metabolism/data/train.sdf', triples, standartize=False)"
   ],
   "id": "54f7540489191f21",
   "outputs": [
    {
     "data": {
      "text/plain": [
       "Processing reactions:   0%|          | 0/9182 [00:00<?, ?it/s]"
      ],
      "application/vnd.jupyter.widget-view+json": {
       "version_major": 2,
       "version_minor": 0,
       "model_id": "786526a5f2f04255abd995bfd2201bcb"
      }
     },
     "metadata": {},
     "output_type": "display_data"
    }
   ],
   "execution_count": 7
  },
  {
   "metadata": {
    "ExecuteTime": {
     "end_time": "2025-05-17T16:08:14.188765Z",
     "start_time": "2025-05-17T16:08:14.186736Z"
    }
   },
   "cell_type": "code",
   "source": [
    "del train_frame.map['O=C(OC1OC2COC(=O)c3cc(O)c(O)c(O)c3-c3c(cc(O)c(O)c3O)C(=O)OC2C2OC(=O)c3cc(O)c(O)c(O)c3-c3c(cc(O)c(O)c3O)C(=O)OC12)c1cc(O)c(O)c(Oc2c(O)c(O)c(O)c3c2C(=O)OC2C(COC(=O)c4cc(O)c(O)c(O)c4-3)OC(OC(=O)c3cc(O)c(O)c(O)c3)C3OC(=O)c4cc(O)c(O)c(O)c4-c4c(cc(O)c(O)c4O)C(=O)OC23)c1']\n",
    "del train_frame.gen_map['O=C(OC1OC2COC(=O)c3cc(O)c(O)c(O)c3-c3c(cc(O)c(O)c3O)C(=O)OC2C2OC(=O)c3cc(O)c(O)c(O)c3-c3c(cc(O)c(O)c3O)C(=O)OC12)c1cc(O)c(O)c(Oc2c(O)c(O)c(O)c3c2C(=O)OC2C(COC(=O)c4cc(O)c(O)c(O)c4-3)OC(OC(=O)c3cc(O)c(O)c(O)c3)C3OC(=O)c4cc(O)c(O)c(O)c4-c4c(cc(O)c(O)c4O)C(=O)OC23)c1']"
   ],
   "id": "59c2c0c2d2b14289",
   "outputs": [],
   "execution_count": 8
  },
  {
   "metadata": {
    "jupyter": {
     "is_executing": true
    },
    "ExecuteTime": {
     "start_time": "2025-05-17T16:08:14.268207Z"
    }
   },
   "cell_type": "code",
   "source": "train_frame.full_setup()",
   "id": "afebbf8905c7a926",
   "outputs": [
    {
     "name": "stdout",
     "output_type": "stream",
     "text": [
      "Morgan fingerprints generation\n"
     ]
    },
    {
     "data": {
      "text/plain": [
       "  0%|          | 0/308638 [00:00<?, ?it/s]"
      ],
      "application/vnd.jupyter.widget-view+json": {
       "version_major": 2,
       "version_minor": 0,
       "model_id": "3043b6eaa425488b8daa371e24ce7cec"
      }
     },
     "metadata": {},
     "output_type": "display_data"
    },
    {
     "name": "stdout",
     "output_type": "stream",
     "text": [
      "Pair graphs generation\n"
     ]
    },
    {
     "data": {
      "text/plain": [
       "  0%|          | 0/8977 [00:00<?, ?it/s]"
      ],
      "application/vnd.jupyter.widget-view+json": {
       "version_major": 2,
       "version_minor": 0,
       "model_id": "6d1142668b694c64bde9e39006141d90"
      }
     },
     "metadata": {},
     "output_type": "display_data"
    }
   ],
   "execution_count": null
  },
  {
   "metadata": {
    "jupyter": {
     "is_executing": true
    },
    "ExecuteTime": {
     "end_time": "2025-05-17T15:15:21.601834Z",
     "start_time": "2025-05-17T15:10:20.937058Z"
    }
   },
   "cell_type": "code",
   "source": "study = tune.make_study(train_frame, val_frame, 'filter')",
   "id": "f09ff699249ae31f",
   "outputs": [
    {
     "name": "stderr",
     "output_type": "stream",
     "text": [
      "\u001B[32m[I 2025-05-17 18:10:20,945]\u001B[0m A new study created in memory with name: filter_pair\u001B[0m\n"
     ]
    },
    {
     "name": "stdout",
     "output_type": "stream",
     "text": [
      "Starting DataLoaders generation\n"
     ]
    },
    {
     "data": {
      "text/plain": [
       "  0%|          | 0/2 [00:00<?, ?it/s]"
      ],
      "application/vnd.jupyter.widget-view+json": {
       "version_major": 2,
       "version_minor": 0,
       "model_id": "8f1949fb755f40cdbcdcd8f0f346ad51"
      }
     },
     "metadata": {},
     "output_type": "display_data"
    }
   ],
   "execution_count": null
  },
  {
   "metadata": {
    "ExecuteTime": {
     "end_time": "2025-05-16T18:36:42.311253Z",
     "start_time": "2025-05-16T18:36:42.260384Z"
    }
   },
   "cell_type": "code",
   "source": "list(val_frame.negs.keys())[864]",
   "id": "4cafc8210b9115ae",
   "outputs": [
    {
     "data": {
      "text/plain": [
       "'O=C(COc1ccc(C(=O)CN2CCN(C3CCNCC3)CC2=O)cc1)OC1CCCCC1'"
      ]
     },
     "execution_count": 14,
     "metadata": {},
     "output_type": "execute_result"
    }
   ],
   "execution_count": 14
  },
  {
   "metadata": {},
   "cell_type": "code",
   "outputs": [],
   "execution_count": null,
   "source": "864",
   "id": "cc60b09036a5eb44"
  }
 ],
 "metadata": {
  "kernelspec": {
   "display_name": "Synthon",
   "language": "python",
   "name": "aizynth-env"
  },
  "language_info": {
   "codemirror_mode": {
    "name": "ipython",
    "version": 2
   },
   "file_extension": ".py",
   "mimetype": "text/x-python",
   "name": "python",
   "nbconvert_exporter": "python",
   "pygments_lexer": "ipython2",
   "version": "2.7.6"
  }
 },
 "nbformat": 4,
 "nbformat_minor": 5
}
