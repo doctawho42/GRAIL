{
 "cells": [
  {
   "cell_type": "code",
   "id": "initial_id",
   "metadata": {
    "collapsed": true,
    "ExecuteTime": {
     "end_time": "2025-05-16T18:48:18.282161Z",
     "start_time": "2025-05-16T18:48:15.760519Z"
    }
   },
   "source": [
    "import sys\n",
    "sys.path.append('..')\n",
    "from grail_metabolism.utils.optuna import OptunaWrapper\n",
    "from grail_metabolism.utils.preparation import MolFrame"
   ],
   "outputs": [
    {
     "name": "stdout",
     "output_type": "stream",
     "text": [
      "ATTENTION: RXNMapper is not installed. Please install it first if you want to create your own set of rules.\n",
      "ATTENTION: you use incorrect for rxnmapper version of rdkit\n"
     ]
    }
   ],
   "execution_count": 1
  },
  {
   "metadata": {
    "ExecuteTime": {
     "end_time": "2025-05-16T18:49:11.491976Z",
     "start_time": "2025-05-16T18:49:11.486353Z"
    }
   },
   "cell_type": "code",
   "source": "tune = OptunaWrapper()",
   "id": "e95d7dd811d7b013",
   "outputs": [],
   "execution_count": 2
  },
  {
   "metadata": {
    "ExecuteTime": {
     "end_time": "2025-05-16T18:50:55.066551Z",
     "start_time": "2025-05-16T18:49:23.603133Z"
    }
   },
   "cell_type": "code",
   "source": [
    "val_triples = MolFrame.read_triples('../grail_metabolism/data/val_triples.txt')\n",
    "val_frame = MolFrame.from_file('../grail_metabolism/data/val.sdf', val_triples, standartize=False)"
   ],
   "id": "44c59d11b6976e3c",
   "outputs": [
    {
     "data": {
      "text/plain": [
       "Processing reactions:   0%|          | 0/1061 [00:00<?, ?it/s]"
      ],
      "application/vnd.jupyter.widget-view+json": {
       "version_major": 2,
       "version_minor": 0,
       "model_id": "4df8e9aba0304d568b8c82772d4b3691"
      }
     },
     "metadata": {},
     "output_type": "display_data"
    }
   ],
   "execution_count": 3
  },
  {
   "metadata": {
    "ExecuteTime": {
     "end_time": "2025-05-16T19:31:55.973595Z",
     "start_time": "2025-05-16T18:54:49.848941Z"
    }
   },
   "cell_type": "code",
   "source": "val_frame.full_setup()",
   "id": "898c21a7cd0c8cec",
   "outputs": [
    {
     "name": "stdout",
     "output_type": "stream",
     "text": [
      "Morgan fingerprints generation\n"
     ]
    },
    {
     "data": {
      "text/plain": [
       "  0%|          | 0/36621 [00:00<?, ?it/s]"
      ],
      "application/vnd.jupyter.widget-view+json": {
       "version_major": 2,
       "version_minor": 0,
       "model_id": "7fb2c26a0c0440e58009b99667ae3631"
      }
     },
     "metadata": {},
     "output_type": "display_data"
    },
    {
     "name": "stdout",
     "output_type": "stream",
     "text": [
      "Pair graphs generation\n"
     ]
    },
    {
     "data": {
      "text/plain": [
       "  0%|          | 0/1035 [00:00<?, ?it/s]"
      ],
      "application/vnd.jupyter.widget-view+json": {
       "version_major": 2,
       "version_minor": 0,
       "model_id": "7feca536eb4844df81a46bfae8c81f87"
      }
     },
     "metadata": {},
     "output_type": "display_data"
    },
    {
     "data": {
      "text/plain": [
       "  0%|          | 0/1024 [00:00<?, ?it/s]"
      ],
      "application/vnd.jupyter.widget-view+json": {
       "version_major": 2,
       "version_minor": 0,
       "model_id": "629eed1515ef4690ab2356109c42cde9"
      }
     },
     "metadata": {},
     "output_type": "display_data"
    },
    {
     "data": {
      "text/plain": [
       "  0%|          | 0/1035 [00:00<?, ?it/s]"
      ],
      "application/vnd.jupyter.widget-view+json": {
       "version_major": 2,
       "version_minor": 0,
       "model_id": "d686ca314f0b45dd8cdf4a534fb73c0f"
      }
     },
     "metadata": {},
     "output_type": "display_data"
    },
    {
     "name": "stdout",
     "output_type": "stream",
     "text": [
      "Single graphs generation\n"
     ]
    },
    {
     "data": {
      "text/plain": [
       "  0%|          | 0/1035 [00:00<?, ?it/s]"
      ],
      "application/vnd.jupyter.widget-view+json": {
       "version_major": 2,
       "version_minor": 0,
       "model_id": "e44598076e034fbe9e626e69aa27dcd4"
      }
     },
     "metadata": {},
     "output_type": "display_data"
    },
    {
     "data": {
      "text/plain": [
       "  0%|          | 0/1024 [00:00<?, ?it/s]"
      ],
      "application/vnd.jupyter.widget-view+json": {
       "version_major": 2,
       "version_minor": 0,
       "model_id": "018be1c925354f83b4a0014d73b1f76a"
      }
     },
     "metadata": {},
     "output_type": "display_data"
    },
    {
     "data": {
      "text/plain": [
       "  0%|          | 0/36012 [00:00<?, ?it/s]"
      ],
      "application/vnd.jupyter.widget-view+json": {
       "version_major": 2,
       "version_minor": 0,
       "model_id": "058db2044cad42dcb41577d16fa7faa0"
      }
     },
     "metadata": {},
     "output_type": "display_data"
    },
    {
     "name": "stdout",
     "output_type": "stream",
     "text": [
      "Some issue happened with this molecule:\n",
      "I tensor([], size=(0, 18), dtype=torch.float64) tensor([[ -1.7835, -13.7837,   0.2648,   0.9855,  -0.0512,   6.1740,  16.5073,\n",
      "          -0.8586,  12.9492,  -6.1578]], dtype=torch.float64)\n",
      "Some issue happened with this molecule:\n",
      "F tensor([], size=(0, 18), dtype=torch.float64) tensor([[ 0.3778, -2.9029, -0.0516,  0.0207, -0.0122,  0.2819,  0.6688, -0.5291,\n",
      "         -0.0579,  0.9071]], dtype=torch.float64)\n"
     ]
    }
   ],
   "execution_count": 5
  },
  {
   "metadata": {
    "ExecuteTime": {
     "end_time": "2025-05-16T19:46:18.375187Z",
     "start_time": "2025-05-16T19:32:05.725211Z"
    }
   },
   "cell_type": "code",
   "source": [
    "triples = MolFrame.read_triples('../grail_metabolism/data/train_triples.txt')\n",
    "train_frame = MolFrame.from_file('../grail_metabolism/data/train.sdf', triples, standartize=False)"
   ],
   "id": "54f7540489191f21",
   "outputs": [
    {
     "data": {
      "text/plain": [
       "Processing reactions:   0%|          | 0/9182 [00:00<?, ?it/s]"
      ],
      "application/vnd.jupyter.widget-view+json": {
       "version_major": 2,
       "version_minor": 0,
       "model_id": "9eff506ba15543149e120751b3744638"
      }
     },
     "metadata": {},
     "output_type": "display_data"
    }
   ],
   "execution_count": 6
  },
  {
   "metadata": {
    "ExecuteTime": {
     "end_time": "2025-05-16T19:46:18.451869Z",
     "start_time": "2025-05-16T19:46:18.448648Z"
    }
   },
   "cell_type": "code",
   "source": [
    "del train_frame.map['O=C(OC1OC2COC(=O)c3cc(O)c(O)c(O)c3-c3c(cc(O)c(O)c3O)C(=O)OC2C2OC(=O)c3cc(O)c(O)c(O)c3-c3c(cc(O)c(O)c3O)C(=O)OC12)c1cc(O)c(O)c(Oc2c(O)c(O)c(O)c3c2C(=O)OC2C(COC(=O)c4cc(O)c(O)c(O)c4-3)OC(OC(=O)c3cc(O)c(O)c(O)c3)C3OC(=O)c4cc(O)c(O)c(O)c4-c4c(cc(O)c(O)c4O)C(=O)OC23)c1']\n",
    "del train_frame.gen_map['O=C(OC1OC2COC(=O)c3cc(O)c(O)c(O)c3-c3c(cc(O)c(O)c3O)C(=O)OC2C2OC(=O)c3cc(O)c(O)c(O)c3-c3c(cc(O)c(O)c3O)C(=O)OC12)c1cc(O)c(O)c(Oc2c(O)c(O)c(O)c3c2C(=O)OC2C(COC(=O)c4cc(O)c(O)c(O)c4-3)OC(OC(=O)c3cc(O)c(O)c(O)c3)C3OC(=O)c4cc(O)c(O)c(O)c4-c4c(cc(O)c(O)c4O)C(=O)OC23)c1']"
   ],
   "id": "59c2c0c2d2b14289",
   "outputs": [],
   "execution_count": 7
  },
  {
   "metadata": {
    "jupyter": {
     "is_executing": true
    },
    "ExecuteTime": {
     "start_time": "2025-05-16T19:46:18.846021Z"
    }
   },
   "cell_type": "code",
   "source": "train_frame.full_setup()",
   "id": "afebbf8905c7a926",
   "outputs": [
    {
     "name": "stdout",
     "output_type": "stream",
     "text": [
      "Morgan fingerprints generation\n"
     ]
    },
    {
     "data": {
      "text/plain": [
       "  0%|          | 0/308638 [00:00<?, ?it/s]"
      ],
      "application/vnd.jupyter.widget-view+json": {
       "version_major": 2,
       "version_minor": 0,
       "model_id": "9971e98d3ec9468fbed116ac052e9de3"
      }
     },
     "metadata": {},
     "output_type": "display_data"
    },
    {
     "name": "stdout",
     "output_type": "stream",
     "text": [
      "Pair graphs generation\n"
     ]
    },
    {
     "data": {
      "text/plain": [
       "  0%|          | 0/8977 [00:00<?, ?it/s]"
      ],
      "application/vnd.jupyter.widget-view+json": {
       "version_major": 2,
       "version_minor": 0,
       "model_id": "2c3d6bfef4cb45ac8d148cba9163efd1"
      }
     },
     "metadata": {},
     "output_type": "display_data"
    },
    {
     "data": {
      "text/plain": [
       "  0%|          | 0/8862 [00:00<?, ?it/s]"
      ],
      "application/vnd.jupyter.widget-view+json": {
       "version_major": 2,
       "version_minor": 0,
       "model_id": "262a493940cc4aa087ddbb3fa87d9dd5"
      }
     },
     "metadata": {},
     "output_type": "display_data"
    }
   ],
   "execution_count": null
  },
  {
   "metadata": {},
   "cell_type": "code",
   "outputs": [],
   "execution_count": null,
   "source": "",
   "id": "ead75af8ba822208"
  },
  {
   "metadata": {},
   "cell_type": "code",
   "outputs": [],
   "execution_count": null,
   "source": "study = tune.make_study(train_frame, val_frame, 'filter')",
   "id": "f09ff699249ae31f"
  },
  {
   "metadata": {
    "ExecuteTime": {
     "end_time": "2025-05-16T18:36:42.311253Z",
     "start_time": "2025-05-16T18:36:42.260384Z"
    }
   },
   "cell_type": "code",
   "source": "list(val_frame.negs.keys())[864]",
   "id": "4cafc8210b9115ae",
   "outputs": [
    {
     "data": {
      "text/plain": [
       "'O=C(COc1ccc(C(=O)CN2CCN(C3CCNCC3)CC2=O)cc1)OC1CCCCC1'"
      ]
     },
     "execution_count": 14,
     "metadata": {},
     "output_type": "execute_result"
    }
   ],
   "execution_count": 14
  },
  {
   "metadata": {},
   "cell_type": "code",
   "outputs": [],
   "execution_count": null,
   "source": "864",
   "id": "cc60b09036a5eb44"
  }
 ],
 "metadata": {
  "kernelspec": {
   "display_name": "Synthon",
   "language": "python",
   "name": "aizynth-env"
  },
  "language_info": {
   "codemirror_mode": {
    "name": "ipython",
    "version": 2
   },
   "file_extension": ".py",
   "mimetype": "text/x-python",
   "name": "python",
   "nbconvert_exporter": "python",
   "pygments_lexer": "ipython2",
   "version": "2.7.6"
  }
 },
 "nbformat": 4,
 "nbformat_minor": 5
}
