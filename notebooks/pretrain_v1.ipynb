{
 "cells": [
  {
   "cell_type": "code",
   "id": "initial_id",
   "metadata": {
    "collapsed": true,
    "ExecuteTime": {
     "end_time": "2025-06-15T19:32:48.078397Z",
     "start_time": "2025-06-15T19:32:46.448154Z"
    }
   },
   "source": [
    "import sys\n",
    "\n",
    "sys.path.append('../')\n",
    "import pandas as pd\n",
    "import numpy as np\n",
    "from grail_metabolism.utils.preparation import MolFrame\n",
    "from grail_metabolism.model.generator import Generator\n",
    "from tqdm.auto import tqdm\n",
    "import pickle as pkl"
   ],
   "outputs": [
    {
     "name": "stdout",
     "output_type": "stream",
     "text": [
      "ATTENTION: RXNMapper is not installed. Please install it first if you want to create your own set of rules.\n",
      "ATTENTION: you use incorrect for rxnmapper version of rdkit\n"
     ]
    }
   ],
   "execution_count": 1
  },
  {
   "metadata": {},
   "cell_type": "code",
   "source": "uspto = pkl.load(open('../notebooks/uspto.pkl', 'rb'))",
   "id": "5d673c99d2511656",
   "outputs": [],
   "execution_count": null
  },
  {
   "metadata": {
    "ExecuteTime": {
     "end_time": "2025-06-01T15:18:10.611711Z",
     "start_time": "2025-06-01T15:18:10.604554Z"
    }
   },
   "cell_type": "code",
   "source": "from grail_metabolism.model.generator import Generator",
   "id": "33cd959c33af1e2b",
   "outputs": [],
   "execution_count": 2
  },
  {
   "metadata": {
    "ExecuteTime": {
     "end_time": "2025-05-25T21:35:23.644530Z",
     "start_time": "2025-05-25T21:34:44.625676Z"
    }
   },
   "cell_type": "code",
   "source": [
    "mol_structs = {}\n",
    "for _, row in tqdm(uspto.iterrows(), total=len(uspto)):\n",
    "    mol_structs[row['sub']] = row['sub_mol']\n",
    "    mol_structs[row['prod']] = row['prod_mol']\n",
    "uspto['real'] = np.ones(len(uspto)).astype(int)"
   ],
   "id": "1e4d1bec71ff1b48",
   "outputs": [
    {
     "data": {
      "text/plain": [
       "  0%|          | 0/1798556 [00:00<?, ?it/s]"
      ],
      "application/vnd.jupyter.widget-view+json": {
       "version_major": 2,
       "version_minor": 0,
       "model_id": "5a2f472503ff4c22b4f7b5bf9d5ee87d"
      }
     },
     "metadata": {},
     "output_type": "display_data"
    }
   ],
   "execution_count": 10
  },
  {
   "metadata": {
    "ExecuteTime": {
     "start_time": "2025-05-25T21:35:23.663819Z"
    }
   },
   "cell_type": "code",
   "source": "uspto_frame = MolFrame(uspto, mol_structs=mol_structs, standartize=False)",
   "id": "9e8e00ab5b508fd2",
   "outputs": [
    {
     "data": {
      "text/plain": [
       "Processing reactions:   0%|          | 0/573055 [00:00<?, ?it/s]"
      ],
      "application/vnd.jupyter.widget-view+json": {
       "version_major": 2,
       "version_minor": 0,
       "model_id": "06f85f62a4954f30b0ca2a69746fe87e"
      }
     },
     "metadata": {},
     "output_type": "display_data"
    },
    {
     "ename": "KeyboardInterrupt",
     "evalue": "",
     "output_type": "error",
     "traceback": [
      "\u001B[0;31m---------------------------------------------------------------------------\u001B[0m",
      "\u001B[0;31mKeyboardInterrupt\u001B[0m                         Traceback (most recent call last)",
      "\u001B[0;32m/var/folders/mc/gtx8k44d7dg3kj5dr714tqgr0000gn/T/ipykernel_64198/2279535062.py\u001B[0m in \u001B[0;36m?\u001B[0;34m()\u001B[0m\n\u001B[0;32m----> 1\u001B[0;31m \u001B[0muspto_frame\u001B[0m \u001B[0;34m=\u001B[0m \u001B[0mMolFrame\u001B[0m\u001B[0;34m(\u001B[0m\u001B[0muspto\u001B[0m\u001B[0;34m,\u001B[0m \u001B[0mmol_structs\u001B[0m\u001B[0;34m=\u001B[0m\u001B[0mmol_structs\u001B[0m\u001B[0;34m,\u001B[0m \u001B[0mstandartize\u001B[0m\u001B[0;34m=\u001B[0m\u001B[0;32mFalse\u001B[0m\u001B[0;34m)\u001B[0m\u001B[0;34m\u001B[0m\u001B[0;34m\u001B[0m\u001B[0m\n\u001B[0m",
      "\u001B[0;32m~/anaconda3/envs/aizynth-env/lib/python3.10/site-packages/multipledispatch/dispatcher.py\u001B[0m in \u001B[0;36m?\u001B[0;34m(self, *args, **kwargs)\u001B[0m\n\u001B[1;32m    435\u001B[0m             raise NotImplementedError(\n\u001B[1;32m    436\u001B[0m                 \u001B[0;34m\"Could not find signature for %s: <%s>\"\u001B[0m\u001B[0;34m\u001B[0m\u001B[0;34m\u001B[0m\u001B[0m\n\u001B[1;32m    437\u001B[0m                 \u001B[0;34m%\u001B[0m \u001B[0;34m(\u001B[0m\u001B[0mself\u001B[0m\u001B[0;34m.\u001B[0m\u001B[0mname\u001B[0m\u001B[0;34m,\u001B[0m \u001B[0mstr_signature\u001B[0m\u001B[0;34m(\u001B[0m\u001B[0mtypes\u001B[0m\u001B[0;34m)\u001B[0m\u001B[0;34m)\u001B[0m\u001B[0;34m\u001B[0m\u001B[0;34m\u001B[0m\u001B[0m\n\u001B[1;32m    438\u001B[0m             )\n\u001B[0;32m--> 439\u001B[0;31m         \u001B[0;32mreturn\u001B[0m \u001B[0mfunc\u001B[0m\u001B[0;34m(\u001B[0m\u001B[0mself\u001B[0m\u001B[0;34m.\u001B[0m\u001B[0mobj\u001B[0m\u001B[0;34m,\u001B[0m \u001B[0;34m*\u001B[0m\u001B[0margs\u001B[0m\u001B[0;34m,\u001B[0m \u001B[0;34m**\u001B[0m\u001B[0mkwargs\u001B[0m\u001B[0;34m)\u001B[0m\u001B[0;34m\u001B[0m\u001B[0;34m\u001B[0m\u001B[0m\n\u001B[0m",
      "\u001B[0;32m~/PycharmProjects/GRAIL/grail_metabolism/../grail_metabolism/utils/preparation.py\u001B[0m in \u001B[0;36m?\u001B[0;34m(self, map, sub_name, prod_name, real_name, mol_structs, standartize)\u001B[0m\n\u001B[1;32m    304\u001B[0m \u001B[0;34m\u001B[0m\u001B[0m\n\u001B[1;32m    305\u001B[0m         \u001B[0;31m# Process groups efficiently\u001B[0m\u001B[0;34m\u001B[0m\u001B[0;34m\u001B[0m\u001B[0m\n\u001B[1;32m    306\u001B[0m         \u001B[0;32mfor\u001B[0m \u001B[0msub\u001B[0m\u001B[0;34m,\u001B[0m \u001B[0mgroup\u001B[0m \u001B[0;32min\u001B[0m \u001B[0mtqdm\u001B[0m\u001B[0;34m(\u001B[0m\u001B[0mgrouped\u001B[0m\u001B[0;34m,\u001B[0m \u001B[0mdesc\u001B[0m\u001B[0;34m=\u001B[0m\u001B[0;34m\"Processing reactions\"\u001B[0m\u001B[0;34m)\u001B[0m\u001B[0;34m:\u001B[0m\u001B[0;34m\u001B[0m\u001B[0;34m\u001B[0m\u001B[0m\n\u001B[1;32m    307\u001B[0m             \u001B[0;31m# Handle real products\u001B[0m\u001B[0;34m\u001B[0m\u001B[0;34m\u001B[0m\u001B[0m\n\u001B[0;32m--> 308\u001B[0;31m             \u001B[0mreal_products\u001B[0m \u001B[0;34m=\u001B[0m \u001B[0mgroup\u001B[0m\u001B[0;34m[\u001B[0m\u001B[0mgroup\u001B[0m\u001B[0;34m[\u001B[0m\u001B[0;34m'real'\u001B[0m\u001B[0;34m]\u001B[0m \u001B[0;34m==\u001B[0m \u001B[0;36m1\u001B[0m\u001B[0;34m]\u001B[0m\u001B[0;34m[\u001B[0m\u001B[0;34m'prod_std'\u001B[0m\u001B[0;34m]\u001B[0m\u001B[0;34m\u001B[0m\u001B[0;34m\u001B[0m\u001B[0m\n\u001B[0m\u001B[1;32m    309\u001B[0m             \u001B[0mself\u001B[0m\u001B[0;34m.\u001B[0m\u001B[0mmap\u001B[0m\u001B[0;34m[\u001B[0m\u001B[0msub\u001B[0m\u001B[0;34m]\u001B[0m\u001B[0;34m.\u001B[0m\u001B[0mupdate\u001B[0m\u001B[0;34m(\u001B[0m\u001B[0mreal_products\u001B[0m\u001B[0;34m)\u001B[0m\u001B[0;34m\u001B[0m\u001B[0;34m\u001B[0m\u001B[0m\n\u001B[1;32m    310\u001B[0m \u001B[0;34m\u001B[0m\u001B[0m\n\u001B[1;32m    311\u001B[0m             \u001B[0;31m# Handle generated products\u001B[0m\u001B[0;34m\u001B[0m\u001B[0;34m\u001B[0m\u001B[0m\n",
      "\u001B[0;32m~/anaconda3/envs/aizynth-env/lib/python3.10/site-packages/pandas/core/frame.py\u001B[0m in \u001B[0;36m?\u001B[0;34m(self, key)\u001B[0m\n\u001B[1;32m   3770\u001B[0m                 \u001B[0mself\u001B[0m\u001B[0;34m.\u001B[0m\u001B[0mcolumns\u001B[0m\u001B[0;34m.\u001B[0m\u001B[0mis_unique\u001B[0m\u001B[0;34m\u001B[0m\u001B[0;34m\u001B[0m\u001B[0m\n\u001B[1;32m   3771\u001B[0m                 \u001B[0;32mand\u001B[0m \u001B[0mkey\u001B[0m \u001B[0;32min\u001B[0m \u001B[0mself\u001B[0m\u001B[0;34m.\u001B[0m\u001B[0mcolumns\u001B[0m\u001B[0;34m\u001B[0m\u001B[0;34m\u001B[0m\u001B[0m\n\u001B[1;32m   3772\u001B[0m                 \u001B[0;32mor\u001B[0m \u001B[0mkey\u001B[0m \u001B[0;32min\u001B[0m \u001B[0mself\u001B[0m\u001B[0;34m.\u001B[0m\u001B[0mcolumns\u001B[0m\u001B[0;34m.\u001B[0m\u001B[0mdrop_duplicates\u001B[0m\u001B[0;34m(\u001B[0m\u001B[0mkeep\u001B[0m\u001B[0;34m=\u001B[0m\u001B[0;32mFalse\u001B[0m\u001B[0;34m)\u001B[0m\u001B[0;34m\u001B[0m\u001B[0;34m\u001B[0m\u001B[0m\n\u001B[1;32m   3773\u001B[0m             ):\n\u001B[0;32m-> 3774\u001B[0;31m                 \u001B[0;32mreturn\u001B[0m \u001B[0mself\u001B[0m\u001B[0;34m.\u001B[0m\u001B[0m_get_item_cache\u001B[0m\u001B[0;34m(\u001B[0m\u001B[0mkey\u001B[0m\u001B[0;34m)\u001B[0m\u001B[0;34m\u001B[0m\u001B[0;34m\u001B[0m\u001B[0m\n\u001B[0m\u001B[1;32m   3775\u001B[0m \u001B[0;34m\u001B[0m\u001B[0m\n\u001B[1;32m   3776\u001B[0m             \u001B[0;32melif\u001B[0m \u001B[0mis_mi\u001B[0m \u001B[0;32mand\u001B[0m \u001B[0mself\u001B[0m\u001B[0;34m.\u001B[0m\u001B[0mcolumns\u001B[0m\u001B[0;34m.\u001B[0m\u001B[0mis_unique\u001B[0m \u001B[0;32mand\u001B[0m \u001B[0mkey\u001B[0m \u001B[0;32min\u001B[0m \u001B[0mself\u001B[0m\u001B[0;34m.\u001B[0m\u001B[0mcolumns\u001B[0m\u001B[0;34m:\u001B[0m\u001B[0;34m\u001B[0m\u001B[0;34m\u001B[0m\u001B[0m\n\u001B[1;32m   3777\u001B[0m                 \u001B[0;32mreturn\u001B[0m \u001B[0mself\u001B[0m\u001B[0;34m.\u001B[0m\u001B[0m_getitem_multilevel\u001B[0m\u001B[0;34m(\u001B[0m\u001B[0mkey\u001B[0m\u001B[0;34m)\u001B[0m\u001B[0;34m\u001B[0m\u001B[0;34m\u001B[0m\u001B[0m\n",
      "\u001B[0;32m~/anaconda3/envs/aizynth-env/lib/python3.10/site-packages/pandas/core/frame.py\u001B[0m in \u001B[0;36m?\u001B[0;34m(self, item)\u001B[0m\n\u001B[1;32m   4279\u001B[0m             \u001B[0;31m# All places that call _get_item_cache have unique columns,\u001B[0m\u001B[0;34m\u001B[0m\u001B[0;34m\u001B[0m\u001B[0m\n\u001B[1;32m   4280\u001B[0m             \u001B[0;31m#  pending resolution of GH#33047\u001B[0m\u001B[0;34m\u001B[0m\u001B[0;34m\u001B[0m\u001B[0m\n\u001B[1;32m   4281\u001B[0m \u001B[0;34m\u001B[0m\u001B[0m\n\u001B[1;32m   4282\u001B[0m             \u001B[0mloc\u001B[0m \u001B[0;34m=\u001B[0m \u001B[0mself\u001B[0m\u001B[0;34m.\u001B[0m\u001B[0mcolumns\u001B[0m\u001B[0;34m.\u001B[0m\u001B[0mget_loc\u001B[0m\u001B[0;34m(\u001B[0m\u001B[0mitem\u001B[0m\u001B[0;34m)\u001B[0m\u001B[0;34m\u001B[0m\u001B[0;34m\u001B[0m\u001B[0m\n\u001B[0;32m-> 4283\u001B[0;31m             \u001B[0mres\u001B[0m \u001B[0;34m=\u001B[0m \u001B[0mself\u001B[0m\u001B[0;34m.\u001B[0m\u001B[0m_ixs\u001B[0m\u001B[0;34m(\u001B[0m\u001B[0mloc\u001B[0m\u001B[0;34m,\u001B[0m \u001B[0maxis\u001B[0m\u001B[0;34m=\u001B[0m\u001B[0;36m1\u001B[0m\u001B[0;34m)\u001B[0m\u001B[0;34m\u001B[0m\u001B[0;34m\u001B[0m\u001B[0m\n\u001B[0m\u001B[1;32m   4284\u001B[0m \u001B[0;34m\u001B[0m\u001B[0m\n\u001B[1;32m   4285\u001B[0m             \u001B[0mcache\u001B[0m\u001B[0;34m[\u001B[0m\u001B[0mitem\u001B[0m\u001B[0;34m]\u001B[0m \u001B[0;34m=\u001B[0m \u001B[0mres\u001B[0m\u001B[0;34m\u001B[0m\u001B[0;34m\u001B[0m\u001B[0m\n\u001B[1;32m   4286\u001B[0m \u001B[0;34m\u001B[0m\u001B[0m\n",
      "\u001B[0;32m~/anaconda3/envs/aizynth-env/lib/python3.10/site-packages/pandas/core/frame.py\u001B[0m in \u001B[0;36m?\u001B[0;34m(self, i, axis)\u001B[0m\n\u001B[1;32m   3730\u001B[0m             \u001B[0mcol_mgr\u001B[0m \u001B[0;34m=\u001B[0m \u001B[0mself\u001B[0m\u001B[0;34m.\u001B[0m\u001B[0m_mgr\u001B[0m\u001B[0;34m.\u001B[0m\u001B[0miget\u001B[0m\u001B[0;34m(\u001B[0m\u001B[0mi\u001B[0m\u001B[0;34m)\u001B[0m\u001B[0;34m\u001B[0m\u001B[0;34m\u001B[0m\u001B[0m\n\u001B[1;32m   3731\u001B[0m             \u001B[0mresult\u001B[0m \u001B[0;34m=\u001B[0m \u001B[0mself\u001B[0m\u001B[0;34m.\u001B[0m\u001B[0m_box_col_values\u001B[0m\u001B[0;34m(\u001B[0m\u001B[0mcol_mgr\u001B[0m\u001B[0;34m,\u001B[0m \u001B[0mi\u001B[0m\u001B[0;34m)\u001B[0m\u001B[0;34m\u001B[0m\u001B[0;34m\u001B[0m\u001B[0m\n\u001B[1;32m   3732\u001B[0m \u001B[0;34m\u001B[0m\u001B[0m\n\u001B[1;32m   3733\u001B[0m             \u001B[0;31m# this is a cached value, mark it so\u001B[0m\u001B[0;34m\u001B[0m\u001B[0;34m\u001B[0m\u001B[0m\n\u001B[0;32m-> 3734\u001B[0;31m             \u001B[0mresult\u001B[0m\u001B[0;34m.\u001B[0m\u001B[0m_set_as_cached\u001B[0m\u001B[0;34m(\u001B[0m\u001B[0mlabel\u001B[0m\u001B[0;34m,\u001B[0m \u001B[0mself\u001B[0m\u001B[0;34m)\u001B[0m\u001B[0;34m\u001B[0m\u001B[0;34m\u001B[0m\u001B[0m\n\u001B[0m\u001B[1;32m   3735\u001B[0m             \u001B[0;32mreturn\u001B[0m \u001B[0mresult\u001B[0m\u001B[0;34m\u001B[0m\u001B[0;34m\u001B[0m\u001B[0m\n",
      "\u001B[0;32m~/anaconda3/envs/aizynth-env/lib/python3.10/site-packages/pandas/core/series.py\u001B[0m in \u001B[0;36m?\u001B[0;34m(self, item, cacher)\u001B[0m\n\u001B[1;32m   1268\u001B[0m         \"\"\"\n\u001B[1;32m   1269\u001B[0m         \u001B[0mSet\u001B[0m \u001B[0mthe\u001B[0m \u001B[0m_cacher\u001B[0m \u001B[0mattribute\u001B[0m \u001B[0mon\u001B[0m \u001B[0mthe\u001B[0m \u001B[0mcalling\u001B[0m \u001B[0mobject\u001B[0m \u001B[0;32mwith\u001B[0m \u001B[0ma\u001B[0m \u001B[0mweakref\u001B[0m \u001B[0mto\u001B[0m\u001B[0;34m\u001B[0m\u001B[0;34m\u001B[0m\u001B[0m\n\u001B[1;32m   1270\u001B[0m         \u001B[0mcacher\u001B[0m\u001B[0;34m.\u001B[0m\u001B[0;34m\u001B[0m\u001B[0;34m\u001B[0m\u001B[0m\n\u001B[1;32m   1271\u001B[0m         \"\"\"\n\u001B[0;32m-> 1272\u001B[0;31m         \u001B[0mself\u001B[0m\u001B[0;34m.\u001B[0m\u001B[0m_cacher\u001B[0m \u001B[0;34m=\u001B[0m \u001B[0;34m(\u001B[0m\u001B[0mitem\u001B[0m\u001B[0;34m,\u001B[0m \u001B[0mweakref\u001B[0m\u001B[0;34m.\u001B[0m\u001B[0mref\u001B[0m\u001B[0;34m(\u001B[0m\u001B[0mcacher\u001B[0m\u001B[0;34m)\u001B[0m\u001B[0;34m)\u001B[0m\u001B[0;34m\u001B[0m\u001B[0;34m\u001B[0m\u001B[0m\n\u001B[0m",
      "\u001B[0;32m~/anaconda3/envs/aizynth-env/lib/python3.10/site-packages/pandas/core/generic.py\u001B[0m in \u001B[0;36m?\u001B[0;34m(self, name, value)\u001B[0m\n\u001B[1;32m   5918\u001B[0m \u001B[0;34m\u001B[0m\u001B[0m\n\u001B[1;32m   5919\u001B[0m         \u001B[0;31m# if this fails, go on to more involved attribute setting\u001B[0m\u001B[0;34m\u001B[0m\u001B[0;34m\u001B[0m\u001B[0m\n\u001B[1;32m   5920\u001B[0m         \u001B[0;31m# (note that this matches __getattr__, above).\u001B[0m\u001B[0;34m\u001B[0m\u001B[0;34m\u001B[0m\u001B[0m\n\u001B[1;32m   5921\u001B[0m         \u001B[0;32mif\u001B[0m \u001B[0mname\u001B[0m \u001B[0;32min\u001B[0m \u001B[0mself\u001B[0m\u001B[0;34m.\u001B[0m\u001B[0m_internal_names_set\u001B[0m\u001B[0;34m:\u001B[0m\u001B[0;34m\u001B[0m\u001B[0;34m\u001B[0m\u001B[0m\n\u001B[0;32m-> 5922\u001B[0;31m             \u001B[0mobject\u001B[0m\u001B[0;34m.\u001B[0m\u001B[0m__setattr__\u001B[0m\u001B[0;34m(\u001B[0m\u001B[0mself\u001B[0m\u001B[0;34m,\u001B[0m \u001B[0mname\u001B[0m\u001B[0;34m,\u001B[0m \u001B[0mvalue\u001B[0m\u001B[0;34m)\u001B[0m\u001B[0;34m\u001B[0m\u001B[0;34m\u001B[0m\u001B[0m\n\u001B[0m\u001B[1;32m   5923\u001B[0m         \u001B[0;32melif\u001B[0m \u001B[0mname\u001B[0m \u001B[0;32min\u001B[0m \u001B[0mself\u001B[0m\u001B[0;34m.\u001B[0m\u001B[0m_metadata\u001B[0m\u001B[0;34m:\u001B[0m\u001B[0;34m\u001B[0m\u001B[0;34m\u001B[0m\u001B[0m\n\u001B[1;32m   5924\u001B[0m             \u001B[0mobject\u001B[0m\u001B[0;34m.\u001B[0m\u001B[0m__setattr__\u001B[0m\u001B[0;34m(\u001B[0m\u001B[0mself\u001B[0m\u001B[0;34m,\u001B[0m \u001B[0mname\u001B[0m\u001B[0;34m,\u001B[0m \u001B[0mvalue\u001B[0m\u001B[0;34m)\u001B[0m\u001B[0;34m\u001B[0m\u001B[0;34m\u001B[0m\u001B[0m\n\u001B[1;32m   5925\u001B[0m         \u001B[0;32melse\u001B[0m\u001B[0;34m:\u001B[0m\u001B[0;34m\u001B[0m\u001B[0;34m\u001B[0m\u001B[0m\n",
      "\u001B[0;31mKeyboardInterrupt\u001B[0m: "
     ]
    }
   ],
   "execution_count": 11
  },
  {
   "metadata": {
    "ExecuteTime": {
     "end_time": "2025-05-26T13:57:02.181137Z",
     "start_time": "2025-05-26T13:57:02.014111Z"
    }
   },
   "cell_type": "code",
   "source": [
    "with open('../grail_metabolism/data/uspto_extr.txt') as f:\n",
    "    uspto_rules = f.read().splitlines()"
   ],
   "id": "b6e378219806f1c9",
   "outputs": [],
   "execution_count": 2
  },
  {
   "metadata": {
    "ExecuteTime": {
     "end_time": "2025-05-26T13:57:02.818405Z",
     "start_time": "2025-05-26T13:57:02.815829Z"
    }
   },
   "cell_type": "code",
   "source": "from collections import Counter",
   "id": "bc203a722ef01c70",
   "outputs": [],
   "execution_count": 3
  },
  {
   "metadata": {
    "ExecuteTime": {
     "end_time": "2025-05-26T13:57:03.789756Z",
     "start_time": "2025-05-26T13:57:03.566212Z"
    }
   },
   "cell_type": "code",
   "source": "count = Counter(uspto_rules)",
   "id": "6f8a3efe4107b347",
   "outputs": [],
   "execution_count": 4
  },
  {
   "metadata": {
    "ExecuteTime": {
     "end_time": "2025-05-26T13:57:04.264880Z",
     "start_time": "2025-05-26T13:57:04.243308Z"
    }
   },
   "cell_type": "code",
   "source": "top500 = [key for key, _ in count.most_common(500)]",
   "id": "b53b8268d959f3d7",
   "outputs": [],
   "execution_count": 5
  },
  {
   "metadata": {
    "ExecuteTime": {
     "end_time": "2025-06-15T19:02:39.750515Z",
     "start_time": "2025-06-15T19:02:39.743247Z"
    }
   },
   "cell_type": "code",
   "source": [
    "from rdkit import Chem\n",
    "from rdkit.Chem import AllChem"
   ],
   "id": "c8977c297339b4f0",
   "outputs": [],
   "execution_count": 2
  },
  {
   "metadata": {
    "ExecuteTime": {
     "end_time": "2025-05-26T13:57:06.562751Z",
     "start_time": "2025-05-26T13:57:06.559195Z"
    }
   },
   "cell_type": "code",
   "source": [
    "def label_uspto(frame: MolFrame, rules: list[str]):\n",
    "    labels = {}\n",
    "    for smi in tqdm(frame.map):\n",
    "        mol = Chem.MolFromSmiles(smi)\n",
    "        labels[smi] = np.zeros(len(rules), dtype=int)\n",
    "        for i, rule in enumerate(rules):\n",
    "            rxn = AllChem.ReactionFromSmarts(rule)\n",
    "            if len(rxn.RunReactants((mol,))) != 0:\n",
    "                labels[smi][i] = 1\n",
    "    return labels"
   ],
   "id": "965f17fb0bbb2afb",
   "outputs": [],
   "execution_count": 7
  },
  {
   "metadata": {
    "ExecuteTime": {
     "end_time": "2025-05-25T19:04:08.041689Z",
     "start_time": "2025-05-25T16:29:15.009007Z"
    }
   },
   "cell_type": "code",
   "source": "labels = label_uspto(uspto_frame, top500)",
   "id": "f5d8953460305d39",
   "outputs": [
    {
     "data": {
      "text/plain": [
       "  0%|          | 0/573055 [00:00<?, ?it/s]"
      ],
      "application/vnd.jupyter.widget-view+json": {
       "version_major": 2,
       "version_minor": 0,
       "model_id": "a75a2f5cd4f14cb0b6f80c5184e2b967"
      }
     },
     "metadata": {},
     "output_type": "display_data"
    }
   ],
   "execution_count": 11
  },
  {
   "metadata": {
    "ExecuteTime": {
     "end_time": "2025-05-25T19:04:16.999196Z",
     "start_time": "2025-05-25T19:04:10.888880Z"
    }
   },
   "cell_type": "code",
   "source": [
    "with open('../grail_metabolism/data/labels.pkl', 'wb') as f:\n",
    "    pkl.dump(labels, f)"
   ],
   "id": "ec801d8c29b8df4",
   "outputs": [],
   "execution_count": 12
  },
  {
   "metadata": {
    "ExecuteTime": {
     "end_time": "2025-05-26T13:57:11.547800Z",
     "start_time": "2025-05-26T13:57:09.592340Z"
    }
   },
   "cell_type": "code",
   "source": [
    "with open('../grail_metabolism/data/labels.pkl', 'rb') as f:\n",
    "    labels = pkl.load(f)"
   ],
   "id": "2a9ca6a2de4cb1e5",
   "outputs": [],
   "execution_count": 8
  },
  {
   "metadata": {
    "ExecuteTime": {
     "end_time": "2025-06-15T19:02:42.752186Z",
     "start_time": "2025-06-15T19:02:42.743305Z"
    }
   },
   "cell_type": "code",
   "source": [
    "import torch\n",
    "from torch.nn import Module, Sequential, ReLU, Linear, Bilinear, MultiheadAttention, BatchNorm1d, Dropout, init, Sigmoid\n",
    "from torch.nn.functional import dropout\n",
    "from torch_geometric.nn import GATv2Conv, global_mean_pool\n",
    "from torch_geometric.data import Batch, Data\n",
    "from torch_geometric.loader import DataLoader\n",
    "from torch_geometric import nn\n",
    "from grail_metabolism.utils.transform import from_rule, from_rdmol\n",
    "from grail_metabolism.model.train_model import AsymmetricBCELoss\n",
    "from sklearn.impute import SimpleImputer"
   ],
   "id": "3ad0bc621ad8b4a6",
   "outputs": [],
   "execution_count": 3
  },
  {
   "metadata": {
    "ExecuteTime": {
     "end_time": "2025-05-25T22:45:44.173266Z",
     "start_time": "2025-05-25T22:05:14.969767Z"
    }
   },
   "cell_type": "code",
   "source": [
    "singles = {}\n",
    "ats = '../grail_metabolism/data/pca_ats_single.pkl'\n",
    "bonds = '../grail_metabolism/data/pca_bonds_single.pkl'\n",
    "with open(ats, 'rb') as file:\n",
    "    pca_x = pkl.load(file)\n",
    "with open(bonds, 'rb') as file:\n",
    "    pca_b = pkl.load(file)\n",
    "for smi in tqdm(labels):\n",
    "    sub_mol = from_rdmol(Chem.MolFromSmiles(smi))\n",
    "    for i in range(len(sub_mol.x)):\n",
    "        for j in range(len(sub_mol.x[i])):\n",
    "            if sub_mol.x[i][j] == float('inf'):\n",
    "                sub_mol.x[i][j] = 0\n",
    "    sub_mol.x = torch.tensor(SimpleImputer(missing_values=np.nan,\n",
    "                                  strategy='constant',\n",
    "                                  fill_value=0).fit_transform(sub_mol.x))\n",
    "    sub_mol.x = torch.tensor(pca_x.transform(sub_mol.x))\n",
    "    try:\n",
    "        sub_mol.edge_attr = torch.tensor(pca_b.transform(sub_mol.edge_attr))\n",
    "        singles[smi] = sub_mol\n",
    "    except ValueError:\n",
    "        print('Some issue happened with this molecule:')\n",
    "        print(smi)"
   ],
   "id": "3360e14079de6844",
   "outputs": [
    {
     "data": {
      "text/plain": [
       "  0%|          | 0/573055 [00:00<?, ?it/s]"
      ],
      "application/vnd.jupyter.widget-view+json": {
       "version_major": 2,
       "version_minor": 0,
       "model_id": "fcbf627b0c0e4d08b977e43e916a7ebb"
      }
     },
     "metadata": {},
     "output_type": "display_data"
    }
   ],
   "execution_count": 9
  },
  {
   "metadata": {
    "ExecuteTime": {
     "end_time": "2025-05-26T13:57:23.843733Z",
     "start_time": "2025-05-26T13:57:20.160546Z"
    }
   },
   "cell_type": "code",
   "source": "rule_dict = {rule: from_rule(rule) for rule in tqdm(top500)}",
   "id": "84c9e7475b165adb",
   "outputs": [
    {
     "data": {
      "text/plain": [
       "  0%|          | 0/500 [00:00<?, ?it/s]"
      ],
      "application/vnd.jupyter.widget-view+json": {
       "version_major": 2,
       "version_minor": 0,
       "model_id": "5590315b90ef4ec897a380a2b0a2a591"
      }
     },
     "metadata": {},
     "output_type": "display_data"
    }
   ],
   "execution_count": 10
  },
  {
   "metadata": {
    "ExecuteTime": {
     "end_time": "2025-05-26T13:57:24.733354Z",
     "start_time": "2025-05-26T13:57:24.538659Z"
    }
   },
   "cell_type": "code",
   "source": "model = Generator(rule_dict, 10, 6)",
   "id": "33646bf236d04c24",
   "outputs": [],
   "execution_count": 11
  },
  {
   "metadata": {
    "ExecuteTime": {
     "end_time": "2025-05-26T13:57:25.411715Z",
     "start_time": "2025-05-26T13:57:25.409515Z"
    }
   },
   "cell_type": "code",
   "source": "import matplotlib.pyplot as plt",
   "id": "78da51ae4652378c",
   "outputs": [],
   "execution_count": 12
  },
  {
   "metadata": {
    "ExecuteTime": {
     "end_time": "2025-05-26T13:53:13.839357Z",
     "start_time": "2025-05-26T13:51:32.635349Z"
    }
   },
   "cell_type": "code",
   "source": [
    "with open('../grail_metabolism/data/singles.pkl', 'wb') as f:\n",
    "    pkl.dump(singles, f, protocol=pkl.HIGHEST_PROTOCOL)"
   ],
   "id": "51f8a0163dfad2a2",
   "outputs": [],
   "execution_count": 17
  },
  {
   "metadata": {
    "ExecuteTime": {
     "end_time": "2025-05-26T13:58:43.420844Z",
     "start_time": "2025-05-26T13:57:28.029708Z"
    }
   },
   "cell_type": "code",
   "source": [
    "with open('../grail_metabolism/data/singles.pkl', 'rb') as f:\n",
    "    singles = pkl.load(f)"
   ],
   "id": "e781a778889ea4e5",
   "outputs": [],
   "execution_count": 13
  },
  {
   "metadata": {
    "ExecuteTime": {
     "end_time": "2025-05-27T12:44:45.871528Z",
     "start_time": "2025-05-26T14:00:49.973551Z"
    }
   },
   "cell_type": "code",
   "source": [
    "criterion = AsymmetricBCELoss(gamma=5)\n",
    "optimizer = torch.optim.AdamW(model.parameters(), lr=1e-5, betas=(0.9, 0.99), weight_decay=1e-10)\n",
    "scheduler = torch.optim.lr_scheduler.ReduceLROnPlateau(  # Адаптивный шедулер\n",
    "    optimizer, mode='min', factor=0.5, patience=3\n",
    ")\n",
    "\n",
    "train_loader = []\n",
    "vecs = labels\n",
    "\n",
    "for i, substrate in enumerate(tqdm(singles)):\n",
    "    datum = singles[substrate]\n",
    "    # Преобразуем целевые метки в форму [num_rules]\n",
    "    datum.y = torch.tensor(vecs[substrate], dtype=torch.float32)\n",
    "    train_loader.append(datum)\n",
    "\n",
    "train_loader = DataLoader(train_loader, batch_size=128, shuffle=True)\n",
    "\n",
    "history = []\n",
    "for _ in tqdm(range(100)):\n",
    "    model.train()\n",
    "    epoch_loss = 0\n",
    "    best_loss = float('inf')\n",
    "    for batch in train_loader:\n",
    "        out = model(batch)\n",
    "\n",
    "        # Правильное преобразование формы целевых меток\n",
    "        target = batch.y.view(out.shape[0], -1)  # [batch_size, num_rules]\n",
    "\n",
    "        # Проверка размерностей\n",
    "        assert out.shape == target.shape, \\\n",
    "            f\"Shape mismatch: out {out.shape} vs target {target.shape}\"\n",
    "\n",
    "        loss = criterion(out, target)\n",
    "        plt.plot(loss.item())\n",
    "        history.append(loss.item())\n",
    "\n",
    "        optimizer.zero_grad()\n",
    "        loss.backward()\n",
    "        torch.nn.utils.clip_grad_norm_(model.parameters(), 1.0)\n",
    "        optimizer.step()\n",
    "        epoch_loss += loss.item()\n",
    "    print(f'Loss: {epoch_loss}')\n",
    "    scheduler.step(epoch_loss)\n",
    "\n",
    "    scheduler.step(epoch_loss)\n",
    "    if epoch_loss < best_loss:\n",
    "        best_loss = epoch_loss\n",
    "        torch.save(model.state_dict(), 'best_pretrained_generator.pth')"
   ],
   "id": "27301372eb9a7ff",
   "outputs": [
    {
     "data": {
      "text/plain": [
       "  0%|          | 0/573055 [00:00<?, ?it/s]"
      ],
      "application/vnd.jupyter.widget-view+json": {
       "version_major": 2,
       "version_minor": 0,
       "model_id": "64dce43739a54ef9b6101ab2dc6c506f"
      }
     },
     "metadata": {},
     "output_type": "display_data"
    },
    {
     "data": {
      "text/plain": [
       "  0%|          | 0/100 [00:00<?, ?it/s]"
      ],
      "application/vnd.jupyter.widget-view+json": {
       "version_major": 2,
       "version_minor": 0,
       "model_id": "90e3cc0e769a44748aa11eaff3a9de0e"
      }
     },
     "metadata": {},
     "output_type": "display_data"
    },
    {
     "name": "stdout",
     "output_type": "stream",
     "text": [
      "Loss: 2970.6338982582092\n",
      "Loss: 2168.533721268177\n",
      "Loss: 2070.1511510312557\n",
      "Loss: 1989.6682936549187\n",
      "Loss: 1881.1818253397942\n",
      "Loss: 1752.3031359016895\n",
      "Loss: 1655.211161762476\n",
      "Loss: 1578.061034977436\n",
      "Loss: 1489.4850628077984\n",
      "Loss: 1401.463714942336\n",
      "Loss: 1335.3646697103977\n",
      "Loss: 1278.1936569660902\n",
      "Loss: 1235.1456415504217\n",
      "Loss: 1200.0471871942282\n",
      "Loss: 1167.6519188135862\n",
      "Loss: 1140.0890835225582\n",
      "Loss: 1114.0230617970228\n",
      "Loss: 1089.2277823090553\n",
      "Loss: 1065.734705671668\n",
      "Loss: 1042.0216889232397\n",
      "Loss: 1024.0820849984884\n",
      "Loss: 1003.7830637842417\n",
      "Loss: 986.6772526204586\n",
      "Loss: 967.0037065595388\n",
      "Loss: 954.4880864620209\n",
      "Loss: 939.0083386749029\n",
      "Loss: 925.9368975013494\n",
      "Loss: 912.594393491745\n",
      "Loss: 897.4519116580486\n",
      "Loss: 886.0610184520483\n",
      "Loss: 877.5556546896696\n",
      "Loss: 864.762950733304\n",
      "Loss: 856.0198929458857\n",
      "Loss: 846.7224649041891\n",
      "Loss: 839.9371417909861\n",
      "Loss: 830.5541666448116\n",
      "Loss: 824.7957972735167\n",
      "Loss: 816.5689986050129\n",
      "Loss: 808.7813026532531\n",
      "Loss: 802.8226219713688\n",
      "Loss: 793.669002763927\n",
      "Loss: 787.8667982444167\n",
      "Loss: 782.3403448984027\n",
      "Loss: 773.841335862875\n",
      "Loss: 768.4859524220228\n",
      "Loss: 762.9102282375097\n",
      "Loss: 757.0898305177689\n",
      "Loss: 755.7049939408898\n",
      "Loss: 748.2881483510137\n",
      "Loss: 742.83488920331\n",
      "Loss: 739.716263666749\n",
      "Loss: 731.9287391975522\n",
      "Loss: 729.8242583498359\n",
      "Loss: 722.5860124155879\n",
      "Loss: 715.847534544766\n",
      "Loss: 713.9914420694113\n",
      "Loss: 708.9236325547099\n",
      "Loss: 705.0348287299275\n",
      "Loss: 699.2578551545739\n",
      "Loss: 695.5571337416768\n",
      "Loss: 692.1086685284972\n",
      "Loss: 688.785336561501\n",
      "Loss: 684.7808159589767\n",
      "Loss: 684.4205190688372\n",
      "Loss: 677.0007204860449\n",
      "Loss: 673.753479719162\n",
      "Loss: 668.8639376088977\n",
      "Loss: 667.2368391230702\n",
      "Loss: 664.771417349577\n",
      "Loss: 661.4149576276541\n",
      "Loss: 660.5331463515759\n",
      "Loss: 654.3438543453813\n",
      "Loss: 651.0109707713127\n",
      "Loss: 648.8331540077925\n",
      "Loss: 645.0528284832835\n",
      "Loss: 642.3688960447907\n",
      "Loss: 640.0233352705836\n",
      "Loss: 635.2620848491788\n",
      "Loss: 635.3925071433187\n",
      "Loss: 631.455770932138\n",
      "Loss: 626.4263540804386\n",
      "Loss: 627.0655765756965\n",
      "Loss: 622.4324765354395\n",
      "Loss: 619.4481000900269\n",
      "Loss: 619.7119846493006\n",
      "Loss: 617.3914354145527\n",
      "Loss: 614.5731205493212\n",
      "Loss: 611.2301453277469\n",
      "Loss: 608.4446052536368\n",
      "Loss: 604.5962381660938\n",
      "Loss: 602.395594343543\n",
      "Loss: 602.055441185832\n",
      "Loss: 598.8287526518106\n",
      "Loss: 598.6299196332693\n",
      "Loss: 596.5000104010105\n",
      "Loss: 595.1459505781531\n",
      "Loss: 591.6102409958839\n",
      "Loss: 590.4390704482794\n",
      "Loss: 588.5152960270643\n",
      "Loss: 584.2288914397359\n"
     ]
    },
    {
     "data": {
      "text/plain": [
       "<Figure size 640x480 with 1 Axes>"
      ],
      "image/png": "[encoded data removed]"
     },
     "metadata": {},
     "output_type": "display_data"
    }
   ],
   "execution_count": 14
  },
  {
   "metadata": {
    "ExecuteTime": {
     "end_time": "2025-06-01T15:19:01.664549Z",
     "start_time": "2025-06-01T15:19:01.643453Z"
    }
   },
   "cell_type": "code",
   "source": "import torch",
   "id": "6c4909bf21526a51",
   "outputs": [],
   "execution_count": 3
  },
  {
   "metadata": {
    "ExecuteTime": {
     "end_time": "2025-06-15T19:03:15.760490Z",
     "start_time": "2025-06-15T19:03:15.750532Z"
    }
   },
   "cell_type": "code",
   "source": [
    "with open('../grail_metabolism/data/smirks.txt') as f:\n",
    "    rules = f.read().splitlines()"
   ],
   "id": "3ddceb8e90a2d8cd",
   "outputs": [],
   "execution_count": 6
  },
  {
   "metadata": {
    "ExecuteTime": {
     "end_time": "2025-06-15T19:03:16.396560Z",
     "start_time": "2025-06-15T19:03:16.388729Z"
    }
   },
   "cell_type": "code",
   "source": "from grail_metabolism.utils.transform import from_rule",
   "id": "d942a645f1302c3f",
   "outputs": [],
   "execution_count": 7
  },
  {
   "metadata": {
    "ExecuteTime": {
     "end_time": "2025-06-15T19:03:23.523513Z",
     "start_time": "2025-06-15T19:03:16.848490Z"
    }
   },
   "cell_type": "code",
   "source": "rule_dict = {rule: from_rule(rule) for rule in rules}",
   "id": "96c7e1f668e6f528",
   "outputs": [],
   "execution_count": 8
  },
  {
   "metadata": {
    "ExecuteTime": {
     "end_time": "2025-06-15T19:03:24.206063Z",
     "start_time": "2025-06-15T19:03:24.122533Z"
    }
   },
   "cell_type": "code",
   "source": "generator = Generator(rule_dict, 10, 6)",
   "id": "22747271168b34d7",
   "outputs": [],
   "execution_count": 9
  },
  {
   "metadata": {
    "ExecuteTime": {
     "end_time": "2025-06-15T19:03:25.328164Z",
     "start_time": "2025-06-15T19:03:25.304739Z"
    }
   },
   "cell_type": "code",
   "source": "state_dt = torch.load('../grail_metabolism/best_pretrained_generator.pth')",
   "id": "ee244693c8ecc628",
   "outputs": [],
   "execution_count": 10
  },
  {
   "metadata": {
    "ExecuteTime": {
     "end_time": "2025-06-15T19:03:26.933518Z",
     "start_time": "2025-06-15T19:03:26.925040Z"
    }
   },
   "cell_type": "code",
   "source": "state_dt['final_proj.weight'] = torch.nn.init.xavier_uniform_(torch.zeros(474, 100))",
   "id": "334e2af3b14b130c",
   "outputs": [],
   "execution_count": 11
  },
  {
   "metadata": {
    "ExecuteTime": {
     "end_time": "2025-06-15T19:03:27.740321Z",
     "start_time": "2025-06-15T19:03:27.729308Z"
    }
   },
   "cell_type": "code",
   "source": "state_dt['final_proj.bias'] = torch.zeros(474)",
   "id": "3baba04ab1b1a0f3",
   "outputs": [],
   "execution_count": 12
  },
  {
   "metadata": {
    "ExecuteTime": {
     "end_time": "2025-06-15T19:03:33.198970Z",
     "start_time": "2025-06-15T19:03:33.174803Z"
    }
   },
   "cell_type": "code",
   "source": "generator.load_state_dict(state_dt)",
   "id": "a07d353d7471d623",
   "outputs": [
    {
     "data": {
      "text/plain": [
       "<All keys matched successfully>"
      ]
     },
     "execution_count": 13,
     "metadata": {},
     "output_type": "execute_result"
    }
   ],
   "execution_count": 13
  },
  {
   "metadata": {
    "ExecuteTime": {
     "end_time": "2025-06-15T19:03:37.343663Z",
     "start_time": "2025-06-15T19:03:37.331576Z"
    }
   },
   "cell_type": "code",
   "source": [
    "ct = 0\n",
    "for child in generator.children():\n",
    "    ct += 1\n",
    "    if ct < 3:\n",
    "        for param in child.parameters():\n",
    "            param.requires_grad = False"
   ],
   "id": "15030e4f4f42db94",
   "outputs": [],
   "execution_count": 14
  },
  {
   "metadata": {
    "ExecuteTime": {
     "end_time": "2025-06-15T19:06:51.875156Z",
     "start_time": "2025-06-15T19:03:38.855413Z"
    }
   },
   "cell_type": "code",
   "source": [
    "import pickle as pkl\n",
    "with open('../grail_metabolism/data/train_labelled.pkl', 'rb') as f:\n",
    "    train = pkl.load(f)"
   ],
   "id": "c91bf9062510630f",
   "outputs": [],
   "execution_count": 15
  },
  {
   "metadata": {
    "ExecuteTime": {
     "end_time": "2025-06-15T19:32:38.392293Z",
     "start_time": "2025-06-15T19:25:46.117407Z"
    }
   },
   "cell_type": "code",
   "source": "generator.fit(train)",
   "id": "9b4c13cc7ab12fe1",
   "outputs": [
    {
     "name": "stdout",
     "output_type": "stream",
     "text": [
      "Starting DataLoaders generation\n"
     ]
    },
    {
     "data": {
      "text/plain": [
       "  0%|          | 0/100 [00:00<?, ?it/s]"
      ],
      "application/vnd.jupyter.widget-view+json": {
       "version_major": 2,
       "version_minor": 0,
       "model_id": "fcd756d3c38f47bebfbbb178c8ab6306"
      }
     },
     "metadata": {},
     "output_type": "display_data"
    },
    {
     "name": "stdout",
     "output_type": "stream",
     "text": [
      "Loss 96.23803400993347\n",
      "Loss 82.9944314956665\n",
      "Loss 71.63479506969452\n",
      "Loss 62.61836552619934\n",
      "Loss 54.8427671790123\n",
      "Loss 48.114592254161835\n",
      "Loss 41.97697740793228\n",
      "Loss 36.189572632312775\n",
      "Loss 30.801946938037872\n",
      "Loss 25.88821032643318\n",
      "Loss 21.47743946313858\n",
      "Loss 17.513809099793434\n",
      "Loss 14.031209826469421\n",
      "Loss 11.123308554291725\n",
      "Loss 8.702456466853619\n",
      "Loss 6.754078574478626\n",
      "Loss 5.24439138174057\n",
      "Loss 4.123270723968744\n",
      "Loss 3.3134894259274006\n",
      "Loss 2.7464431636035442\n",
      "Loss 2.3767175059765577\n",
      "Loss 2.0955868288874626\n",
      "Loss 1.9304786510765553\n",
      "Loss 1.7984566446393728\n",
      "Loss 1.6991457492113113\n",
      "Loss 1.629593126475811\n",
      "Loss 1.6025165058672428\n",
      "Loss 1.5671136397868395\n",
      "Loss 1.518072048202157\n",
      "Loss 1.5039092469960451\n",
      "Loss 1.475499004125595\n",
      "Loss 1.4570500534027815\n",
      "Loss 1.4415014535188675\n",
      "Loss 1.4279817026108503\n",
      "Loss 1.4255452184006572\n",
      "Loss 1.4189350036904216\n",
      "Loss 1.408639551140368\n",
      "Loss 1.4007699768990278\n",
      "Loss 1.4131390461698174\n",
      "Loss 1.3901302656158805\n",
      "Loss 1.397983618080616\n",
      "Loss 1.3818124867975712\n",
      "Loss 1.3772894339635968\n"
     ]
    },
    {
     "ename": "KeyboardInterrupt",
     "evalue": "",
     "output_type": "error",
     "traceback": [
      "\u001B[0;31m---------------------------------------------------------------------------\u001B[0m",
      "\u001B[0;31mKeyboardInterrupt\u001B[0m                         Traceback (most recent call last)",
      "Cell \u001B[0;32mIn[16], line 1\u001B[0m\n\u001B[0;32m----> 1\u001B[0m \u001B[43mgenerator\u001B[49m\u001B[38;5;241;43m.\u001B[39;49m\u001B[43mfit\u001B[49m\u001B[43m(\u001B[49m\u001B[43mtrain\u001B[49m\u001B[43m)\u001B[49m\n",
      "File \u001B[0;32m~/PycharmProjects/GRAIL/grail_metabolism/../grail_metabolism/model/generator.py:161\u001B[0m, in \u001B[0;36mGenerator.fit\u001B[0;34m(self, data, lr, verbose, gamma)\u001B[0m\n\u001B[1;32m    159\u001B[0m \u001B[38;5;28;01mfor\u001B[39;00m batch \u001B[38;5;129;01min\u001B[39;00m train_loader:\n\u001B[1;32m    160\u001B[0m     batch \u001B[38;5;241m=\u001B[39m batch\u001B[38;5;241m.\u001B[39mto(device)\n\u001B[0;32m--> 161\u001B[0m     out \u001B[38;5;241m=\u001B[39m \u001B[38;5;28;43mself\u001B[39;49m\u001B[43m(\u001B[49m\u001B[43mbatch\u001B[49m\u001B[43m)\u001B[49m\n\u001B[1;32m    163\u001B[0m     \u001B[38;5;66;03m# Правильное преобразование формы целевых меток\u001B[39;00m\n\u001B[1;32m    164\u001B[0m     target \u001B[38;5;241m=\u001B[39m batch\u001B[38;5;241m.\u001B[39my\u001B[38;5;241m.\u001B[39mview(out\u001B[38;5;241m.\u001B[39mshape[\u001B[38;5;241m0\u001B[39m], \u001B[38;5;241m-\u001B[39m\u001B[38;5;241m1\u001B[39m)  \u001B[38;5;66;03m# [batch_size, num_rules]\u001B[39;00m\n",
      "File \u001B[0;32m~/anaconda3/envs/aizynth-env/lib/python3.10/site-packages/torch/nn/modules/module.py:1194\u001B[0m, in \u001B[0;36mModule._call_impl\u001B[0;34m(self, *input, **kwargs)\u001B[0m\n\u001B[1;32m   1190\u001B[0m \u001B[38;5;66;03m# If we don't have any hooks, we want to skip the rest of the logic in\u001B[39;00m\n\u001B[1;32m   1191\u001B[0m \u001B[38;5;66;03m# this function, and just call forward.\u001B[39;00m\n\u001B[1;32m   1192\u001B[0m \u001B[38;5;28;01mif\u001B[39;00m \u001B[38;5;129;01mnot\u001B[39;00m (\u001B[38;5;28mself\u001B[39m\u001B[38;5;241m.\u001B[39m_backward_hooks \u001B[38;5;129;01mor\u001B[39;00m \u001B[38;5;28mself\u001B[39m\u001B[38;5;241m.\u001B[39m_forward_hooks \u001B[38;5;129;01mor\u001B[39;00m \u001B[38;5;28mself\u001B[39m\u001B[38;5;241m.\u001B[39m_forward_pre_hooks \u001B[38;5;129;01mor\u001B[39;00m _global_backward_hooks\n\u001B[1;32m   1193\u001B[0m         \u001B[38;5;129;01mor\u001B[39;00m _global_forward_hooks \u001B[38;5;129;01mor\u001B[39;00m _global_forward_pre_hooks):\n\u001B[0;32m-> 1194\u001B[0m     \u001B[38;5;28;01mreturn\u001B[39;00m \u001B[43mforward_call\u001B[49m\u001B[43m(\u001B[49m\u001B[38;5;241;43m*\u001B[39;49m\u001B[38;5;28;43minput\u001B[39;49m\u001B[43m,\u001B[49m\u001B[43m \u001B[49m\u001B[38;5;241;43m*\u001B[39;49m\u001B[38;5;241;43m*\u001B[39;49m\u001B[43mkwargs\u001B[49m\u001B[43m)\u001B[49m\n\u001B[1;32m   1195\u001B[0m \u001B[38;5;66;03m# Do not call functions when jit is used\u001B[39;00m\n\u001B[1;32m   1196\u001B[0m full_backward_hooks, non_full_backward_hooks \u001B[38;5;241m=\u001B[39m [], []\n",
      "File \u001B[0;32m~/PycharmProjects/GRAIL/grail_metabolism/../grail_metabolism/model/generator.py:121\u001B[0m, in \u001B[0;36mGenerator.forward\u001B[0;34m(self, data)\u001B[0m\n\u001B[1;32m    118\u001B[0m mol_emb \u001B[38;5;241m=\u001B[39m \u001B[38;5;28mself\u001B[39m\u001B[38;5;241m.\u001B[39mdropout(mol_emb)\n\u001B[1;32m    120\u001B[0m \u001B[38;5;66;03m# Вычисляем логиты\u001B[39;00m\n\u001B[0;32m--> 121\u001B[0m attn_output, _ \u001B[38;5;241m=\u001B[39m \u001B[38;5;28;43mself\u001B[39;49m\u001B[38;5;241;43m.\u001B[39;49m\u001B[43mattention\u001B[49m\u001B[43m(\u001B[49m\n\u001B[1;32m    122\u001B[0m \u001B[43m    \u001B[49m\u001B[43mquery\u001B[49m\u001B[38;5;241;43m=\u001B[39;49m\u001B[43mmol_emb\u001B[49m\u001B[38;5;241;43m.\u001B[39;49m\u001B[43munsqueeze\u001B[49m\u001B[43m(\u001B[49m\u001B[38;5;241;43m1\u001B[39;49m\u001B[43m)\u001B[49m\u001B[43m,\u001B[49m\u001B[43m  \u001B[49m\u001B[38;5;66;43;03m# [batch_size, 1, embed_dim]\u001B[39;49;00m\n\u001B[1;32m    123\u001B[0m \u001B[43m    \u001B[49m\u001B[43mkey\u001B[49m\u001B[38;5;241;43m=\u001B[39;49m\u001B[43mrule_emb\u001B[49m\u001B[38;5;241;43m.\u001B[39;49m\u001B[43munsqueeze\u001B[49m\u001B[43m(\u001B[49m\u001B[38;5;241;43m0\u001B[39;49m\u001B[43m)\u001B[49m\u001B[38;5;241;43m.\u001B[39;49m\u001B[43mrepeat\u001B[49m\u001B[43m(\u001B[49m\u001B[43mmol_emb\u001B[49m\u001B[38;5;241;43m.\u001B[39;49m\u001B[43msize\u001B[49m\u001B[43m(\u001B[49m\u001B[38;5;241;43m0\u001B[39;49m\u001B[43m)\u001B[49m\u001B[43m,\u001B[49m\u001B[43m \u001B[49m\u001B[38;5;241;43m1\u001B[39;49m\u001B[43m,\u001B[49m\u001B[43m \u001B[49m\u001B[38;5;241;43m1\u001B[39;49m\u001B[43m)\u001B[49m\u001B[43m,\u001B[49m\u001B[43m  \u001B[49m\u001B[38;5;66;43;03m# [batch_size, num_rules, embed_dim]\u001B[39;49;00m\n\u001B[1;32m    124\u001B[0m \u001B[43m    \u001B[49m\u001B[43mvalue\u001B[49m\u001B[38;5;241;43m=\u001B[39;49m\u001B[43mrule_emb\u001B[49m\u001B[38;5;241;43m.\u001B[39;49m\u001B[43munsqueeze\u001B[49m\u001B[43m(\u001B[49m\u001B[38;5;241;43m0\u001B[39;49m\u001B[43m)\u001B[49m\u001B[38;5;241;43m.\u001B[39;49m\u001B[43mrepeat\u001B[49m\u001B[43m(\u001B[49m\u001B[43mmol_emb\u001B[49m\u001B[38;5;241;43m.\u001B[39;49m\u001B[43msize\u001B[49m\u001B[43m(\u001B[49m\u001B[38;5;241;43m0\u001B[39;49m\u001B[43m)\u001B[49m\u001B[43m,\u001B[49m\u001B[43m \u001B[49m\u001B[38;5;241;43m1\u001B[39;49m\u001B[43m,\u001B[49m\u001B[43m \u001B[49m\u001B[38;5;241;43m1\u001B[39;49m\u001B[43m)\u001B[49m\u001B[43m  \u001B[49m\u001B[38;5;66;43;03m# [batch_size, num_rules, embed_dim]\u001B[39;49;00m\n\u001B[1;32m    125\u001B[0m \u001B[43m\u001B[49m\u001B[43m)\u001B[49m\n\u001B[1;32m    126\u001B[0m logits \u001B[38;5;241m=\u001B[39m \u001B[38;5;28mself\u001B[39m\u001B[38;5;241m.\u001B[39mfinal_proj(attn_output\u001B[38;5;241m.\u001B[39msqueeze(\u001B[38;5;241m1\u001B[39m))\n\u001B[1;32m    128\u001B[0m \u001B[38;5;28;01mreturn\u001B[39;00m \u001B[38;5;28mself\u001B[39m\u001B[38;5;241m.\u001B[39msigmoid(logits)\n",
      "File \u001B[0;32m~/anaconda3/envs/aizynth-env/lib/python3.10/site-packages/torch/nn/modules/module.py:1194\u001B[0m, in \u001B[0;36mModule._call_impl\u001B[0;34m(self, *input, **kwargs)\u001B[0m\n\u001B[1;32m   1190\u001B[0m \u001B[38;5;66;03m# If we don't have any hooks, we want to skip the rest of the logic in\u001B[39;00m\n\u001B[1;32m   1191\u001B[0m \u001B[38;5;66;03m# this function, and just call forward.\u001B[39;00m\n\u001B[1;32m   1192\u001B[0m \u001B[38;5;28;01mif\u001B[39;00m \u001B[38;5;129;01mnot\u001B[39;00m (\u001B[38;5;28mself\u001B[39m\u001B[38;5;241m.\u001B[39m_backward_hooks \u001B[38;5;129;01mor\u001B[39;00m \u001B[38;5;28mself\u001B[39m\u001B[38;5;241m.\u001B[39m_forward_hooks \u001B[38;5;129;01mor\u001B[39;00m \u001B[38;5;28mself\u001B[39m\u001B[38;5;241m.\u001B[39m_forward_pre_hooks \u001B[38;5;129;01mor\u001B[39;00m _global_backward_hooks\n\u001B[1;32m   1193\u001B[0m         \u001B[38;5;129;01mor\u001B[39;00m _global_forward_hooks \u001B[38;5;129;01mor\u001B[39;00m _global_forward_pre_hooks):\n\u001B[0;32m-> 1194\u001B[0m     \u001B[38;5;28;01mreturn\u001B[39;00m \u001B[43mforward_call\u001B[49m\u001B[43m(\u001B[49m\u001B[38;5;241;43m*\u001B[39;49m\u001B[38;5;28;43minput\u001B[39;49m\u001B[43m,\u001B[49m\u001B[43m \u001B[49m\u001B[38;5;241;43m*\u001B[39;49m\u001B[38;5;241;43m*\u001B[39;49m\u001B[43mkwargs\u001B[49m\u001B[43m)\u001B[49m\n\u001B[1;32m   1195\u001B[0m \u001B[38;5;66;03m# Do not call functions when jit is used\u001B[39;00m\n\u001B[1;32m   1196\u001B[0m full_backward_hooks, non_full_backward_hooks \u001B[38;5;241m=\u001B[39m [], []\n",
      "File \u001B[0;32m~/anaconda3/envs/aizynth-env/lib/python3.10/site-packages/torch/nn/modules/activation.py:1167\u001B[0m, in \u001B[0;36mMultiheadAttention.forward\u001B[0;34m(self, query, key, value, key_padding_mask, need_weights, attn_mask, average_attn_weights)\u001B[0m\n\u001B[1;32m   1156\u001B[0m     attn_output, attn_output_weights \u001B[38;5;241m=\u001B[39m F\u001B[38;5;241m.\u001B[39mmulti_head_attention_forward(\n\u001B[1;32m   1157\u001B[0m         query, key, value, \u001B[38;5;28mself\u001B[39m\u001B[38;5;241m.\u001B[39membed_dim, \u001B[38;5;28mself\u001B[39m\u001B[38;5;241m.\u001B[39mnum_heads,\n\u001B[1;32m   1158\u001B[0m         \u001B[38;5;28mself\u001B[39m\u001B[38;5;241m.\u001B[39min_proj_weight, \u001B[38;5;28mself\u001B[39m\u001B[38;5;241m.\u001B[39min_proj_bias,\n\u001B[0;32m   (...)\u001B[0m\n\u001B[1;32m   1164\u001B[0m         q_proj_weight\u001B[38;5;241m=\u001B[39m\u001B[38;5;28mself\u001B[39m\u001B[38;5;241m.\u001B[39mq_proj_weight, k_proj_weight\u001B[38;5;241m=\u001B[39m\u001B[38;5;28mself\u001B[39m\u001B[38;5;241m.\u001B[39mk_proj_weight,\n\u001B[1;32m   1165\u001B[0m         v_proj_weight\u001B[38;5;241m=\u001B[39m\u001B[38;5;28mself\u001B[39m\u001B[38;5;241m.\u001B[39mv_proj_weight, average_attn_weights\u001B[38;5;241m=\u001B[39maverage_attn_weights)\n\u001B[1;32m   1166\u001B[0m \u001B[38;5;28;01melse\u001B[39;00m:\n\u001B[0;32m-> 1167\u001B[0m     attn_output, attn_output_weights \u001B[38;5;241m=\u001B[39m \u001B[43mF\u001B[49m\u001B[38;5;241;43m.\u001B[39;49m\u001B[43mmulti_head_attention_forward\u001B[49m\u001B[43m(\u001B[49m\n\u001B[1;32m   1168\u001B[0m \u001B[43m        \u001B[49m\u001B[43mquery\u001B[49m\u001B[43m,\u001B[49m\u001B[43m \u001B[49m\u001B[43mkey\u001B[49m\u001B[43m,\u001B[49m\u001B[43m \u001B[49m\u001B[43mvalue\u001B[49m\u001B[43m,\u001B[49m\u001B[43m \u001B[49m\u001B[38;5;28;43mself\u001B[39;49m\u001B[38;5;241;43m.\u001B[39;49m\u001B[43membed_dim\u001B[49m\u001B[43m,\u001B[49m\u001B[43m \u001B[49m\u001B[38;5;28;43mself\u001B[39;49m\u001B[38;5;241;43m.\u001B[39;49m\u001B[43mnum_heads\u001B[49m\u001B[43m,\u001B[49m\n\u001B[1;32m   1169\u001B[0m \u001B[43m        \u001B[49m\u001B[38;5;28;43mself\u001B[39;49m\u001B[38;5;241;43m.\u001B[39;49m\u001B[43min_proj_weight\u001B[49m\u001B[43m,\u001B[49m\u001B[43m \u001B[49m\u001B[38;5;28;43mself\u001B[39;49m\u001B[38;5;241;43m.\u001B[39;49m\u001B[43min_proj_bias\u001B[49m\u001B[43m,\u001B[49m\n\u001B[1;32m   1170\u001B[0m \u001B[43m        \u001B[49m\u001B[38;5;28;43mself\u001B[39;49m\u001B[38;5;241;43m.\u001B[39;49m\u001B[43mbias_k\u001B[49m\u001B[43m,\u001B[49m\u001B[43m \u001B[49m\u001B[38;5;28;43mself\u001B[39;49m\u001B[38;5;241;43m.\u001B[39;49m\u001B[43mbias_v\u001B[49m\u001B[43m,\u001B[49m\u001B[43m \u001B[49m\u001B[38;5;28;43mself\u001B[39;49m\u001B[38;5;241;43m.\u001B[39;49m\u001B[43madd_zero_attn\u001B[49m\u001B[43m,\u001B[49m\n\u001B[1;32m   1171\u001B[0m \u001B[43m        \u001B[49m\u001B[38;5;28;43mself\u001B[39;49m\u001B[38;5;241;43m.\u001B[39;49m\u001B[43mdropout\u001B[49m\u001B[43m,\u001B[49m\u001B[43m \u001B[49m\u001B[38;5;28;43mself\u001B[39;49m\u001B[38;5;241;43m.\u001B[39;49m\u001B[43mout_proj\u001B[49m\u001B[38;5;241;43m.\u001B[39;49m\u001B[43mweight\u001B[49m\u001B[43m,\u001B[49m\u001B[43m \u001B[49m\u001B[38;5;28;43mself\u001B[39;49m\u001B[38;5;241;43m.\u001B[39;49m\u001B[43mout_proj\u001B[49m\u001B[38;5;241;43m.\u001B[39;49m\u001B[43mbias\u001B[49m\u001B[43m,\u001B[49m\n\u001B[1;32m   1172\u001B[0m \u001B[43m        \u001B[49m\u001B[43mtraining\u001B[49m\u001B[38;5;241;43m=\u001B[39;49m\u001B[38;5;28;43mself\u001B[39;49m\u001B[38;5;241;43m.\u001B[39;49m\u001B[43mtraining\u001B[49m\u001B[43m,\u001B[49m\n\u001B[1;32m   1173\u001B[0m \u001B[43m        \u001B[49m\u001B[43mkey_padding_mask\u001B[49m\u001B[38;5;241;43m=\u001B[39;49m\u001B[43mkey_padding_mask\u001B[49m\u001B[43m,\u001B[49m\u001B[43m \u001B[49m\u001B[43mneed_weights\u001B[49m\u001B[38;5;241;43m=\u001B[39;49m\u001B[43mneed_weights\u001B[49m\u001B[43m,\u001B[49m\n\u001B[1;32m   1174\u001B[0m \u001B[43m        \u001B[49m\u001B[43mattn_mask\u001B[49m\u001B[38;5;241;43m=\u001B[39;49m\u001B[43mattn_mask\u001B[49m\u001B[43m,\u001B[49m\u001B[43m \u001B[49m\u001B[43maverage_attn_weights\u001B[49m\u001B[38;5;241;43m=\u001B[39;49m\u001B[43maverage_attn_weights\u001B[49m\u001B[43m)\u001B[49m\n\u001B[1;32m   1175\u001B[0m \u001B[38;5;28;01mif\u001B[39;00m \u001B[38;5;28mself\u001B[39m\u001B[38;5;241m.\u001B[39mbatch_first \u001B[38;5;129;01mand\u001B[39;00m is_batched:\n\u001B[1;32m   1176\u001B[0m     \u001B[38;5;28;01mreturn\u001B[39;00m attn_output\u001B[38;5;241m.\u001B[39mtranspose(\u001B[38;5;241m1\u001B[39m, \u001B[38;5;241m0\u001B[39m), attn_output_weights\n",
      "File \u001B[0;32m~/anaconda3/envs/aizynth-env/lib/python3.10/site-packages/torch/nn/functional.py:5046\u001B[0m, in \u001B[0;36mmulti_head_attention_forward\u001B[0;34m(query, key, value, embed_dim_to_check, num_heads, in_proj_weight, in_proj_bias, bias_k, bias_v, add_zero_attn, dropout_p, out_proj_weight, out_proj_bias, training, key_padding_mask, need_weights, attn_mask, use_separate_proj_weight, q_proj_weight, k_proj_weight, v_proj_weight, static_k, static_v, average_attn_weights)\u001B[0m\n\u001B[1;32m   5044\u001B[0m \u001B[38;5;28;01mif\u001B[39;00m \u001B[38;5;129;01mnot\u001B[39;00m use_separate_proj_weight:\n\u001B[1;32m   5045\u001B[0m     \u001B[38;5;28;01massert\u001B[39;00m in_proj_weight \u001B[38;5;129;01mis\u001B[39;00m \u001B[38;5;129;01mnot\u001B[39;00m \u001B[38;5;28;01mNone\u001B[39;00m, \u001B[38;5;124m\"\u001B[39m\u001B[38;5;124muse_separate_proj_weight is False but in_proj_weight is None\u001B[39m\u001B[38;5;124m\"\u001B[39m\n\u001B[0;32m-> 5046\u001B[0m     q, k, v \u001B[38;5;241m=\u001B[39m \u001B[43m_in_projection_packed\u001B[49m\u001B[43m(\u001B[49m\u001B[43mquery\u001B[49m\u001B[43m,\u001B[49m\u001B[43m \u001B[49m\u001B[43mkey\u001B[49m\u001B[43m,\u001B[49m\u001B[43m \u001B[49m\u001B[43mvalue\u001B[49m\u001B[43m,\u001B[49m\u001B[43m \u001B[49m\u001B[43min_proj_weight\u001B[49m\u001B[43m,\u001B[49m\u001B[43m \u001B[49m\u001B[43min_proj_bias\u001B[49m\u001B[43m)\u001B[49m\n\u001B[1;32m   5047\u001B[0m \u001B[38;5;28;01melse\u001B[39;00m:\n\u001B[1;32m   5048\u001B[0m     \u001B[38;5;28;01massert\u001B[39;00m q_proj_weight \u001B[38;5;129;01mis\u001B[39;00m \u001B[38;5;129;01mnot\u001B[39;00m \u001B[38;5;28;01mNone\u001B[39;00m, \u001B[38;5;124m\"\u001B[39m\u001B[38;5;124muse_separate_proj_weight is True but q_proj_weight is None\u001B[39m\u001B[38;5;124m\"\u001B[39m\n",
      "File \u001B[0;32m~/anaconda3/envs/aizynth-env/lib/python3.10/site-packages/torch/nn/functional.py:4752\u001B[0m, in \u001B[0;36m_in_projection_packed\u001B[0;34m(q, k, v, w, b)\u001B[0m\n\u001B[1;32m   4750\u001B[0m \u001B[38;5;28;01melse\u001B[39;00m:\n\u001B[1;32m   4751\u001B[0m     b_q, b_k, b_v \u001B[38;5;241m=\u001B[39m b\u001B[38;5;241m.\u001B[39mchunk(\u001B[38;5;241m3\u001B[39m)\n\u001B[0;32m-> 4752\u001B[0m \u001B[38;5;28;01mreturn\u001B[39;00m linear(q, w_q, b_q), \u001B[43mlinear\u001B[49m\u001B[43m(\u001B[49m\u001B[43mk\u001B[49m\u001B[43m,\u001B[49m\u001B[43m \u001B[49m\u001B[43mw_k\u001B[49m\u001B[43m,\u001B[49m\u001B[43m \u001B[49m\u001B[43mb_k\u001B[49m\u001B[43m)\u001B[49m, linear(v, w_v, b_v)\n",
      "\u001B[0;31mKeyboardInterrupt\u001B[0m: "
     ]
    },
    {
     "data": {
      "text/plain": [
       "<Figure size 640x480 with 1 Axes>"
      ],
      "image/png": "[encoded data removed]"
     },
     "metadata": {},
     "output_type": "display_data"
    }
   ],
   "execution_count": 16
  },
  {
   "metadata": {
    "ExecuteTime": {
     "start_time": "2025-06-01T16:04:28.044492Z"
    }
   },
   "cell_type": "code",
   "source": "generator.generate('c1ccccc1')[0]",
   "id": "34495e096d0eaf81",
   "outputs": [],
   "execution_count": null
  },
  {
   "metadata": {},
   "cell_type": "code",
   "outputs": [],
   "execution_count": null,
   "source": "",
   "id": "85a02c54a9deedf3"
  }
 ],
 "metadata": {
  "kernelspec": {
   "display_name": "Synthon",
   "language": "python",
   "name": "aizynth-env"
  },
  "language_info": {
   "codemirror_mode": {
    "name": "ipython",
    "version": 2
   },
   "file_extension": ".py",
   "mimetype": "text/x-python",
   "name": "python",
   "nbconvert_exporter": "python",
   "pygments_lexer": "ipython2",
   "version": "2.7.6"
  }
 },
 "nbformat": 4,
 "nbformat_minor": 5
}
