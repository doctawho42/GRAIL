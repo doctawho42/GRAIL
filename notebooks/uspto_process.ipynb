{
 "cells": [
  {
   "cell_type": "code",
   "id": "initial_id",
   "metadata": {
    "collapsed": true,
    "ExecuteTime": {
     "end_time": "2025-05-15T01:32:37.016514Z",
     "start_time": "2025-05-15T01:32:37.013834Z"
    }
   },
   "source": [
    "import sys\n",
    "sys.path.append('../')"
   ],
   "outputs": [],
   "execution_count": 1
  },
  {
   "metadata": {
    "ExecuteTime": {
     "end_time": "2025-05-15T01:32:42.977505Z",
     "start_time": "2025-05-15T01:32:38.366334Z"
    }
   },
   "cell_type": "code",
   "source": [
    "import pandas as pd\n",
    "import numpy as np\n",
    "from grail_metabolism.utils.preparation import MolFrame\n",
    "from tqdm.auto import tqdm"
   ],
   "id": "2415e206b9471d77",
   "outputs": [
    {
     "name": "stdout",
     "output_type": "stream",
     "text": [
      "ATTENTION: RXNMapper is not installed. Please install it first if you want to create your own set of rules.\n",
      "ATTENTION: you use incorrect for rxnmapper version of rdkit\n"
     ]
    }
   ],
   "execution_count": 2
  },
  {
   "metadata": {
    "ExecuteTime": {
     "end_time": "2025-05-15T01:33:58.719699Z",
     "start_time": "2025-05-15T01:32:43.776917Z"
    }
   },
   "cell_type": "code",
   "source": [
    "import pickle as pkl\n",
    "uspto = pkl.load(open('../notebooks/uspto.pkl', 'rb'))"
   ],
   "id": "8649889e13ca80c",
   "outputs": [],
   "execution_count": 3
  },
  {
   "metadata": {
    "ExecuteTime": {
     "end_time": "2025-05-15T01:34:50.695366Z",
     "start_time": "2025-05-15T01:33:58.887305Z"
    }
   },
   "cell_type": "code",
   "source": [
    "mol_structs = {}\n",
    "for _, row in tqdm(uspto.iterrows(), total=len(uspto)):\n",
    "    mol_structs[row['sub']] = row['sub_mol']\n",
    "    mol_structs[row['prod']] = row['prod_mol']"
   ],
   "id": "b1c59226d8da984",
   "outputs": [
    {
     "data": {
      "text/plain": [
       "  0%|          | 0/1798556 [00:00<?, ?it/s]"
      ],
      "application/vnd.jupyter.widget-view+json": {
       "version_major": 2,
       "version_minor": 0,
       "model_id": "ecb682f971ce49019a95aed39cfa340d"
      }
     },
     "metadata": {},
     "output_type": "display_data"
    }
   ],
   "execution_count": 4
  },
  {
   "metadata": {
    "ExecuteTime": {
     "end_time": "2025-05-15T01:35:05.907931Z",
     "start_time": "2025-05-15T01:35:05.881630Z"
    }
   },
   "cell_type": "code",
   "source": "uspto['real'] = np.ones(len(uspto)).astype(int)",
   "id": "3cef6f84b9643207",
   "outputs": [],
   "execution_count": 5
  },
  {
   "metadata": {
    "jupyter": {
     "is_executing": true
    },
    "ExecuteTime": {
     "start_time": "2025-05-15T01:35:07.340254Z"
    }
   },
   "cell_type": "code",
   "source": "uspto_frame = MolFrame(uspto, mol_structs=mol_structs, standartize=False)",
   "id": "f8a4853e3e07b9a5",
   "outputs": [
    {
     "data": {
      "text/plain": [
       "Processing reactions:   0%|          | 0/573055 [00:00<?, ?it/s]"
      ],
      "application/vnd.jupyter.widget-view+json": {
       "version_major": 2,
       "version_minor": 0,
       "model_id": "5c1f7a5b534a4c6c84ea128849f79ab3"
      }
     },
     "metadata": {},
     "output_type": "display_data"
    }
   ],
   "execution_count": null
  },
  {
   "metadata": {
    "ExecuteTime": {
     "end_time": "2025-05-15T00:47:13.483033Z",
     "start_time": "2025-05-15T00:31:33.902720Z"
    }
   },
   "cell_type": "code",
   "source": "uspto_frame.morganize()",
   "id": "65ab4658b10410f7",
   "outputs": [
    {
     "data": {
      "text/plain": [
       "  0%|          | 0/1173876 [00:00<?, ?it/s]"
      ],
      "application/vnd.jupyter.widget-view+json": {
       "version_major": 2,
       "version_minor": 0,
       "model_id": "2f0ea45131a2432fb39751eee4dbe7a5"
      }
     },
     "metadata": {},
     "output_type": "display_data"
    }
   ],
   "execution_count": 7
  },
  {
   "metadata": {
    "ExecuteTime": {
     "start_time": "2025-05-15T00:47:15.788775Z"
    }
   },
   "cell_type": "code",
   "source": "uspto_frame.permute_augmentation(cutoff=None)",
   "id": "1c1be8edf4d5e4cd",
   "outputs": [
    {
     "data": {
      "text/plain": [
       "  0%|          | 0/1173876 [00:00<?, ?it/s]"
      ],
      "application/vnd.jupyter.widget-view+json": {
       "version_major": 2,
       "version_minor": 0,
       "model_id": "0d09c576c8ae4347b11c5a54c7c3c303"
      }
     },
     "metadata": {},
     "output_type": "display_data"
    }
   ],
   "execution_count": null
  },
  {
   "metadata": {},
   "cell_type": "code",
   "outputs": [],
   "execution_count": null,
   "source": "",
   "id": "252437ccd7a43b4"
  }
 ],
 "metadata": {
  "kernelspec": {
   "display_name": "Synthon",
   "language": "python",
   "name": "aizynth-env"
  },
  "language_info": {
   "codemirror_mode": {
    "name": "ipython",
    "version": 2
   },
   "file_extension": ".py",
   "mimetype": "text/x-python",
   "name": "python",
   "nbconvert_exporter": "python",
   "pygments_lexer": "ipython2",
   "version": "2.7.6"
  }
 },
 "nbformat": 4,
 "nbformat_minor": 5
}
