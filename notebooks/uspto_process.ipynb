{
 "cells": [
  {
   "cell_type": "code",
   "id": "initial_id",
   "metadata": {
    "collapsed": true,
    "ExecuteTime": {
     "end_time": "2025-10-13T00:55:48.807911Z",
     "start_time": "2025-10-13T00:55:48.788855Z"
    }
   },
   "source": [
    "import sys\n",
    "sys.path.append('../')"
   ],
   "outputs": [],
   "execution_count": 3
  },
  {
   "metadata": {
    "ExecuteTime": {
     "end_time": "2025-10-13T00:55:57.942819Z",
     "start_time": "2025-10-13T00:55:50.260340Z"
    }
   },
   "cell_type": "code",
   "source": [
    "import pandas as pd\n",
    "import numpy as np\n",
    "from grail_metabolism.utils.preparation import MolFrame\n",
    "from tqdm.auto import tqdm"
   ],
   "id": "2415e206b9471d77",
   "outputs": [
    {
     "name": "stdout",
     "output_type": "stream",
     "text": [
      "ATTENTION: RXNMapper is not installed. Please install it first if you want to create your own set of rules.\n"
     ]
    }
   ],
   "execution_count": 4
  },
  {
   "metadata": {
    "ExecuteTime": {
     "end_time": "2025-10-13T00:57:13.442245Z",
     "start_time": "2025-10-13T00:56:00.988561Z"
    }
   },
   "cell_type": "code",
   "source": [
    "import pickle as pkl\n",
    "uspto = pkl.load(open('../notebooks/uspto.pkl', 'rb'))"
   ],
   "id": "8649889e13ca80c",
   "outputs": [],
   "execution_count": 5
  },
  {
   "metadata": {
    "ExecuteTime": {
     "end_time": "2025-10-12T23:49:48.252440Z",
     "start_time": "2025-10-12T23:49:48.180497Z"
    }
   },
   "cell_type": "code",
   "source": "print(uspto)",
   "id": "2f1bc73766929a73",
   "outputs": [
    {
     "name": "stdout",
     "output_type": "stream",
     "text": [
      "                                                       sub  \\\n",
      "2                                        CC(C)CS(=O)(=O)Cl   \n",
      "5                                        CC(C)CS(=O)(=O)Cl   \n",
      "6                           O=[N+]([O-])c1cccc2cnc(Cl)cc12   \n",
      "7                     Cc1cc2c([N+](=O)[O-])cccc2c[n+]1[O-]   \n",
      "8                            Cc1cc2c([N+](=O)[O-])cccc2cn1   \n",
      "...                                                    ...   \n",
      "1808932                     Cc1ccccc1P(c1ccccc1C)c1ccccc1C   \n",
      "1808933  c1ccc(-c2cccc3c2sc2c(-c4ccc5[nH]c6ccccc6c5c4)c...   \n",
      "1808934  Brc1ccc(-c2ccc3c(-c4ccccc4)c4ccccc4c(-c4ccccc4...   \n",
      "1808935  Brc1cccc(-c2ccc3c(-c4ccccc4)c4ccccc4c(-c4ccccc...   \n",
      "1808936  Brc1cccc(-c2ccc3c(-c4ccccc4)c4ccccc4c(-c4ccccc...   \n",
      "\n",
      "                                                      prod  \\\n",
      "2                                     CC(C)CS(=O)(=O)OCCCl   \n",
      "5                                     CC(C)CS(=O)(=O)OCCCl   \n",
      "6                                      Nc1cccc2cnc(Cl)cc12   \n",
      "7                        Cc1cc2c([N+](=O)[O-])cccc2c(Cl)n1   \n",
      "8                            Cc1cc2c([N+](=O)[O-])cccc2cn1   \n",
      "...                                                    ...   \n",
      "1808932  c1ccc(-c2cccc3c2sc2c(-c4ccc5[nH]c6ccccc6c5c4)c...   \n",
      "1808933  c1ccc(-c2c3ccccc3c(-c3ccc(-n4c5ccccc5c5cc(-c6c...   \n",
      "1808934  c1ccc(-c2c3ccccc3c(-c3ccccc3)c3cc(-c4ccc(-n5c6...   \n",
      "1808935  c1ccc(-c2c3ccccc3c(-c3ccccc3)c3cc(-c4cccc(-n5c...   \n",
      "1808936  c1ccc(-c2c3ccccc3c(-c3ccccc3)c3cc(-c4cccc(-n5c...   \n",
      "\n",
      "                                               sub_mol  \\\n",
      "2        <rdkit.Chem.rdchem.Mol object at 0x32f917920>   \n",
      "5        <rdkit.Chem.rdchem.Mol object at 0x32f9179c0>   \n",
      "6        <rdkit.Chem.rdchem.Mol object at 0x32f917a60>   \n",
      "7        <rdkit.Chem.rdchem.Mol object at 0x32f917b00>   \n",
      "8        <rdkit.Chem.rdchem.Mol object at 0x32f917ba0>   \n",
      "...                                                ...   \n",
      "1808932  <rdkit.Chem.rdchem.Mol object at 0x462c8cb30>   \n",
      "1808933  <rdkit.Chem.rdchem.Mol object at 0x462c8cb80>   \n",
      "1808934  <rdkit.Chem.rdchem.Mol object at 0x462c8cbd0>   \n",
      "1808935  <rdkit.Chem.rdchem.Mol object at 0x462c8cc20>   \n",
      "1808936  <rdkit.Chem.rdchem.Mol object at 0x462cabb00>   \n",
      "\n",
      "                                              prod_mol  \n",
      "2        <rdkit.Chem.rdchem.Mol object at 0x462cab010>  \n",
      "5        <rdkit.Chem.rdchem.Mol object at 0x462cd4c70>  \n",
      "6        <rdkit.Chem.rdchem.Mol object at 0x462c8ccc0>  \n",
      "7        <rdkit.Chem.rdchem.Mol object at 0x462c8cd10>  \n",
      "8        <rdkit.Chem.rdchem.Mol object at 0x462c8cd60>  \n",
      "...                                                ...  \n",
      "1808932  <rdkit.Chem.rdchem.Mol object at 0x5c6f5e930>  \n",
      "1808933  <rdkit.Chem.rdchem.Mol object at 0x5c6f5e980>  \n",
      "1808934  <rdkit.Chem.rdchem.Mol object at 0x5c6f5e9d0>  \n",
      "1808935  <rdkit.Chem.rdchem.Mol object at 0x5c6f2bb00>  \n",
      "1808936  <rdkit.Chem.rdchem.Mol object at 0x5c6f86a20>  \n",
      "\n",
      "[1798556 rows x 4 columns]\n"
     ]
    }
   ],
   "execution_count": 4
  },
  {
   "metadata": {
    "ExecuteTime": {
     "end_time": "2025-10-13T00:58:21.193693Z",
     "start_time": "2025-10-13T00:57:21.998904Z"
    }
   },
   "cell_type": "code",
   "source": [
    "mol_structs = {}\n",
    "for _, row in tqdm(uspto.iterrows(), total=len(uspto)):\n",
    "    mol_structs[row['sub']] = row['sub_mol']\n",
    "    mol_structs[row['prod']] = row['prod_mol']"
   ],
   "id": "b1c59226d8da984",
   "outputs": [
    {
     "data": {
      "text/plain": [
       "  0%|          | 0/1798556 [00:00<?, ?it/s]"
      ],
      "application/vnd.jupyter.widget-view+json": {
       "version_major": 2,
       "version_minor": 0,
       "model_id": "fb4af93a9fb14f9caf14dc29a723a48e"
      }
     },
     "metadata": {},
     "output_type": "display_data"
    }
   ],
   "execution_count": 6
  },
  {
   "metadata": {
    "ExecuteTime": {
     "end_time": "2025-10-13T00:58:21.338464Z",
     "start_time": "2025-10-13T00:58:21.245784Z"
    }
   },
   "cell_type": "code",
   "source": "uspto['real'] = np.ones(len(uspto)).astype(int)",
   "id": "3cef6f84b9643207",
   "outputs": [],
   "execution_count": 7
  },
  {
   "metadata": {
    "ExecuteTime": {
     "end_time": "2025-10-13T01:01:09.487818Z",
     "start_time": "2025-10-13T00:58:22.344898Z"
    }
   },
   "cell_type": "code",
   "source": "uspto_frame = MolFrame(uspto, mol_structs=mol_structs, standartize=False)",
   "id": "f8a4853e3e07b9a5",
   "outputs": [
    {
     "data": {
      "text/plain": [
       "Processing reactions:   0%|          | 0/573055 [00:00<?, ?it/s]"
      ],
      "application/vnd.jupyter.widget-view+json": {
       "version_major": 2,
       "version_minor": 0,
       "model_id": "d076633543764f7e8596d9f2632fccee"
      }
     },
     "metadata": {},
     "output_type": "display_data"
    }
   ],
   "execution_count": 8
  },
  {
   "metadata": {
    "ExecuteTime": {
     "end_time": "2025-10-13T01:01:12.592449Z",
     "start_time": "2025-10-13T01:01:12.147437Z"
    }
   },
   "cell_type": "code",
   "source": "!pwd",
   "id": "8b2706841641d57d",
   "outputs": [
    {
     "name": "stdout",
     "output_type": "stream",
     "text": [
      "/Users/nikitapolomosnov/PycharmProjects/GRAIL/notebooks\r\n"
     ]
    }
   ],
   "execution_count": 9
  },
  {
   "metadata": {
    "ExecuteTime": {
     "end_time": "2025-10-13T01:01:17.599540Z",
     "start_time": "2025-10-13T01:01:17.436123Z"
    }
   },
   "cell_type": "code",
   "source": "sample = uspto_frame.sample_maps(frac=0.001)",
   "id": "e77166bd1d4c56b1",
   "outputs": [],
   "execution_count": 10
  },
  {
   "metadata": {
    "ExecuteTime": {
     "end_time": "2025-10-13T01:01:22.793970Z",
     "start_time": "2025-10-13T01:01:19.796863Z"
    }
   },
   "cell_type": "code",
   "source": "sample.morganize()",
   "id": "65ab4658b10410f7",
   "outputs": [
    {
     "data": {
      "text/plain": [
       "  0%|          | 0/984 [00:00<?, ?it/s]"
      ],
      "application/vnd.jupyter.widget-view+json": {
       "version_major": 2,
       "version_minor": 0,
       "model_id": "cb5e7639dea2488aa7b4b0b6ff4fce6a"
      }
     },
     "metadata": {},
     "output_type": "display_data"
    }
   ],
   "execution_count": 11
  },
  {
   "metadata": {
    "ExecuteTime": {
     "end_time": "2025-10-12T23:47:27.986591Z",
     "start_time": "2025-10-12T23:47:04.636196Z"
    }
   },
   "cell_type": "code",
   "source": "!{sys.executable} -m pip install 'numpy<2'",
   "id": "9ed88b1230ca5a75",
   "outputs": [
    {
     "name": "stdout",
     "output_type": "stream",
     "text": [
      "Collecting numpy<2\r\n",
      "  Downloading numpy-1.26.4-cp310-cp310-macosx_11_0_arm64.whl.metadata (61 kB)\r\n",
      "Downloading numpy-1.26.4-cp310-cp310-macosx_11_0_arm64.whl (14.0 MB)\r\n",
      "\u001B[2K   \u001B[38;2;114;156;31m━━━━━━━━━━━━━━━━━━━━━━━━━━━━━━━━━━━━━━━━\u001B[0m \u001B[32m14.0/14.0 MB\u001B[0m \u001B[31m803.9 kB/s\u001B[0m eta \u001B[36m0:00:00\u001B[0m[36m0:00:01\u001B[0m[36m0:00:01\u001B[0m:02\u001B[0m\r\n",
      "\u001B[?25hInstalling collected packages: numpy\r\n",
      "  Attempting uninstall: numpy\r\n",
      "    Found existing installation: numpy 2.0.0\r\n",
      "    Uninstalling numpy-2.0.0:\r\n",
      "      Successfully uninstalled numpy-2.0.0\r\n",
      "\u001B[31mERROR: pip's dependency resolver does not currently take into account all the packages that are installed. This behaviour is the source of the following dependency conflicts.\r\n",
      "aizynthfinder 4.3.1 requires networkx<3.0,>=2.4, but you have networkx 3.4.2 which is incompatible.\r\n",
      "aizynthfinder 4.3.1 requires pandas<2.0.0,>=1.0.0, but you have pandas 2.3.0 which is incompatible.\r\n",
      "aizynthfinder 4.3.1 requires pillow<10.0.0,>=9.0.0, but you have pillow 11.2.1 which is incompatible.\r\n",
      "aizynthfinder 4.3.1 requires rdkit<2023.0.0,>=2022.3.3, but you have rdkit 2024.9.6 which is incompatible.\r\n",
      "pytorch-lightning 1.6.5.post0 requires protobuf<=3.20.1, but you have protobuf 6.31.1 which is incompatible.\r\n",
      "route-distances 1.2.1 requires pandas<2.0.0,>=1.5.0, but you have pandas 2.3.0 which is incompatible.\r\n",
      "route-distances 1.2.1 requires rdkit<2023.0.0,>=2022.3.3, but you have rdkit 2024.9.6 which is incompatible.\r\n",
      "route-distances 1.2.1 requires torch<2.0.0,>=1.7.1, but you have torch 2.7.1 which is incompatible.\u001B[0m\u001B[31m\r\n",
      "\u001B[0mSuccessfully installed numpy-1.26.4\r\n"
     ]
    }
   ],
   "execution_count": 16
  },
  {
   "metadata": {
    "ExecuteTime": {
     "end_time": "2025-10-13T01:02:21.583313Z",
     "start_time": "2025-10-13T01:02:21.557864Z"
    }
   },
   "cell_type": "code",
   "source": "sample.permute_augmentation(cutoff=None)",
   "id": "1c1be8edf4d5e4cd",
   "outputs": [
    {
     "ename": "NameError",
     "evalue": "name 'sample' is not defined",
     "output_type": "error",
     "traceback": [
      "\u001B[0;31m---------------------------------------------------------------------------\u001B[0m",
      "\u001B[0;31mNameError\u001B[0m                                 Traceback (most recent call last)",
      "Cell \u001B[0;32mIn[3], line 1\u001B[0m\n\u001B[0;32m----> 1\u001B[0m \u001B[43msample\u001B[49m\u001B[38;5;241m.\u001B[39mpermute_augmentation(cutoff\u001B[38;5;241m=\u001B[39m\u001B[38;5;28;01mNone\u001B[39;00m)\n",
      "\u001B[0;31mNameError\u001B[0m: name 'sample' is not defined"
     ]
    }
   ],
   "execution_count": 3
  },
  {
   "metadata": {
    "ExecuteTime": {
     "end_time": "2025-05-16T23:19:06.759869Z",
     "start_time": "2025-05-16T23:19:06.701574Z"
    }
   },
   "cell_type": "code",
   "source": "sample",
   "id": "252437ccd7a43b4",
   "outputs": [
    {
     "data": {
      "text/plain": [
       "MolFrame: 573 substrates"
      ]
     },
     "execution_count": 12,
     "metadata": {},
     "output_type": "execute_result"
    }
   ],
   "execution_count": 12
  },
  {
   "metadata": {},
   "cell_type": "code",
   "outputs": [],
   "execution_count": null,
   "source": "",
   "id": "4455bc38e78a03b0"
  }
 ],
 "metadata": {
  "kernelspec": {
   "display_name": "Synthon",
   "language": "python",
   "name": "aizynth-env"
  },
  "language_info": {
   "codemirror_mode": {
    "name": "ipython",
    "version": 2
   },
   "file_extension": ".py",
   "mimetype": "text/x-python",
   "name": "python",
   "nbconvert_exporter": "python",
   "pygments_lexer": "ipython2",
   "version": "2.7.6"
  }
 },
 "nbformat": 4,
 "nbformat_minor": 5
}
