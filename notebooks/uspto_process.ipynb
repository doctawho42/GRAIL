{
 "cells": [
  {
   "cell_type": "code",
   "id": "initial_id",
   "metadata": {
    "collapsed": true,
    "ExecuteTime": {
     "end_time": "2025-05-16T23:11:53.051953Z",
     "start_time": "2025-05-16T23:11:53.046984Z"
    }
   },
   "source": [
    "import sys\n",
    "sys.path.append('../')"
   ],
   "outputs": [],
   "execution_count": 1
  },
  {
   "metadata": {
    "ExecuteTime": {
     "end_time": "2025-05-16T23:11:58.025636Z",
     "start_time": "2025-05-16T23:11:54.604870Z"
    }
   },
   "cell_type": "code",
   "source": [
    "import pandas as pd\n",
    "import numpy as np\n",
    "from grail_metabolism.utils.preparation import MolFrame\n",
    "from tqdm.auto import tqdm"
   ],
   "id": "2415e206b9471d77",
   "outputs": [
    {
     "name": "stdout",
     "output_type": "stream",
     "text": [
      "ATTENTION: RXNMapper is not installed. Please install it first if you want to create your own set of rules.\n",
      "ATTENTION: you use incorrect for rxnmapper version of rdkit\n"
     ]
    }
   ],
   "execution_count": 2
  },
  {
   "metadata": {
    "ExecuteTime": {
     "end_time": "2025-05-16T23:13:14.728667Z",
     "start_time": "2025-05-16T23:12:01.766016Z"
    }
   },
   "cell_type": "code",
   "source": [
    "import pickle as pkl\n",
    "uspto = pkl.load(open('../notebooks/uspto.pkl', 'rb'))"
   ],
   "id": "8649889e13ca80c",
   "outputs": [],
   "execution_count": 3
  },
  {
   "metadata": {},
   "cell_type": "code",
   "outputs": [],
   "execution_count": null,
   "source": "print(uspto)",
   "id": "2f1bc73766929a73"
  },
  {
   "metadata": {
    "ExecuteTime": {
     "end_time": "2025-05-16T23:14:05.670642Z",
     "start_time": "2025-05-16T23:13:19.698926Z"
    }
   },
   "cell_type": "code",
   "source": [
    "mol_structs = {}\n",
    "for _, row in tqdm(uspto.iterrows(), total=len(uspto)):\n",
    "    mol_structs[row['sub']] = row['sub_mol']\n",
    "    mol_structs[row['prod']] = row['prod_mol']"
   ],
   "id": "b1c59226d8da984",
   "outputs": [
    {
     "data": {
      "text/plain": [
       "  0%|          | 0/1798556 [00:00<?, ?it/s]"
      ],
      "application/vnd.jupyter.widget-view+json": {
       "version_major": 2,
       "version_minor": 0,
       "model_id": "d7b8a5dd0ddc45158815fb03b7477f7d"
      }
     },
     "metadata": {},
     "output_type": "display_data"
    }
   ],
   "execution_count": 4
  },
  {
   "metadata": {
    "ExecuteTime": {
     "end_time": "2025-05-16T23:14:08.590840Z",
     "start_time": "2025-05-16T23:14:08.575745Z"
    }
   },
   "cell_type": "code",
   "source": "uspto['real'] = np.ones(len(uspto)).astype(int)",
   "id": "3cef6f84b9643207",
   "outputs": [],
   "execution_count": 5
  },
  {
   "metadata": {
    "ExecuteTime": {
     "end_time": "2025-05-16T23:17:12.982905Z",
     "start_time": "2025-05-16T23:14:10.144599Z"
    }
   },
   "cell_type": "code",
   "source": "uspto_frame = MolFrame(uspto, mol_structs=mol_structs, standartize=False)",
   "id": "f8a4853e3e07b9a5",
   "outputs": [
    {
     "data": {
      "text/plain": [
       "Processing reactions:   0%|          | 0/573055 [00:00<?, ?it/s]"
      ],
      "application/vnd.jupyter.widget-view+json": {
       "version_major": 2,
       "version_minor": 0,
       "model_id": "fb88cee5a1b94056bb34b9cf189984c2"
      }
     },
     "metadata": {},
     "output_type": "display_data"
    }
   ],
   "execution_count": 6
  },
  {
   "metadata": {
    "ExecuteTime": {
     "end_time": "2025-05-16T23:17:48.621665Z",
     "start_time": "2025-05-16T23:17:48.570322Z"
    }
   },
   "cell_type": "code",
   "source": "sample = uspto_frame.sample_maps(frac=0.001)",
   "id": "e77166bd1d4c56b1",
   "outputs": [],
   "execution_count": 9
  },
  {
   "metadata": {
    "ExecuteTime": {
     "end_time": "2025-05-16T23:17:56.574651Z",
     "start_time": "2025-05-16T23:17:54.422783Z"
    }
   },
   "cell_type": "code",
   "source": "sample.morganize()",
   "id": "65ab4658b10410f7",
   "outputs": [
    {
     "data": {
      "text/plain": [
       "  0%|          | 0/1483 [00:00<?, ?it/s]"
      ],
      "application/vnd.jupyter.widget-view+json": {
       "version_major": 2,
       "version_minor": 0,
       "model_id": "82e209c8bf124426839db6c0f31f721c"
      }
     },
     "metadata": {},
     "output_type": "display_data"
    }
   ],
   "execution_count": 10
  },
  {
   "metadata": {
    "ExecuteTime": {
     "end_time": "2025-05-16T23:18:59.921939Z",
     "start_time": "2025-05-16T23:18:03.068829Z"
    }
   },
   "cell_type": "code",
   "source": "sample.permute_augmentation(cutoff=None)",
   "id": "1c1be8edf4d5e4cd",
   "outputs": [
    {
     "data": {
      "text/plain": [
       "  0%|          | 0/1483 [00:00<?, ?it/s]"
      ],
      "application/vnd.jupyter.widget-view+json": {
       "version_major": 2,
       "version_minor": 0,
       "model_id": "15ba65fa433f4dac88a7901916cd2161"
      }
     },
     "metadata": {},
     "output_type": "display_data"
    },
    {
     "data": {
      "text/plain": [
       "  0%|          | 0/573 [00:00<?, ?it/s]"
      ],
      "application/vnd.jupyter.widget-view+json": {
       "version_major": 2,
       "version_minor": 0,
       "model_id": "62446b87061a4e43ad12f3be7e5fb62c"
      }
     },
     "metadata": {},
     "output_type": "display_data"
    },
    {
     "data": {
      "text/plain": [
       "  0%|          | 0/910 [00:00<?, ?it/s]"
      ],
      "application/vnd.jupyter.widget-view+json": {
       "version_major": 2,
       "version_minor": 0,
       "model_id": "0255cd899aa543d18de8356d275e18bd"
      }
     },
     "metadata": {},
     "output_type": "display_data"
    }
   ],
   "execution_count": 11
  },
  {
   "metadata": {
    "ExecuteTime": {
     "end_time": "2025-05-16T23:19:06.759869Z",
     "start_time": "2025-05-16T23:19:06.701574Z"
    }
   },
   "cell_type": "code",
   "source": "sample",
   "id": "252437ccd7a43b4",
   "outputs": [
    {
     "data": {
      "text/plain": [
       "MolFrame: 573 substrates"
      ]
     },
     "execution_count": 12,
     "metadata": {},
     "output_type": "execute_result"
    }
   ],
   "execution_count": 12
  },
  {
   "metadata": {},
   "cell_type": "code",
   "outputs": [],
   "execution_count": null,
   "source": "",
   "id": "4455bc38e78a03b0"
  }
 ],
 "metadata": {
  "kernelspec": {
   "display_name": "Synthon",
   "language": "python",
   "name": "aizynth-env"
  },
  "language_info": {
   "codemirror_mode": {
    "name": "ipython",
    "version": 2
   },
   "file_extension": ".py",
   "mimetype": "text/x-python",
   "name": "python",
   "nbconvert_exporter": "python",
   "pygments_lexer": "ipython2",
   "version": "2.7.6"
  }
 },
 "nbformat": 4,
 "nbformat_minor": 5
}
